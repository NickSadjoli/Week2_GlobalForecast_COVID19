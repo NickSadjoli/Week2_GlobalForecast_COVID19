{
 "nbformat": 4,
 "nbformat_minor": 2,
 "metadata": {
  "language_info": {
   "name": "python",
   "codemirror_mode": {
    "name": "ipython",
    "version": 3
   },
   "version": "3.6.9-final"
  },
  "orig_nbformat": 2,
  "file_extension": ".py",
  "mimetype": "text/x-python",
  "name": "python",
  "npconvert_exporter": "python",
  "pygments_lexer": "ipython3",
  "version": 3,
  "kernelspec": {
   "name": "python36964bitcovid19forecastvirtualenvb3ff07c470b54162a144309f090d5d1b",
   "display_name": "Python 3.6.9 64-bit ('covid19_forecast': virtualenv)"
  }
 },
 "cells": [
  {
   "cell_type": "markdown",
   "metadata": {},
   "source": [
    "# Week 3 COVID-19 Prediction with Interpret_ML\n",
    "This notebook will describe attempt at predicting the amount of Confirmed and Fatalities for the 3rd week of the COVID-19 Kaggle Competition, using models created from the [Interpret_ML toolbox](https://github.com/interpretml/interpret)\n",
    "\n",
    "## Data Sources & Collection\n",
    "We're using data that was collected or scraped from various sources, some of which are courtesy of work already done by other people that will be credited. Other data that we're presenting (and will be appending to the training data) are collected from multiple other sources, using some tools as can be seen in the Github page [here](). The list of sources as well as the sources that we'll be featuring in this notebook are listed here, namely:\n",
    "\n",
    "1. [Worldometer Coronavirus page](https://www.worldometers.info/coronavirus/), which we believe contains the most updated information on the number of Confirmed and Fatalities that happen globally. As of 5 April, noted to have been updated to contain the latest amount of tests that happen globally, however noted that no time series for all countries are provided yet (in Worldometer itself).\n",
    "2. Global climate Data from [Worldbank](https://datahelpdesk.worldbank.org/knowledgebase/articles/902061-climate-data-api). As explained a bit later in the notebook, we believe that a country's current climate condition might have a bit of effect on the spread of the virus.\n",
    "3. [Our World in Data](https://ourworldindata.org/covid-testing), who has provided quite an updated time series for the recorded tests conducted by many countries for COVID-19. It is to be noted however, due to not all countries having released test data, only several countries could have their data imputed (and not by region)\n",
    "4. [The COVID Tracking Project](https://covidtracking.com/ ), to specifically provide data COVID-19 testing that has so far been recorded in the US. It is noted and understood that this will only be helping mainly to predict the outcome in US and its region\n",
    "\n",
    "## Loading of Interpret_ML.\n",
    "First ensure that the Interpret_ML toolbox is installed with pip   "
   ]
  },
  {
   "cell_type": "code",
   "execution_count": 2,
   "metadata": {
    "tags": [
     "outputPrepend",
     "outputPrepend"
    ]
   },
   "outputs": [
    {
     "output_type": "stream",
     "name": "stdout",
     "text": "ckages (from interpret-core[dash,debug,decisiontree,ebm,lime,linear,notebook,plotly,required,sensitivity,shap,treeinterpreter]>=0.1.21->interpret) (0.1.1.37)\nRequirement already satisfied, skipping upgrade: ipykernel>=5.1.0; extra == \"notebook\" in /home/nick_sadjoli/.virtualenvs/covid19_forecast/lib/python3.6/site-packages (from interpret-core[dash,debug,decisiontree,ebm,lime,linear,notebook,plotly,required,sensitivity,shap,treeinterpreter]>=0.1.21->interpret) (5.2.0)\nRequirement already satisfied, skipping upgrade: ipython>=7.4.0; extra == \"notebook\" in /home/nick_sadjoli/.virtualenvs/covid19_forecast/lib/python3.6/site-packages (from interpret-core[dash,debug,decisiontree,ebm,lime,linear,notebook,plotly,required,sensitivity,shap,treeinterpreter]>=0.1.21->interpret) (7.13.0)\nRequirement already satisfied, skipping upgrade: plotly>=3.8.1; extra == \"plotly\" in /home/nick_sadjoli/.virtualenvs/covid19_forecast/lib/python3.6/site-packages (from interpret-core[dash,debug,decisiontree,ebm,lime,linear,notebook,plotly,required,sensitivity,shap,treeinterpreter]>=0.1.21->interpret) (4.5.4)\nRequirement already satisfied, skipping upgrade: pandas>=0.19.2; extra == \"required\" in /home/nick_sadjoli/.virtualenvs/covid19_forecast/lib/python3.6/site-packages (from interpret-core[dash,debug,decisiontree,ebm,lime,linear,notebook,plotly,required,sensitivity,shap,treeinterpreter]>=0.1.21->interpret) (1.0.3)\nRequirement already satisfied, skipping upgrade: numpy>=1.11.1; extra == \"required\" in /home/nick_sadjoli/.virtualenvs/covid19_forecast/lib/python3.6/site-packages (from interpret-core[dash,debug,decisiontree,ebm,lime,linear,notebook,plotly,required,sensitivity,shap,treeinterpreter]>=0.1.21->interpret) (1.18.2)\nRequirement already satisfied, skipping upgrade: scikit-learn>=0.18.1; extra == \"required\" in /home/nick_sadjoli/.virtualenvs/covid19_forecast/lib/python3.6/site-packages (from interpret-core[dash,debug,decisiontree,ebm,lime,linear,notebook,plotly,required,sensitivity,shap,treeinterpreter]>=0.1.21->interpret) (0.22.2.post1)\nRequirement already satisfied, skipping upgrade: scipy>=0.18.1; extra == \"required\" in /home/nick_sadjoli/.virtualenvs/covid19_forecast/lib/python3.6/site-packages (from interpret-core[dash,debug,decisiontree,ebm,lime,linear,notebook,plotly,required,sensitivity,shap,treeinterpreter]>=0.1.21->interpret) (1.4.1)\nRequirement already satisfied, skipping upgrade: SALib>=1.3.3; extra == \"sensitivity\" in /home/nick_sadjoli/.virtualenvs/covid19_forecast/lib/python3.6/site-packages (from interpret-core[dash,debug,decisiontree,ebm,lime,linear,notebook,plotly,required,sensitivity,shap,treeinterpreter]>=0.1.21->interpret) (1.3.8)\nRequirement already satisfied, skipping upgrade: shap>=0.28.5; extra == \"shap\" in /home/nick_sadjoli/.virtualenvs/covid19_forecast/lib/python3.6/site-packages (from interpret-core[dash,debug,decisiontree,ebm,lime,linear,notebook,plotly,required,sensitivity,shap,treeinterpreter]>=0.1.21->interpret) (0.35.0)\nRequirement already satisfied, skipping upgrade: dill>=0.2.5; extra == \"shap\" in /home/nick_sadjoli/.virtualenvs/covid19_forecast/lib/python3.6/site-packages (from interpret-core[dash,debug,decisiontree,ebm,lime,linear,notebook,plotly,required,sensitivity,shap,treeinterpreter]>=0.1.21->interpret) (0.3.1.1)\nRequirement already satisfied, skipping upgrade: treeinterpreter>=0.2.2; extra == \"treeinterpreter\" in /home/nick_sadjoli/.virtualenvs/covid19_forecast/lib/python3.6/site-packages (from interpret-core[dash,debug,decisiontree,ebm,lime,linear,notebook,plotly,required,sensitivity,shap,treeinterpreter]>=0.1.21->interpret) (0.2.2)\nRequirement already satisfied, skipping upgrade: idna<3,>=2.5 in /home/nick_sadjoli/.virtualenvs/covid19_forecast/lib/python3.6/site-packages (from requests>=2.19.0; extra == \"dash\"->interpret-core[dash,debug,decisiontree,ebm,lime,linear,notebook,plotly,required,sensitivity,shap,treeinterpreter]>=0.1.21->interpret) (2.9)\nRequirement already satisfied, skipping upgrade: chardet<4,>=3.0.2 in /home/nick_sadjoli/.virtualenvs/covid19_forecast/lib/python3.6/site-packages (from requests>=2.19.0; extra == \"dash\"->interpret-core[dash,debug,decisiontree,ebm,lime,linear,notebook,plotly,required,sensitivity,shap,treeinterpreter]>=0.1.21->interpret) (3.0.4)\nRequirement already satisfied, skipping upgrade: certifi>=2017.4.17 in /home/nick_sadjoli/.virtualenvs/covid19_forecast/lib/python3.6/site-packages (from requests>=2.19.0; extra == \"dash\"->interpret-core[dash,debug,decisiontree,ebm,lime,linear,notebook,plotly,required,sensitivity,shap,treeinterpreter]>=0.1.21->interpret) (2019.11.28)\nRequirement already satisfied, skipping upgrade: urllib3!=1.25.0,!=1.25.1,<1.26,>=1.21.1 in /home/nick_sadjoli/.virtualenvs/covid19_forecast/lib/python3.6/site-packages (from requests>=2.19.0; extra == \"dash\"->interpret-core[dash,debug,decisiontree,ebm,lime,linear,notebook,plotly,required,sensitivity,shap,treeinterpreter]>=0.1.21->interpret) (1.25.8)\nRequirement already satisfied, skipping upgrade: flask-compress in /home/nick_sadjoli/.virtualenvs/covid19_forecast/lib/python3.6/site-packages (from dash>=1.0.0; extra == \"dash\"->interpret-core[dash,debug,decisiontree,ebm,lime,linear,notebook,plotly,required,sensitivity,shap,treeinterpreter]>=0.1.21->interpret) (1.4.0)\nRequirement already satisfied, skipping upgrade: future in /home/nick_sadjoli/.virtualenvs/covid19_forecast/lib/python3.6/site-packages (from dash>=1.0.0; extra == \"dash\"->interpret-core[dash,debug,decisiontree,ebm,lime,linear,notebook,plotly,required,sensitivity,shap,treeinterpreter]>=0.1.21->interpret) (0.18.2)\nRequirement already satisfied, skipping upgrade: dash-core-components==1.8.1 in /home/nick_sadjoli/.virtualenvs/covid19_forecast/lib/python3.6/site-packages (from dash>=1.0.0; extra == \"dash\"->interpret-core[dash,debug,decisiontree,ebm,lime,linear,notebook,plotly,required,sensitivity,shap,treeinterpreter]>=0.1.21->interpret) (1.8.1)\nRequirement already satisfied, skipping upgrade: Flask>=1.0.2 in /home/nick_sadjoli/.virtualenvs/covid19_forecast/lib/python3.6/site-packages (from dash>=1.0.0; extra == \"dash\"->interpret-core[dash,debug,decisiontree,ebm,lime,linear,notebook,plotly,required,sensitivity,shap,treeinterpreter]>=0.1.21->interpret) (1.1.1)\nRequirement already satisfied, skipping upgrade: dash-html-components==1.0.2 in /home/nick_sadjoli/.virtualenvs/covid19_forecast/lib/python3.6/site-packages (from dash>=1.0.0; extra == \"dash\"->interpret-core[dash,debug,decisiontree,ebm,lime,linear,notebook,plotly,required,sensitivity,shap,treeinterpreter]>=0.1.21->interpret) (1.0.2)\nRequirement already satisfied, skipping upgrade: dash-renderer==1.2.4 in /home/nick_sadjoli/.virtualenvs/covid19_forecast/lib/python3.6/site-packages (from dash>=1.0.0; extra == \"dash\"->interpret-core[dash,debug,decisiontree,ebm,lime,linear,notebook,plotly,required,sensitivity,shap,treeinterpreter]>=0.1.21->interpret) (1.2.4)\nRequirement already satisfied, skipping upgrade: greenlet>=0.4.14; platform_python_implementation == \"CPython\" in /home/nick_sadjoli/.virtualenvs/covid19_forecast/lib/python3.6/site-packages (from gevent>=1.3.6; extra == \"dash\"->interpret-core[dash,debug,decisiontree,ebm,lime,linear,notebook,plotly,required,sensitivity,shap,treeinterpreter]>=0.1.21->interpret) (0.4.15)\nRequirement already satisfied, skipping upgrade: matplotlib; python_version >= \"3.0\" in /home/nick_sadjoli/.virtualenvs/covid19_forecast/lib/python3.6/site-packages (from lime>=0.1.1.33; extra == \"lime\"->interpret-core[dash,debug,decisiontree,ebm,lime,linear,notebook,plotly,required,sensitivity,shap,treeinterpreter]>=0.1.21->interpret) (3.2.1)\nRequirement already satisfied, skipping upgrade: progressbar in /home/nick_sadjoli/.virtualenvs/covid19_forecast/lib/python3.6/site-packages (from lime>=0.1.1.33; extra == \"lime\"->interpret-core[dash,debug,decisiontree,ebm,lime,linear,notebook,plotly,required,sensitivity,shap,treeinterpreter]>=0.1.21->interpret) (2.5)\nRequirement already satisfied, skipping upgrade: scikit-image>=0.12; python_version >= \"3.0\" in /home/nick_sadjoli/.virtualenvs/covid19_forecast/lib/python3.6/site-packages (from lime>=0.1.1.33; extra == \"lime\"->interpret-core[dash,debug,decisiontree,ebm,lime,linear,notebook,plotly,required,sensitivity,shap,treeinterpreter]>=0.1.21->interpret) (0.16.2)\nRequirement already satisfied, skipping upgrade: jupyter-client in /home/nick_sadjoli/.virtualenvs/covid19_forecast/lib/python3.6/site-packages (from ipykernel>=5.1.0; extra == \"notebook\"->interpret-core[dash,debug,decisiontree,ebm,lime,linear,notebook,plotly,required,sensitivity,shap,treeinterpreter]>=0.1.21->interpret) (6.1.2)\nRequirement already satisfied, skipping upgrade: traitlets>=4.1.0 in /home/nick_sadjoli/.virtualenvs/covid19_forecast/lib/python3.6/site-packages (from ipykernel>=5.1.0; extra == \"notebook\"->interpret-core[dash,debug,decisiontree,ebm,lime,linear,notebook,plotly,required,sensitivity,shap,treeinterpreter]>=0.1.21->interpret) (4.3.3)\nRequirement already satisfied, skipping upgrade: tornado>=4.2 in /home/nick_sadjoli/.virtualenvs/covid19_forecast/lib/python3.6/site-packages (from ipykernel>=5.1.0; extra == \"notebook\"->interpret-core[dash,debug,decisiontree,ebm,lime,linear,notebook,plotly,required,sensitivity,shap,treeinterpreter]>=0.1.21->interpret) (6.0.4)\nRequirement already satisfied, skipping upgrade: pexpect; sys_platform != \"win32\" in /home/nick_sadjoli/.virtualenvs/covid19_forecast/lib/python3.6/site-packages (from ipython>=7.4.0; extra == \"notebook\"->interpret-core[dash,debug,decisiontree,ebm,lime,linear,notebook,plotly,required,sensitivity,shap,treeinterpreter]>=0.1.21->interpret) (4.8.0)\nRequirement already satisfied, skipping upgrade: prompt-toolkit!=3.0.0,!=3.0.1,<3.1.0,>=2.0.0 in /home/nick_sadjoli/.virtualenvs/covid19_forecast/lib/python3.6/site-packages (from ipython>=7.4.0; extra == \"notebook\"->interpret-core[dash,debug,decisiontree,ebm,lime,linear,notebook,plotly,required,sensitivity,shap,treeinterpreter]>=0.1.21->interpret) (3.0.5)\nRequirement already satisfied, skipping upgrade: pickleshare in /home/nick_sadjoli/.virtualenvs/covid19_forecast/lib/python3.6/site-packages (from ipython>=7.4.0; extra == \"notebook\"->interpret-core[dash,debug,decisiontree,ebm,lime,linear,notebook,plotly,required,sensitivity,shap,treeinterpreter]>=0.1.21->interpret) (0.7.5)\nRequirement already satisfied, skipping upgrade: pygments in /home/nick_sadjoli/.virtualenvs/covid19_forecast/lib/python3.6/site-packages (from ipython>=7.4.0; extra == \"notebook\"->interpret-core[dash,debug,decisiontree,ebm,lime,linear,notebook,plotly,required,sensitivity,shap,treeinterpreter]>=0.1.21->interpret) (2.6.1)\nRequirement already satisfied, skipping upgrade: backcall in /home/nick_sadjoli/.virtualenvs/covid19_forecast/lib/python3.6/site-packages (from ipython>=7.4.0; extra == \"notebook\"->interpret-core[dash,debug,decisiontree,ebm,lime,linear,notebook,plotly,required,sensitivity,shap,treeinterpreter]>=0.1.21->interpret) (0.1.0)\nRequirement already satisfied, skipping upgrade: decorator in /home/nick_sadjoli/.virtualenvs/covid19_forecast/lib/python3.6/site-packages (from ipython>=7.4.0; extra == \"notebook\"->interpret-core[dash,debug,decisiontree,ebm,lime,linear,notebook,plotly,required,sensitivity,shap,treeinterpreter]>=0.1.21->interpret) (4.4.2)\nRequirement already satisfied, skipping upgrade: jedi>=0.10 in /home/nick_sadjoli/.virtualenvs/covid19_forecast/lib/python3.6/site-packages (from ipython>=7.4.0; extra == \"notebook\"->interpret-core[dash,debug,decisiontree,ebm,lime,linear,notebook,plotly,required,sensitivity,shap,treeinterpreter]>=0.1.21->interpret) (0.16.0)\nRequirement already satisfied, skipping upgrade: setuptools>=18.5 in /home/nick_sadjoli/.virtualenvs/covid19_forecast/lib/python3.6/site-packages (from ipython>=7.4.0; extra == \"notebook\"->interpret-core[dash,debug,decisiontree,ebm,lime,linear,notebook,plotly,required,sensitivity,shap,treeinterpreter]>=0.1.21->interpret) (46.1.3)\nRequirement already satisfied, skipping upgrade: six in /home/nick_sadjoli/.virtualenvs/covid19_forecast/lib/python3.6/site-packages (from plotly>=3.8.1; extra == \"plotly\"->interpret-core[dash,debug,decisiontree,ebm,lime,linear,notebook,plotly,required,sensitivity,shap,treeinterpreter]>=0.1.21->interpret) (1.14.0)\nRequirement already satisfied, skipping upgrade: retrying>=1.3.3 in /home/nick_sadjoli/.virtualenvs/covid19_forecast/lib/python3.6/site-packages (from plotly>=3.8.1; extra == \"plotly\"->interpret-core[dash,debug,decisiontree,ebm,lime,linear,notebook,plotly,required,sensitivity,shap,treeinterpreter]>=0.1.21->interpret) (1.3.3)\nRequirement already satisfied, skipping upgrade: python-dateutil>=2.6.1 in /home/nick_sadjoli/.virtualenvs/covid19_forecast/lib/python3.6/site-packages (from pandas>=0.19.2; extra == \"required\"->interpret-core[dash,debug,decisiontree,ebm,lime,linear,notebook,plotly,required,sensitivity,shap,treeinterpreter]>=0.1.21->interpret) (2.8.1)\nRequirement already satisfied, skipping upgrade: pytz>=2017.2 in /home/nick_sadjoli/.virtualenvs/covid19_forecast/lib/python3.6/site-packages (from pandas>=0.19.2; extra == \"required\"->interpret-core[dash,debug,decisiontree,ebm,lime,linear,notebook,plotly,required,sensitivity,shap,treeinterpreter]>=0.1.21->interpret) (2019.3)\nRequirement already satisfied, skipping upgrade: tqdm>4.25.0 in /home/nick_sadjoli/.virtualenvs/covid19_forecast/lib/python3.6/site-packages (from shap>=0.28.5; extra == \"shap\"->interpret-core[dash,debug,decisiontree,ebm,lime,linear,notebook,plotly,required,sensitivity,shap,treeinterpreter]>=0.1.21->interpret) (4.44.1)\nRequirement already satisfied, skipping upgrade: itsdangerous>=0.24 in /home/nick_sadjoli/.virtualenvs/covid19_forecast/lib/python3.6/site-packages (from Flask>=1.0.2->dash>=1.0.0; extra == \"dash\"->interpret-core[dash,debug,decisiontree,ebm,lime,linear,notebook,plotly,required,sensitivity,shap,treeinterpreter]>=0.1.21->interpret) (1.1.0)\nRequirement already satisfied, skipping upgrade: click>=5.1 in /home/nick_sadjoli/.virtualenvs/covid19_forecast/lib/python3.6/site-packages (from Flask>=1.0.2->dash>=1.0.0; extra == \"dash\"->interpret-core[dash,debug,decisiontree,ebm,lime,linear,notebook,plotly,required,sensitivity,shap,treeinterpreter]>=0.1.21->interpret) (7.1.1)\nRequirement already satisfied, skipping upgrade: Werkzeug>=0.15 in /home/nick_sadjoli/.virtualenvs/covid19_forecast/lib/python3.6/site-packages (from Flask>=1.0.2->dash>=1.0.0; extra == \"dash\"->interpret-core[dash,debug,decisiontree,ebm,lime,linear,notebook,plotly,required,sensitivity,shap,treeinterpreter]>=0.1.21->interpret) (1.0.0)\nRequirement already satisfied, skipping upgrade: Jinja2>=2.10.1 in /home/nick_sadjoli/.virtualenvs/covid19_forecast/lib/python3.6/site-packages (from Flask>=1.0.2->dash>=1.0.0; extra == \"dash\"->interpret-core[dash,debug,decisiontree,ebm,lime,linear,notebook,plotly,required,sensitivity,shap,treeinterpreter]>=0.1.21->interpret) (2.11.1)\nRequirement already satisfied, skipping upgrade: cycler>=0.10 in /home/nick_sadjoli/.virtualenvs/covid19_forecast/lib/python3.6/site-packages (from matplotlib; python_version >= \"3.0\"->lime>=0.1.1.33; extra == \"lime\"->interpret-core[dash,debug,decisiontree,ebm,lime,linear,notebook,plotly,required,sensitivity,shap,treeinterpreter]>=0.1.21->interpret) (0.10.0)\nRequirement already satisfied, skipping upgrade: pyparsing!=2.0.4,!=2.1.2,!=2.1.6,>=2.0.1 in /home/nick_sadjoli/.virtualenvs/covid19_forecast/lib/python3.6/site-packages (from matplotlib; python_version >= \"3.0\"->lime>=0.1.1.33; extra == \"lime\"->interpret-core[dash,debug,decisiontree,ebm,lime,linear,notebook,plotly,required,sensitivity,shap,treeinterpreter]>=0.1.21->interpret) (2.4.6)\nRequirement already satisfied, skipping upgrade: kiwisolver>=1.0.1 in /home/nick_sadjoli/.virtualenvs/covid19_forecast/lib/python3.6/site-packages (from matplotlib; python_version >= \"3.0\"->lime>=0.1.1.33; extra == \"lime\"->interpret-core[dash,debug,decisiontree,ebm,lime,linear,notebook,plotly,required,sensitivity,shap,treeinterpreter]>=0.1.21->interpret) (1.1.0)\nRequirement already satisfied, skipping upgrade: imageio>=2.3.0 in /home/nick_sadjoli/.virtualenvs/covid19_forecast/lib/python3.6/site-packages (from scikit-image>=0.12; python_version >= \"3.0\"->lime>=0.1.1.33; extra == \"lime\"->interpret-core[dash,debug,decisiontree,ebm,lime,linear,notebook,plotly,required,sensitivity,shap,treeinterpreter]>=0.1.21->interpret) (2.8.0)\nRequirement already satisfied, skipping upgrade: PyWavelets>=0.4.0 in /home/nick_sadjoli/.virtualenvs/covid19_forecast/lib/python3.6/site-packages (from scikit-image>=0.12; python_version >= \"3.0\"->lime>=0.1.1.33; extra == \"lime\"->interpret-core[dash,debug,decisiontree,ebm,lime,linear,notebook,plotly,required,sensitivity,shap,treeinterpreter]>=0.1.21->interpret) (1.1.1)\nRequirement already satisfied, skipping upgrade: networkx>=2.0 in /home/nick_sadjoli/.virtualenvs/covid19_forecast/lib/python3.6/site-packages (from scikit-image>=0.12; python_version >= \"3.0\"->lime>=0.1.1.33; extra == \"lime\"->interpret-core[dash,debug,decisiontree,ebm,lime,linear,notebook,plotly,required,sensitivity,shap,treeinterpreter]>=0.1.21->interpret) (2.4)\nRequirement already satisfied, skipping upgrade: pillow>=4.3.0 in /home/nick_sadjoli/.virtualenvs/covid19_forecast/lib/python3.6/site-packages (from scikit-image>=0.12; python_version >= \"3.0\"->lime>=0.1.1.33; extra == \"lime\"->interpret-core[dash,debug,decisiontree,ebm,lime,linear,notebook,plotly,required,sensitivity,shap,treeinterpreter]>=0.1.21->interpret) (7.0.0)\nRequirement already satisfied, skipping upgrade: pyzmq>=13 in /home/nick_sadjoli/.virtualenvs/covid19_forecast/lib/python3.6/site-packages (from jupyter-client->ipykernel>=5.1.0; extra == \"notebook\"->interpret-core[dash,debug,decisiontree,ebm,lime,linear,notebook,plotly,required,sensitivity,shap,treeinterpreter]>=0.1.21->interpret) (19.0.0)\nRequirement already satisfied, skipping upgrade: jupyter-core>=4.6.0 in /home/nick_sadjoli/.virtualenvs/covid19_forecast/lib/python3.6/site-packages (from jupyter-client->ipykernel>=5.1.0; extra == \"notebook\"->interpret-core[dash,debug,decisiontree,ebm,lime,linear,notebook,plotly,required,sensitivity,shap,treeinterpreter]>=0.1.21->interpret) (4.6.3)\nRequirement already satisfied, skipping upgrade: ipython-genutils in /home/nick_sadjoli/.virtualenvs/covid19_forecast/lib/python3.6/site-packages (from traitlets>=4.1.0->ipykernel>=5.1.0; extra == \"notebook\"->interpret-core[dash,debug,decisiontree,ebm,lime,linear,notebook,plotly,required,sensitivity,shap,treeinterpreter]>=0.1.21->interpret) (0.2.0)\nRequirement already satisfied, skipping upgrade: ptyprocess>=0.5 in /home/nick_sadjoli/.virtualenvs/covid19_forecast/lib/python3.6/site-packages (from pexpect; sys_platform != \"win32\"->ipython>=7.4.0; extra == \"notebook\"->interpret-core[dash,debug,decisiontree,ebm,lime,linear,notebook,plotly,required,sensitivity,shap,treeinterpreter]>=0.1.21->interpret) (0.6.0)\nRequirement already satisfied, skipping upgrade: wcwidth in /home/nick_sadjoli/.virtualenvs/covid19_forecast/lib/python3.6/site-packages (from prompt-toolkit!=3.0.0,!=3.0.1,<3.1.0,>=2.0.0->ipython>=7.4.0; extra == \"notebook\"->interpret-core[dash,debug,decisiontree,ebm,lime,linear,notebook,plotly,required,sensitivity,shap,treeinterpreter]>=0.1.21->interpret) (0.1.9)\nRequirement already satisfied, skipping upgrade: parso>=0.5.2 in /home/nick_sadjoli/.virtualenvs/covid19_forecast/lib/python3.6/site-packages (from jedi>=0.10->ipython>=7.4.0; extra == \"notebook\"->interpret-core[dash,debug,decisiontree,ebm,lime,linear,notebook,plotly,required,sensitivity,shap,treeinterpreter]>=0.1.21->interpret) (0.6.2)\nRequirement already satisfied, skipping upgrade: MarkupSafe>=0.23 in /home/nick_sadjoli/.virtualenvs/covid19_forecast/lib/python3.6/site-packages (from Jinja2>=2.10.1->Flask>=1.0.2->dash>=1.0.0; extra == \"dash\"->interpret-core[dash,debug,decisiontree,ebm,lime,linear,notebook,plotly,required,sensitivity,shap,treeinterpreter]>=0.1.21->interpret) (1.1.1)\n"
    }
   ],
   "source": [
    "!pip install -U interpret"
   ]
  },
  {
   "cell_type": "markdown",
   "metadata": {},
   "source": [
    "## 1. Appending of the the Training Dataset with other Features\n",
    "Now that Interpret_ML has been installed, let's first review and take note of the training and test data that has been provided by default, to see what features could be extracted for use later."
   ]
  },
  {
   "cell_type": "code",
   "execution_count": 3,
   "metadata": {},
   "outputs": [
    {
     "output_type": "execute_result",
     "data": {
      "text/plain": "          Id Province_State Country_Region        Date  ConfirmedCases  \\\n0          1            NaN    Afghanistan  2020-01-22             0.0   \n1          2            NaN    Afghanistan  2020-01-23             0.0   \n2          3            NaN    Afghanistan  2020-01-24             0.0   \n3          4            NaN    Afghanistan  2020-01-25             0.0   \n4          5            NaN    Afghanistan  2020-01-26             0.0   \n...      ...            ...            ...         ...             ...   \n23251  32707            NaN       Zimbabwe  2020-04-02             9.0   \n23252  32708            NaN       Zimbabwe  2020-04-03             9.0   \n23253  32709            NaN       Zimbabwe  2020-04-04             9.0   \n23254  32710            NaN       Zimbabwe  2020-04-05             9.0   \n23255  32711            NaN       Zimbabwe  2020-04-06            10.0   \n\n       Fatalities  \n0             0.0  \n1             0.0  \n2             0.0  \n3             0.0  \n4             0.0  \n...           ...  \n23251         1.0  \n23252         1.0  \n23253         1.0  \n23254         1.0  \n23255         1.0  \n\n[23256 rows x 6 columns]",
      "text/html": "<div>\n<style scoped>\n    .dataframe tbody tr th:only-of-type {\n        vertical-align: middle;\n    }\n\n    .dataframe tbody tr th {\n        vertical-align: top;\n    }\n\n    .dataframe thead th {\n        text-align: right;\n    }\n</style>\n<table border=\"1\" class=\"dataframe\">\n  <thead>\n    <tr style=\"text-align: right;\">\n      <th></th>\n      <th>Id</th>\n      <th>Province_State</th>\n      <th>Country_Region</th>\n      <th>Date</th>\n      <th>ConfirmedCases</th>\n      <th>Fatalities</th>\n    </tr>\n  </thead>\n  <tbody>\n    <tr>\n      <th>0</th>\n      <td>1</td>\n      <td>NaN</td>\n      <td>Afghanistan</td>\n      <td>2020-01-22</td>\n      <td>0.0</td>\n      <td>0.0</td>\n    </tr>\n    <tr>\n      <th>1</th>\n      <td>2</td>\n      <td>NaN</td>\n      <td>Afghanistan</td>\n      <td>2020-01-23</td>\n      <td>0.0</td>\n      <td>0.0</td>\n    </tr>\n    <tr>\n      <th>2</th>\n      <td>3</td>\n      <td>NaN</td>\n      <td>Afghanistan</td>\n      <td>2020-01-24</td>\n      <td>0.0</td>\n      <td>0.0</td>\n    </tr>\n    <tr>\n      <th>3</th>\n      <td>4</td>\n      <td>NaN</td>\n      <td>Afghanistan</td>\n      <td>2020-01-25</td>\n      <td>0.0</td>\n      <td>0.0</td>\n    </tr>\n    <tr>\n      <th>4</th>\n      <td>5</td>\n      <td>NaN</td>\n      <td>Afghanistan</td>\n      <td>2020-01-26</td>\n      <td>0.0</td>\n      <td>0.0</td>\n    </tr>\n    <tr>\n      <th>...</th>\n      <td>...</td>\n      <td>...</td>\n      <td>...</td>\n      <td>...</td>\n      <td>...</td>\n      <td>...</td>\n    </tr>\n    <tr>\n      <th>23251</th>\n      <td>32707</td>\n      <td>NaN</td>\n      <td>Zimbabwe</td>\n      <td>2020-04-02</td>\n      <td>9.0</td>\n      <td>1.0</td>\n    </tr>\n    <tr>\n      <th>23252</th>\n      <td>32708</td>\n      <td>NaN</td>\n      <td>Zimbabwe</td>\n      <td>2020-04-03</td>\n      <td>9.0</td>\n      <td>1.0</td>\n    </tr>\n    <tr>\n      <th>23253</th>\n      <td>32709</td>\n      <td>NaN</td>\n      <td>Zimbabwe</td>\n      <td>2020-04-04</td>\n      <td>9.0</td>\n      <td>1.0</td>\n    </tr>\n    <tr>\n      <th>23254</th>\n      <td>32710</td>\n      <td>NaN</td>\n      <td>Zimbabwe</td>\n      <td>2020-04-05</td>\n      <td>9.0</td>\n      <td>1.0</td>\n    </tr>\n    <tr>\n      <th>23255</th>\n      <td>32711</td>\n      <td>NaN</td>\n      <td>Zimbabwe</td>\n      <td>2020-04-06</td>\n      <td>10.0</td>\n      <td>1.0</td>\n    </tr>\n  </tbody>\n</table>\n<p>23256 rows × 6 columns</p>\n</div>"
     },
     "metadata": {},
     "execution_count": 3
    }
   ],
   "source": [
    "import pandas as pd \n",
    "import numpy as np \n",
    "\n",
    "train_default_path = \"./data/train.csv\"\n",
    "test_default_path = \"./data/test.csv\"\n",
    "\n",
    "train_default_data = pd.read_csv(train_default_path)\n",
    "train_default_data"
   ]
  },
  {
   "cell_type": "code",
   "execution_count": 4,
   "metadata": {},
   "outputs": [
    {
     "output_type": "execute_result",
     "data": {
      "text/plain": "       ForecastId Province_State Country_Region        Date\n0               1            NaN    Afghanistan  2020-03-26\n1               2            NaN    Afghanistan  2020-03-27\n2               3            NaN    Afghanistan  2020-03-28\n3               4            NaN    Afghanistan  2020-03-29\n4               5            NaN    Afghanistan  2020-03-30\n...           ...            ...            ...         ...\n13153       13154            NaN       Zimbabwe  2020-05-03\n13154       13155            NaN       Zimbabwe  2020-05-04\n13155       13156            NaN       Zimbabwe  2020-05-05\n13156       13157            NaN       Zimbabwe  2020-05-06\n13157       13158            NaN       Zimbabwe  2020-05-07\n\n[13158 rows x 4 columns]",
      "text/html": "<div>\n<style scoped>\n    .dataframe tbody tr th:only-of-type {\n        vertical-align: middle;\n    }\n\n    .dataframe tbody tr th {\n        vertical-align: top;\n    }\n\n    .dataframe thead th {\n        text-align: right;\n    }\n</style>\n<table border=\"1\" class=\"dataframe\">\n  <thead>\n    <tr style=\"text-align: right;\">\n      <th></th>\n      <th>ForecastId</th>\n      <th>Province_State</th>\n      <th>Country_Region</th>\n      <th>Date</th>\n    </tr>\n  </thead>\n  <tbody>\n    <tr>\n      <th>0</th>\n      <td>1</td>\n      <td>NaN</td>\n      <td>Afghanistan</td>\n      <td>2020-03-26</td>\n    </tr>\n    <tr>\n      <th>1</th>\n      <td>2</td>\n      <td>NaN</td>\n      <td>Afghanistan</td>\n      <td>2020-03-27</td>\n    </tr>\n    <tr>\n      <th>2</th>\n      <td>3</td>\n      <td>NaN</td>\n      <td>Afghanistan</td>\n      <td>2020-03-28</td>\n    </tr>\n    <tr>\n      <th>3</th>\n      <td>4</td>\n      <td>NaN</td>\n      <td>Afghanistan</td>\n      <td>2020-03-29</td>\n    </tr>\n    <tr>\n      <th>4</th>\n      <td>5</td>\n      <td>NaN</td>\n      <td>Afghanistan</td>\n      <td>2020-03-30</td>\n    </tr>\n    <tr>\n      <th>...</th>\n      <td>...</td>\n      <td>...</td>\n      <td>...</td>\n      <td>...</td>\n    </tr>\n    <tr>\n      <th>13153</th>\n      <td>13154</td>\n      <td>NaN</td>\n      <td>Zimbabwe</td>\n      <td>2020-05-03</td>\n    </tr>\n    <tr>\n      <th>13154</th>\n      <td>13155</td>\n      <td>NaN</td>\n      <td>Zimbabwe</td>\n      <td>2020-05-04</td>\n    </tr>\n    <tr>\n      <th>13155</th>\n      <td>13156</td>\n      <td>NaN</td>\n      <td>Zimbabwe</td>\n      <td>2020-05-05</td>\n    </tr>\n    <tr>\n      <th>13156</th>\n      <td>13157</td>\n      <td>NaN</td>\n      <td>Zimbabwe</td>\n      <td>2020-05-06</td>\n    </tr>\n    <tr>\n      <th>13157</th>\n      <td>13158</td>\n      <td>NaN</td>\n      <td>Zimbabwe</td>\n      <td>2020-05-07</td>\n    </tr>\n  </tbody>\n</table>\n<p>13158 rows × 4 columns</p>\n</div>"
     },
     "metadata": {},
     "execution_count": 4
    }
   ],
   "source": [
    "test_default_data = pd.read_csv(test_default_path)\n",
    "test_default_data"
   ]
  },
  {
   "cell_type": "markdown",
   "metadata": {},
   "source": [
    "From looking at these data, it can be seen that the number of previously known number of Confirmed and Fatalities would be the main default features that could be extracted and used. Based on expert opinions as well as various other works however, it seems that these features would not be sufficient in accurately predicting the total amount of Confirmed and Fatalities in the future.\n",
    "\n",
    "Hence, additional data features would be required. In this notebook, several of the additional data features that we've collected can be seen below:\n",
    "\n",
    "### 1.a. Weather features\n",
    "Thanks to the work by [davidbnn92](https://www.kaggle.com/davidbnn92/weather-data/output), a variation of the training data that has been appended with Weather/climate features of all regions has been provided. As noted in their page, these weather data are courtesy of [NOAA GSOD readings](https://www.kaggle.com/noaa/gsod), which has been appended to the trianing data.\n",
    "\n"
   ]
  },
  {
   "cell_type": "code",
   "execution_count": null,
   "metadata": {},
   "outputs": [],
   "source": []
  },
  {
   "cell_type": "markdown",
   "metadata": {},
   "source": [
    "b"
   ]
  },
  {
   "cell_type": "code",
   "execution_count": null,
   "metadata": {},
   "outputs": [],
   "source": []
  },
  {
   "cell_type": "markdown",
   "metadata": {},
   "source": [
    "## Short Introduction to InterpretML\n",
    "InterpretML is ... \n",
    "\n",
    "[TODO: summarize what InterpretML is, and provide some of the model examples that can be used from the InterpretML toolbox]\n",
    "\n",
    "For this notebook, we'll create several models from the [InterpretML toolbox library](https://github.com/interpretml/interpret). These models will be trained using different sets of features (including the default features provided), which will then have their performances be compared to each other.  \n",
    "\n",
    "### 1. Default Features\n",
    "First, we'll create a model that is trained just using the default features provided by the training data. "
   ]
  },
  {
   "cell_type": "code",
   "execution_count": null,
   "metadata": {},
   "outputs": [],
   "source": []
  }
 ]
}