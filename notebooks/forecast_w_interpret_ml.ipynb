{
 "cells": [
  {
   "cell_type": "markdown",
   "metadata": {},
   "source": [
    "# Week 3 COVID-19 Prediction with Interpret_ML\n",
    "This notebook will describe attempt at predicting the amount of Confirmed and Fatalities for the 3rd week of the COVID-19 Kaggle Competition, using models created from the [Interpret_ML toolbox](https://github.com/interpretml/interpret)\n",
    "\n",
    "## Data Sources & Collection\n",
    "We're using data that was collected or scraped from various sources, some of which are courtesy of work already done by other people that will be credited. Other data that we're presenting (and will be appending to the training data) are collected from multiple other sources, using some tools as can be seen in the Github page [here](). The list of sources as well as the sources that we'll be featuring in this notebook are listed here, namely:\n",
    "\n",
    "1. [Worldometer Coronavirus page](https://www.worldometers.info/coronavirus/), which we believe contains the most updated information on the number of Confirmed and Fatalities that happen globally. As of 5 April, noted to have been updated to contain the latest amount of tests that happen globally, however noted that no time series for all countries are provided yet (in Worldometer itself).\n",
    "2. Global climate Data from [Worldbank](https://datahelpdesk.worldbank.org/knowledgebase/articles/902061-climate-data-api). As explained a bit later in the notebook, we believe that a country's current climate condition might have a bit of effect on the spread of the virus.\n",
    "3. [Our World in Data](https://ourworldindata.org/covid-testing), who has provided quite an updated time series for the recorded tests conducted by many countries for COVID-19. It is to be noted however, due to not all countries having released test data, only several countries could have their data imputed (and not by region)\n",
    "4. [The COVID Tracking Project](https://covidtracking.com/ ), to specifically provide data COVID-19 testing that has so far been recorded in the US. It is noted and understood that this will only be helping mainly to predict the outcome in US and its region\n",
    "\n",
    "## Short Introduction to InterpretML\n",
    "[InterpretML](https://github.com/interpretml/interpret) is a Machine Learning toolbox developed by Microsoft Research, with the goal of giving better interpretability to trained Machine Learning models. For COVID-19 forecasting in particular, we believe that this toolbox will provide better understanding of the correlation between many different features and the model's prediction, hopefully helping in answering some of the [scientific questions](https://www.kaggle.com/c/covid19-global-forecasting-week-4/overview/open-scientific-questions) regardng the factors which effect COVID-19 transmission.\n",
    "\n",
    "[TODO: summarize what InterpretML is, and provide some of the model examples that can be used from the InterpretML toolbox]\n",
    "\n",
    "For this notebook, we'll create several models from the [InterpretML toolbox library](https://github.com/interpretml/interpret). These models will be trained using different sets of features (including the default features provided), which will then have their performances be compared to each other.  \n",
    "\n",
    "## Loading of Interpret_ML.\n",
    "First ensure that the Interpret_ML toolbox is installed with pip   "
   ]
  },
  {
   "cell_type": "code",
   "execution_count": 18,
   "metadata": {
    "tags": [
     "outputPrepend"
    ]
   },
   "outputs": [
    {
     "output_type": "stream",
     "name": "stdout",
     "text": "Requirement already up-to-date: interpret in /home/nick_sadjoli/.virtualenvs/covid19_forecast/lib/python3.6/site-packages (0.1.21)\nRequirement already satisfied, skipping upgrade: interpret-core[dash,debug,decisiontree,ebm,lime,linear,notebook,plotly,required,sensitivity,shap,treeinterpreter]>=0.1.21 in /home/nick_sadjoli/.virtualenvs/covid19_forecast/lib/python3.6/site-packages (from interpret) (0.1.21)\nRequirement already satisfied, skipping upgrade: requests>=2.19.0; extra == \"dash\" in /home/nick_sadjoli/.virtualenvs/covid19_forecast/lib/python3.6/site-packages (from interpret-core[dash,debug,decisiontree,ebm,lime,linear,notebook,plotly,required,sensitivity,shap,treeinterpreter]>=0.1.21->interpret) (2.23.0)\nRequirement already satisfied, skipping upgrade: gevent>=1.3.6; extra == \"dash\" in /home/nick_sadjoli/.virtualenvs/covid19_forecast/lib/python3.6/site-packages (from interpret-core[dash,debug,decisiontree,ebm,lime,linear,notebook,plotly,required,sensitivity,shap,treeinterpreter]>=0.1.21->interpret) (1.4.0)\nRequirement already satisfied, skipping upgrade: dash>=1.0.0; extra == \"dash\" in /home/nick_sadjoli/.virtualenvs/covid19_forecast/lib/python3.6/site-packages (from interpret-core[dash,debug,decisiontree,ebm,lime,linear,notebook,plotly,required,sensitivity,shap,treeinterpreter]>=0.1.21->interpret) (1.9.1)\nRequirement already satisfied, skipping upgrade: dash-cytoscape>=0.1.1; extra == \"dash\" in /home/nick_sadjoli/.virtualenvs/covid19_forecast/lib/python3.6/site-packages (from interpret-core[dash,debug,decisiontree,ebm,lime,linear,notebook,plotly,required,sensitivity,shap,treeinterpreter]>=0.1.21->interpret) (0.1.1)\nRequirement already satisfied, skipping upgrade: dash-table>=4.1.0; extra == \"dash\" in /home/nick_sadjoli/.virtualenvs/covid19_forecast/lib/python3.6/site-packages (from interpret-core[dash,debug,decisiontree,ebm,lime,linear,notebook,plotly,required,sensitivity,shap,treeinterpreter]>=0.1.21->interpret) (4.6.1)\nRequirement already satisfied, skipping upgrade: psutil>=5.6.2; extra == \"debug\" in /home/nick_sadjoli/.virtualenvs/covid19_forecast/lib/python3.6/site-packages (from interpret-core[dash,debug,decisiontree,ebm,lime,linear,notebook,plotly,required,sensitivity,shap,treeinterpreter]>=0.1.21->interpret) (5.7.0)\nRequirement already satisfied, skipping upgrade: joblib>=0.11; extra == \"decisiontree\" in /home/nick_sadjoli/.virtualenvs/covid19_forecast/lib/python3.6/site-packages (from interpret-core[dash,debug,decisiontree,ebm,lime,linear,notebook,plotly,required,sensitivity,shap,treeinterpreter]>=0.1.21->interpret) (0.14.1)\nRequirement already satisfied, skipping upgrade: lime>=0.1.1.33; extra == \"lime\" in /home/nick_sadjoli/.virtualenvs/covid19_forecast/lib/python3.6/site-packages (from interpret-core[dash,debug,decisiontree,ebm,lime,linear,notebook,plotly,required,sensitivity,shap,treeinterpreter]>=0.1.21->interpret) (0.1.1.37)\nRequirement already satisfied, skipping upgrade: ipykernel>=5.1.0; extra == \"notebook\" in /home/nick_sadjoli/.virtualenvs/covid19_forecast/lib/python3.6/site-packages (from interpret-core[dash,debug,decisiontree,ebm,lime,linear,notebook,plotly,required,sensitivity,shap,treeinterpreter]>=0.1.21->interpret) (5.2.0)\nRequirement already satisfied, skipping upgrade: ipython>=7.4.0; extra == \"notebook\" in /home/nick_sadjoli/.virtualenvs/covid19_forecast/lib/python3.6/site-packages (from interpret-core[dash,debug,decisiontree,ebm,lime,linear,notebook,plotly,required,sensitivity,shap,treeinterpreter]>=0.1.21->interpret) (7.13.0)\nRequirement already satisfied, skipping upgrade: plotly>=3.8.1; extra == \"plotly\" in /home/nick_sadjoli/.virtualenvs/covid19_forecast/lib/python3.6/site-packages (from interpret-core[dash,debug,decisiontree,ebm,lime,linear,notebook,plotly,required,sensitivity,shap,treeinterpreter]>=0.1.21->interpret) (4.5.4)\nRequirement already satisfied, skipping upgrade: scikit-learn>=0.18.1; extra == \"required\" in /home/nick_sadjoli/.virtualenvs/covid19_forecast/lib/python3.6/site-packages (from interpret-core[dash,debug,decisiontree,ebm,lime,linear,notebook,plotly,required,sensitivity,shap,treeinterpreter]>=0.1.21->interpret) (0.22.2.post1)\nRequirement already satisfied, skipping upgrade: numpy>=1.11.1; extra == \"required\" in /home/nick_sadjoli/.virtualenvs/covid19_forecast/lib/python3.6/site-packages (from interpret-core[dash,debug,decisiontree,ebm,lime,linear,notebook,plotly,required,sensitivity,shap,treeinterpreter]>=0.1.21->interpret) (1.18.2)\nRequirement already satisfied, skipping upgrade: pandas>=0.19.2; extra == \"required\" in /home/nick_sadjoli/.virtualenvs/covid19_forecast/lib/python3.6/site-packages (from interpret-core[dash,debug,decisiontree,ebm,lime,linear,notebook,plotly,required,sensitivity,shap,treeinterpreter]>=0.1.21->interpret) (1.0.3)\nRequirement already satisfied, skipping upgrade: scipy>=0.18.1; extra == \"required\" in /home/nick_sadjoli/.virtualenvs/covid19_forecast/lib/python3.6/site-packages (from interpret-core[dash,debug,decisiontree,ebm,lime,linear,notebook,plotly,required,sensitivity,shap,treeinterpreter]>=0.1.21->interpret) (1.4.1)\nRequirement already satisfied, skipping upgrade: SALib>=1.3.3; extra == \"sensitivity\" in /home/nick_sadjoli/.virtualenvs/covid19_forecast/lib/python3.6/site-packages (from interpret-core[dash,debug,decisiontree,ebm,lime,linear,notebook,plotly,required,sensitivity,shap,treeinterpreter]>=0.1.21->interpret) (1.3.8)\nRequirement already satisfied, skipping upgrade: dill>=0.2.5; extra == \"shap\" in /home/nick_sadjoli/.virtualenvs/covid19_forecast/lib/python3.6/site-packages (from interpret-core[dash,debug,decisiontree,ebm,lime,linear,notebook,plotly,required,sensitivity,shap,treeinterpreter]>=0.1.21->interpret) (0.3.1.1)\nRequirement already satisfied, skipping upgrade: shap>=0.28.5; extra == \"shap\" in /home/nick_sadjoli/.virtualenvs/covid19_forecast/lib/python3.6/site-packages (from interpret-core[dash,debug,decisiontree,ebm,lime,linear,notebook,plotly,required,sensitivity,shap,treeinterpreter]>=0.1.21->interpret) (0.35.0)\nRequirement already satisfied, skipping upgrade: treeinterpreter>=0.2.2; extra == \"treeinterpreter\" in /home/nick_sadjoli/.virtualenvs/covid19_forecast/lib/python3.6/site-packages (from interpret-core[dash,debug,decisiontree,ebm,lime,linear,notebook,plotly,required,sensitivity,shap,treeinterpreter]>=0.1.21->interpret) (0.2.2)\nRequirement already satisfied, skipping upgrade: urllib3!=1.25.0,!=1.25.1,<1.26,>=1.21.1 in /home/nick_sadjoli/.virtualenvs/covid19_forecast/lib/python3.6/site-packages (from requests>=2.19.0; extra == \"dash\"->interpret-core[dash,debug,decisiontree,ebm,lime,linear,notebook,plotly,required,sensitivity,shap,treeinterpreter]>=0.1.21->interpret) (1.25.8)\nRequirement already satisfied, skipping upgrade: chardet<4,>=3.0.2 in /home/nick_sadjoli/.virtualenvs/covid19_forecast/lib/python3.6/site-packages (from requests>=2.19.0; extra == \"dash\"->interpret-core[dash,debug,decisiontree,ebm,lime,linear,notebook,plotly,required,sensitivity,shap,treeinterpreter]>=0.1.21->interpret) (3.0.4)\nRequirement already satisfied, skipping upgrade: idna<3,>=2.5 in /home/nick_sadjoli/.virtualenvs/covid19_forecast/lib/python3.6/site-packages (from requests>=2.19.0; extra == \"dash\"->interpret-core[dash,debug,decisiontree,ebm,lime,linear,notebook,plotly,required,sensitivity,shap,treeinterpreter]>=0.1.21->interpret) (2.9)\nRequirement already satisfied, skipping upgrade: certifi>=2017.4.17 in /home/nick_sadjoli/.virtualenvs/covid19_forecast/lib/python3.6/site-packages (from requests>=2.19.0; extra == \"dash\"->interpret-core[dash,debug,decisiontree,ebm,lime,linear,notebook,plotly,required,sensitivity,shap,treeinterpreter]>=0.1.21->interpret) (2019.11.28)\nRequirement already satisfied, skipping upgrade: greenlet>=0.4.14; platform_python_implementation == \"CPython\" in /home/nick_sadjoli/.virtualenvs/covid19_forecast/lib/python3.6/site-packages (from gevent>=1.3.6; extra == \"dash\"->interpret-core[dash,debug,decisiontree,ebm,lime,linear,notebook,plotly,required,sensitivity,shap,treeinterpreter]>=0.1.21->interpret) (0.4.15)\nRequirement already satisfied, skipping upgrade: Flask>=1.0.2 in /home/nick_sadjoli/.virtualenvs/covid19_forecast/lib/python3.6/site-packages (from dash>=1.0.0; extra == \"dash\"->interpret-core[dash,debug,decisiontree,ebm,lime,linear,notebook,plotly,required,sensitivity,shap,treeinterpreter]>=0.1.21->interpret) (1.1.1)\nRequirement already satisfied, skipping upgrade: future in /home/nick_sadjoli/.virtualenvs/covid19_forecast/lib/python3.6/site-packages (from dash>=1.0.0; extra == \"dash\"->interpret-core[dash,debug,decisiontree,ebm,lime,linear,notebook,plotly,required,sensitivity,shap,treeinterpreter]>=0.1.21->interpret) (0.18.2)\nRequirement already satisfied, skipping upgrade: dash-core-components==1.8.1 in /home/nick_sadjoli/.virtualenvs/covid19_forecast/lib/python3.6/site-packages (from dash>=1.0.0; extra == \"dash\"->interpret-core[dash,debug,decisiontree,ebm,lime,linear,notebook,plotly,required,sensitivity,shap,treeinterpreter]>=0.1.21->interpret) (1.8.1)\nRequirement already satisfied, skipping upgrade: dash-html-components==1.0.2 in /home/nick_sadjoli/.virtualenvs/covid19_forecast/lib/python3.6/site-packages (from dash>=1.0.0; extra == \"dash\"->interpret-core[dash,debug,decisiontree,ebm,lime,linear,notebook,plotly,required,sensitivity,shap,treeinterpreter]>=0.1.21->interpret) (1.0.2)\nRequirement already satisfied, skipping upgrade: dash-renderer==1.2.4 in /home/nick_sadjoli/.virtualenvs/covid19_forecast/lib/python3.6/site-packages (from dash>=1.0.0; extra == \"dash\"->interpret-core[dash,debug,decisiontree,ebm,lime,linear,notebook,plotly,required,sensitivity,shap,treeinterpreter]>=0.1.21->interpret) (1.2.4)\nRequirement already satisfied, skipping upgrade: flask-compress in /home/nick_sadjoli/.virtualenvs/covid19_forecast/lib/python3.6/site-packages (from dash>=1.0.0; extra == \"dash\"->interpret-core[dash,debug,decisiontree,ebm,lime,linear,notebook,plotly,required,sensitivity,shap,treeinterpreter]>=0.1.21->interpret) (1.4.0)\nRequirement already satisfied, skipping upgrade: scikit-image>=0.12; python_version >= \"3.0\" in /home/nick_sadjoli/.virtualenvs/covid19_forecast/lib/python3.6/site-packages (from lime>=0.1.1.33; extra == \"lime\"->interpret-core[dash,debug,decisiontree,ebm,lime,linear,notebook,plotly,required,sensitivity,shap,treeinterpreter]>=0.1.21->interpret) (0.16.2)\nRequirement already satisfied, skipping upgrade: progressbar in /home/nick_sadjoli/.virtualenvs/covid19_forecast/lib/python3.6/site-packages (from lime>=0.1.1.33; extra == \"lime\"->interpret-core[dash,debug,decisiontree,ebm,lime,linear,notebook,plotly,required,sensitivity,shap,treeinterpreter]>=0.1.21->interpret) (2.5)\nRequirement already satisfied, skipping upgrade: matplotlib; python_version >= \"3.0\" in /home/nick_sadjoli/.virtualenvs/covid19_forecast/lib/python3.6/site-packages (from lime>=0.1.1.33; extra == \"lime\"->interpret-core[dash,debug,decisiontree,ebm,lime,linear,notebook,plotly,required,sensitivity,shap,treeinterpreter]>=0.1.21->interpret) (3.2.1)\nRequirement already satisfied, skipping upgrade: traitlets>=4.1.0 in /home/nick_sadjoli/.virtualenvs/covid19_forecast/lib/python3.6/site-packages (from ipykernel>=5.1.0; extra == \"notebook\"->interpret-core[dash,debug,decisiontree,ebm,lime,linear,notebook,plotly,required,sensitivity,shap,treeinterpreter]>=0.1.21->interpret) (4.3.3)\nRequirement already satisfied, skipping upgrade: tornado>=4.2 in /home/nick_sadjoli/.virtualenvs/covid19_forecast/lib/python3.6/site-packages (from ipykernel>=5.1.0; extra == \"notebook\"->interpret-core[dash,debug,decisiontree,ebm,lime,linear,notebook,plotly,required,sensitivity,shap,treeinterpreter]>=0.1.21->interpret) (6.0.4)\nRequirement already satisfied, skipping upgrade: jupyter-client in /home/nick_sadjoli/.virtualenvs/covid19_forecast/lib/python3.6/site-packages (from ipykernel>=5.1.0; extra == \"notebook\"->interpret-core[dash,debug,decisiontree,ebm,lime,linear,notebook,plotly,required,sensitivity,shap,treeinterpreter]>=0.1.21->interpret) (6.1.2)\nRequirement already satisfied, skipping upgrade: pickleshare in /home/nick_sadjoli/.virtualenvs/covid19_forecast/lib/python3.6/site-packages (from ipython>=7.4.0; extra == \"notebook\"->interpret-core[dash,debug,decisiontree,ebm,lime,linear,notebook,plotly,required,sensitivity,shap,treeinterpreter]>=0.1.21->interpret) (0.7.5)\nRequirement already satisfied, skipping upgrade: pexpect; sys_platform != \"win32\" in /home/nick_sadjoli/.virtualenvs/covid19_forecast/lib/python3.6/site-packages (from ipython>=7.4.0; extra == \"notebook\"->interpret-core[dash,debug,decisiontree,ebm,lime,linear,notebook,plotly,required,sensitivity,shap,treeinterpreter]>=0.1.21->interpret) (4.8.0)\nRequirement already satisfied, skipping upgrade: prompt-toolkit!=3.0.0,!=3.0.1,<3.1.0,>=2.0.0 in /home/nick_sadjoli/.virtualenvs/covid19_forecast/lib/python3.6/site-packages (from ipython>=7.4.0; extra == \"notebook\"->interpret-core[dash,debug,decisiontree,ebm,lime,linear,notebook,plotly,required,sensitivity,shap,treeinterpreter]>=0.1.21->interpret) (3.0.5)\nRequirement already satisfied, skipping upgrade: decorator in /home/nick_sadjoli/.virtualenvs/covid19_forecast/lib/python3.6/site-packages (from ipython>=7.4.0; extra == \"notebook\"->interpret-core[dash,debug,decisiontree,ebm,lime,linear,notebook,plotly,required,sensitivity,shap,treeinterpreter]>=0.1.21->interpret) (4.4.2)\nRequirement already satisfied, skipping upgrade: pygments in /home/nick_sadjoli/.virtualenvs/covid19_forecast/lib/python3.6/site-packages (from ipython>=7.4.0; extra == \"notebook\"->interpret-core[dash,debug,decisiontree,ebm,lime,linear,notebook,plotly,required,sensitivity,shap,treeinterpreter]>=0.1.21->interpret) (2.6.1)\nRequirement already satisfied, skipping upgrade: jedi>=0.10 in /home/nick_sadjoli/.virtualenvs/covid19_forecast/lib/python3.6/site-packages (from ipython>=7.4.0; extra == \"notebook\"->interpret-core[dash,debug,decisiontree,ebm,lime,linear,notebook,plotly,required,sensitivity,shap,treeinterpreter]>=0.1.21->interpret) (0.16.0)\nRequirement already satisfied, skipping upgrade: setuptools>=18.5 in /home/nick_sadjoli/.virtualenvs/covid19_forecast/lib/python3.6/site-packages (from ipython>=7.4.0; extra == \"notebook\"->interpret-core[dash,debug,decisiontree,ebm,lime,linear,notebook,plotly,required,sensitivity,shap,treeinterpreter]>=0.1.21->interpret) (46.1.3)\nRequirement already satisfied, skipping upgrade: backcall in /home/nick_sadjoli/.virtualenvs/covid19_forecast/lib/python3.6/site-packages (from ipython>=7.4.0; extra == \"notebook\"->interpret-core[dash,debug,decisiontree,ebm,lime,linear,notebook,plotly,required,sensitivity,shap,treeinterpreter]>=0.1.21->interpret) (0.1.0)\nRequirement already satisfied, skipping upgrade: retrying>=1.3.3 in /home/nick_sadjoli/.virtualenvs/covid19_forecast/lib/python3.6/site-packages (from plotly>=3.8.1; extra == \"plotly\"->interpret-core[dash,debug,decisiontree,ebm,lime,linear,notebook,plotly,required,sensitivity,shap,treeinterpreter]>=0.1.21->interpret) (1.3.3)\nRequirement already satisfied, skipping upgrade: six in /home/nick_sadjoli/.virtualenvs/covid19_forecast/lib/python3.6/site-packages (from plotly>=3.8.1; extra == \"plotly\"->interpret-core[dash,debug,decisiontree,ebm,lime,linear,notebook,plotly,required,sensitivity,shap,treeinterpreter]>=0.1.21->interpret) (1.14.0)\nRequirement already satisfied, skipping upgrade: python-dateutil>=2.6.1 in /home/nick_sadjoli/.virtualenvs/covid19_forecast/lib/python3.6/site-packages (from pandas>=0.19.2; extra == \"required\"->interpret-core[dash,debug,decisiontree,ebm,lime,linear,notebook,plotly,required,sensitivity,shap,treeinterpreter]>=0.1.21->interpret) (2.8.1)\nRequirement already satisfied, skipping upgrade: pytz>=2017.2 in /home/nick_sadjoli/.virtualenvs/covid19_forecast/lib/python3.6/site-packages (from pandas>=0.19.2; extra == \"required\"->interpret-core[dash,debug,decisiontree,ebm,lime,linear,notebook,plotly,required,sensitivity,shap,treeinterpreter]>=0.1.21->interpret) (2019.3)\nRequirement already satisfied, skipping upgrade: tqdm>4.25.0 in /home/nick_sadjoli/.virtualenvs/covid19_forecast/lib/python3.6/site-packages (from shap>=0.28.5; extra == \"shap\"->interpret-core[dash,debug,decisiontree,ebm,lime,linear,notebook,plotly,required,sensitivity,shap,treeinterpreter]>=0.1.21->interpret) (4.44.1)\nRequirement already satisfied, skipping upgrade: itsdangerous>=0.24 in /home/nick_sadjoli/.virtualenvs/covid19_forecast/lib/python3.6/site-packages (from Flask>=1.0.2->dash>=1.0.0; extra == \"dash\"->interpret-core[dash,debug,decisiontree,ebm,lime,linear,notebook,plotly,required,sensitivity,shap,treeinterpreter]>=0.1.21->interpret) (1.1.0)\nRequirement already satisfied, skipping upgrade: click>=5.1 in /home/nick_sadjoli/.virtualenvs/covid19_forecast/lib/python3.6/site-packages (from Flask>=1.0.2->dash>=1.0.0; extra == \"dash\"->interpret-core[dash,debug,decisiontree,ebm,lime,linear,notebook,plotly,required,sensitivity,shap,treeinterpreter]>=0.1.21->interpret) (7.1.1)\nRequirement already satisfied, skipping upgrade: Werkzeug>=0.15 in /home/nick_sadjoli/.virtualenvs/covid19_forecast/lib/python3.6/site-packages (from Flask>=1.0.2->dash>=1.0.0; extra == \"dash\"->interpret-core[dash,debug,decisiontree,ebm,lime,linear,notebook,plotly,required,sensitivity,shap,treeinterpreter]>=0.1.21->interpret) (1.0.0)\nRequirement already satisfied, skipping upgrade: Jinja2>=2.10.1 in /home/nick_sadjoli/.virtualenvs/covid19_forecast/lib/python3.6/site-packages (from Flask>=1.0.2->dash>=1.0.0; extra == \"dash\"->interpret-core[dash,debug,decisiontree,ebm,lime,linear,notebook,plotly,required,sensitivity,shap,treeinterpreter]>=0.1.21->interpret) (2.11.1)\nRequirement already satisfied, skipping upgrade: imageio>=2.3.0 in /home/nick_sadjoli/.virtualenvs/covid19_forecast/lib/python3.6/site-packages (from scikit-image>=0.12; python_version >= \"3.0\"->lime>=0.1.1.33; extra == \"lime\"->interpret-core[dash,debug,decisiontree,ebm,lime,linear,notebook,plotly,required,sensitivity,shap,treeinterpreter]>=0.1.21->interpret) (2.8.0)\nRequirement already satisfied, skipping upgrade: networkx>=2.0 in /home/nick_sadjoli/.virtualenvs/covid19_forecast/lib/python3.6/site-packages (from scikit-image>=0.12; python_version >= \"3.0\"->lime>=0.1.1.33; extra == \"lime\"->interpret-core[dash,debug,decisiontree,ebm,lime,linear,notebook,plotly,required,sensitivity,shap,treeinterpreter]>=0.1.21->interpret) (2.4)\nRequirement already satisfied, skipping upgrade: pillow>=4.3.0 in /home/nick_sadjoli/.virtualenvs/covid19_forecast/lib/python3.6/site-packages (from scikit-image>=0.12; python_version >= \"3.0\"->lime>=0.1.1.33; extra == \"lime\"->interpret-core[dash,debug,decisiontree,ebm,lime,linear,notebook,plotly,required,sensitivity,shap,treeinterpreter]>=0.1.21->interpret) (7.0.0)\nRequirement already satisfied, skipping upgrade: PyWavelets>=0.4.0 in /home/nick_sadjoli/.virtualenvs/covid19_forecast/lib/python3.6/site-packages (from scikit-image>=0.12; python_version >= \"3.0\"->lime>=0.1.1.33; extra == \"lime\"->interpret-core[dash,debug,decisiontree,ebm,lime,linear,notebook,plotly,required,sensitivity,shap,treeinterpreter]>=0.1.21->interpret) (1.1.1)\nRequirement already satisfied, skipping upgrade: pyparsing!=2.0.4,!=2.1.2,!=2.1.6,>=2.0.1 in /home/nick_sadjoli/.virtualenvs/covid19_forecast/lib/python3.6/site-packages (from matplotlib; python_version >= \"3.0\"->lime>=0.1.1.33; extra == \"lime\"->interpret-core[dash,debug,decisiontree,ebm,lime,linear,notebook,plotly,required,sensitivity,shap,treeinterpreter]>=0.1.21->interpret) (2.4.6)\nRequirement already satisfied, skipping upgrade: kiwisolver>=1.0.1 in /home/nick_sadjoli/.virtualenvs/covid19_forecast/lib/python3.6/site-packages (from matplotlib; python_version >= \"3.0\"->lime>=0.1.1.33; extra == \"lime\"->interpret-core[dash,debug,decisiontree,ebm,lime,linear,notebook,plotly,required,sensitivity,shap,treeinterpreter]>=0.1.21->interpret) (1.1.0)\nRequirement already satisfied, skipping upgrade: cycler>=0.10 in /home/nick_sadjoli/.virtualenvs/covid19_forecast/lib/python3.6/site-packages (from matplotlib; python_version >= \"3.0\"->lime>=0.1.1.33; extra == \"lime\"->interpret-core[dash,debug,decisiontree,ebm,lime,linear,notebook,plotly,required,sensitivity,shap,treeinterpreter]>=0.1.21->interpret) (0.10.0)\nRequirement already satisfied, skipping upgrade: ipython-genutils in /home/nick_sadjoli/.virtualenvs/covid19_forecast/lib/python3.6/site-packages (from traitlets>=4.1.0->ipykernel>=5.1.0; extra == \"notebook\"->interpret-core[dash,debug,decisiontree,ebm,lime,linear,notebook,plotly,required,sensitivity,shap,treeinterpreter]>=0.1.21->interpret) (0.2.0)\nRequirement already satisfied, skipping upgrade: jupyter-core>=4.6.0 in /home/nick_sadjoli/.virtualenvs/covid19_forecast/lib/python3.6/site-packages (from jupyter-client->ipykernel>=5.1.0; extra == \"notebook\"->interpret-core[dash,debug,decisiontree,ebm,lime,linear,notebook,plotly,required,sensitivity,shap,treeinterpreter]>=0.1.21->interpret) (4.6.3)\nRequirement already satisfied, skipping upgrade: pyzmq>=13 in /home/nick_sadjoli/.virtualenvs/covid19_forecast/lib/python3.6/site-packages (from jupyter-client->ipykernel>=5.1.0; extra == \"notebook\"->interpret-core[dash,debug,decisiontree,ebm,lime,linear,notebook,plotly,required,sensitivity,shap,treeinterpreter]>=0.1.21->interpret) (19.0.0)\nRequirement already satisfied, skipping upgrade: ptyprocess>=0.5 in /home/nick_sadjoli/.virtualenvs/covid19_forecast/lib/python3.6/site-packages (from pexpect; sys_platform != \"win32\"->ipython>=7.4.0; extra == \"notebook\"->interpret-core[dash,debug,decisiontree,ebm,lime,linear,notebook,plotly,required,sensitivity,shap,treeinterpreter]>=0.1.21->interpret) (0.6.0)\nRequirement already satisfied, skipping upgrade: wcwidth in /home/nick_sadjoli/.virtualenvs/covid19_forecast/lib/python3.6/site-packages (from prompt-toolkit!=3.0.0,!=3.0.1,<3.1.0,>=2.0.0->ipython>=7.4.0; extra == \"notebook\"->interpret-core[dash,debug,decisiontree,ebm,lime,linear,notebook,plotly,required,sensitivity,shap,treeinterpreter]>=0.1.21->interpret) (0.1.9)\nRequirement already satisfied, skipping upgrade: parso>=0.5.2 in /home/nick_sadjoli/.virtualenvs/covid19_forecast/lib/python3.6/site-packages (from jedi>=0.10->ipython>=7.4.0; extra == \"notebook\"->interpret-core[dash,debug,decisiontree,ebm,lime,linear,notebook,plotly,required,sensitivity,shap,treeinterpreter]>=0.1.21->interpret) (0.6.2)\nRequirement already satisfied, skipping upgrade: MarkupSafe>=0.23 in /home/nick_sadjoli/.virtualenvs/covid19_forecast/lib/python3.6/site-packages (from Jinja2>=2.10.1->Flask>=1.0.2->dash>=1.0.0; extra == \"dash\"->interpret-core[dash,debug,decisiontree,ebm,lime,linear,notebook,plotly,required,sensitivity,shap,treeinterpreter]>=0.1.21->interpret) (1.1.1)\n"
    }
   ],
   "source": [
    "!pip install -U interpret"
   ]
  },
  {
   "cell_type": "markdown",
   "metadata": {},
   "source": [
    "## 1. Appending of the the Training Dataset with other Features\n",
    "Now that Interpret_ML has been installed, let's first review and take note of the training and test data that has been provided by default, to see what features could be extracted for use later."
   ]
  },
  {
   "cell_type": "code",
   "execution_count": 19,
   "metadata": {},
   "outputs": [
    {
     "output_type": "execute_result",
     "data": {
      "text/plain": "          Id Country_Region Province_State        Date  ConfirmedCases  \\\n0          1    Afghanistan            NaN  2020-01-22             0.0   \n1          2    Afghanistan            NaN  2020-01-23             0.0   \n2          3    Afghanistan            NaN  2020-01-24             0.0   \n3          4    Afghanistan            NaN  2020-01-25             0.0   \n4          5    Afghanistan            NaN  2020-01-26             0.0   \n...      ...            ...            ...         ...             ...   \n24409  35642       Zimbabwe            NaN  2020-04-04             9.0   \n24410  35643       Zimbabwe            NaN  2020-04-05             9.0   \n24411  35644       Zimbabwe            NaN  2020-04-06            10.0   \n24412  35645       Zimbabwe            NaN  2020-04-07            11.0   \n24413  35646       Zimbabwe            NaN  2020-04-08            11.0   \n\n       Fatalities  \n0             0.0  \n1             0.0  \n2             0.0  \n3             0.0  \n4             0.0  \n...           ...  \n24409         1.0  \n24410         1.0  \n24411         1.0  \n24412         2.0  \n24413         3.0  \n\n[24414 rows x 6 columns]",
      "text/html": "<div>\n<style scoped>\n    .dataframe tbody tr th:only-of-type {\n        vertical-align: middle;\n    }\n\n    .dataframe tbody tr th {\n        vertical-align: top;\n    }\n\n    .dataframe thead th {\n        text-align: right;\n    }\n</style>\n<table border=\"1\" class=\"dataframe\">\n  <thead>\n    <tr style=\"text-align: right;\">\n      <th></th>\n      <th>Id</th>\n      <th>Country_Region</th>\n      <th>Province_State</th>\n      <th>Date</th>\n      <th>ConfirmedCases</th>\n      <th>Fatalities</th>\n    </tr>\n  </thead>\n  <tbody>\n    <tr>\n      <th>0</th>\n      <td>1</td>\n      <td>Afghanistan</td>\n      <td>NaN</td>\n      <td>2020-01-22</td>\n      <td>0.0</td>\n      <td>0.0</td>\n    </tr>\n    <tr>\n      <th>1</th>\n      <td>2</td>\n      <td>Afghanistan</td>\n      <td>NaN</td>\n      <td>2020-01-23</td>\n      <td>0.0</td>\n      <td>0.0</td>\n    </tr>\n    <tr>\n      <th>2</th>\n      <td>3</td>\n      <td>Afghanistan</td>\n      <td>NaN</td>\n      <td>2020-01-24</td>\n      <td>0.0</td>\n      <td>0.0</td>\n    </tr>\n    <tr>\n      <th>3</th>\n      <td>4</td>\n      <td>Afghanistan</td>\n      <td>NaN</td>\n      <td>2020-01-25</td>\n      <td>0.0</td>\n      <td>0.0</td>\n    </tr>\n    <tr>\n      <th>4</th>\n      <td>5</td>\n      <td>Afghanistan</td>\n      <td>NaN</td>\n      <td>2020-01-26</td>\n      <td>0.0</td>\n      <td>0.0</td>\n    </tr>\n    <tr>\n      <th>...</th>\n      <td>...</td>\n      <td>...</td>\n      <td>...</td>\n      <td>...</td>\n      <td>...</td>\n      <td>...</td>\n    </tr>\n    <tr>\n      <th>24409</th>\n      <td>35642</td>\n      <td>Zimbabwe</td>\n      <td>NaN</td>\n      <td>2020-04-04</td>\n      <td>9.0</td>\n      <td>1.0</td>\n    </tr>\n    <tr>\n      <th>24410</th>\n      <td>35643</td>\n      <td>Zimbabwe</td>\n      <td>NaN</td>\n      <td>2020-04-05</td>\n      <td>9.0</td>\n      <td>1.0</td>\n    </tr>\n    <tr>\n      <th>24411</th>\n      <td>35644</td>\n      <td>Zimbabwe</td>\n      <td>NaN</td>\n      <td>2020-04-06</td>\n      <td>10.0</td>\n      <td>1.0</td>\n    </tr>\n    <tr>\n      <th>24412</th>\n      <td>35645</td>\n      <td>Zimbabwe</td>\n      <td>NaN</td>\n      <td>2020-04-07</td>\n      <td>11.0</td>\n      <td>2.0</td>\n    </tr>\n    <tr>\n      <th>24413</th>\n      <td>35646</td>\n      <td>Zimbabwe</td>\n      <td>NaN</td>\n      <td>2020-04-08</td>\n      <td>11.0</td>\n      <td>3.0</td>\n    </tr>\n  </tbody>\n</table>\n<p>24414 rows × 6 columns</p>\n</div>"
     },
     "metadata": {},
     "execution_count": 19
    }
   ],
   "source": [
    "import pandas as pd \n",
    "import numpy as np \n",
    "\n",
    "train_default_path = \"../input/train.csv\"\n",
    "test_default_path = \"../input/test.csv\"\n",
    "\n",
    "train_default_data = pd.read_csv(train_default_path)\n",
    "train_default_data"
   ]
  },
  {
   "cell_type": "code",
   "execution_count": 20,
   "metadata": {},
   "outputs": [
    {
     "output_type": "execute_result",
     "data": {
      "text/plain": "       ForecastId Country_Region Province_State        Date\n0               1    Afghanistan            NaN  2020-04-02\n1               2    Afghanistan            NaN  2020-04-03\n2               3    Afghanistan            NaN  2020-04-04\n3               4    Afghanistan            NaN  2020-04-05\n4               5    Afghanistan            NaN  2020-04-06\n...           ...            ...            ...         ...\n13454       13455       Zimbabwe            NaN  2020-05-10\n13455       13456       Zimbabwe            NaN  2020-05-11\n13456       13457       Zimbabwe            NaN  2020-05-12\n13457       13458       Zimbabwe            NaN  2020-05-13\n13458       13459       Zimbabwe            NaN  2020-05-14\n\n[13459 rows x 4 columns]",
      "text/html": "<div>\n<style scoped>\n    .dataframe tbody tr th:only-of-type {\n        vertical-align: middle;\n    }\n\n    .dataframe tbody tr th {\n        vertical-align: top;\n    }\n\n    .dataframe thead th {\n        text-align: right;\n    }\n</style>\n<table border=\"1\" class=\"dataframe\">\n  <thead>\n    <tr style=\"text-align: right;\">\n      <th></th>\n      <th>ForecastId</th>\n      <th>Country_Region</th>\n      <th>Province_State</th>\n      <th>Date</th>\n    </tr>\n  </thead>\n  <tbody>\n    <tr>\n      <th>0</th>\n      <td>1</td>\n      <td>Afghanistan</td>\n      <td>NaN</td>\n      <td>2020-04-02</td>\n    </tr>\n    <tr>\n      <th>1</th>\n      <td>2</td>\n      <td>Afghanistan</td>\n      <td>NaN</td>\n      <td>2020-04-03</td>\n    </tr>\n    <tr>\n      <th>2</th>\n      <td>3</td>\n      <td>Afghanistan</td>\n      <td>NaN</td>\n      <td>2020-04-04</td>\n    </tr>\n    <tr>\n      <th>3</th>\n      <td>4</td>\n      <td>Afghanistan</td>\n      <td>NaN</td>\n      <td>2020-04-05</td>\n    </tr>\n    <tr>\n      <th>4</th>\n      <td>5</td>\n      <td>Afghanistan</td>\n      <td>NaN</td>\n      <td>2020-04-06</td>\n    </tr>\n    <tr>\n      <th>...</th>\n      <td>...</td>\n      <td>...</td>\n      <td>...</td>\n      <td>...</td>\n    </tr>\n    <tr>\n      <th>13454</th>\n      <td>13455</td>\n      <td>Zimbabwe</td>\n      <td>NaN</td>\n      <td>2020-05-10</td>\n    </tr>\n    <tr>\n      <th>13455</th>\n      <td>13456</td>\n      <td>Zimbabwe</td>\n      <td>NaN</td>\n      <td>2020-05-11</td>\n    </tr>\n    <tr>\n      <th>13456</th>\n      <td>13457</td>\n      <td>Zimbabwe</td>\n      <td>NaN</td>\n      <td>2020-05-12</td>\n    </tr>\n    <tr>\n      <th>13457</th>\n      <td>13458</td>\n      <td>Zimbabwe</td>\n      <td>NaN</td>\n      <td>2020-05-13</td>\n    </tr>\n    <tr>\n      <th>13458</th>\n      <td>13459</td>\n      <td>Zimbabwe</td>\n      <td>NaN</td>\n      <td>2020-05-14</td>\n    </tr>\n  </tbody>\n</table>\n<p>13459 rows × 4 columns</p>\n</div>"
     },
     "metadata": {},
     "execution_count": 20
    }
   ],
   "source": [
    "test_default_data = pd.read_csv(test_default_path)\n",
    "test_default_data"
   ]
  },
  {
   "cell_type": "markdown",
   "metadata": {},
   "source": [
    "From looking at these data, it can be seen that the number of previously known number of Confirmed and Fatalities would be the main default features that could be extracted and used. Based on expert opinions as well as various other works however, it seems that these features would not be sufficient in accurately predicting the total amount of Confirmed and Fatalities in the future.\n",
    "\n",
    "Hence, additional data features would be required. In this notebook, several of the additional data features that we've collected can be seen below:\n",
    "\n",
    "### 1.a. Weather features\n",
    "Thanks to the work by David Bonin (Kaggle user [davidbn92](https://www.kaggle.com/davidbnn92)) in his [notebook](https://www.kaggle.com/davidbnn92/weather-data/output), a variation of the training data that has been appended with Weather/climate features of all regions has been provided. As noted in their page, these weather data are courtesy of [NOAA GSOD readings](https://www.kaggle.com/noaa/gsod), which has been appended to the training data."
   ]
  },
  {
   "cell_type": "code",
   "execution_count": 21,
   "metadata": {},
   "outputs": [
    {
     "output_type": "stream",
     "name": "stdout",
     "text": "Current columns: Index(['Id', 'Country_Region', 'Province_State', 'Date', 'ConfirmedCases',\n       'Fatalities', 'country+province', 'Lat', 'Long', 'day_from_jan_first',\n       'temp', 'min', 'max', 'stp', 'slp', 'dewp', 'rh', 'ah', 'wdsp', 'prcp',\n       'fog'],\n      dtype='object')\n"
    },
    {
     "output_type": "execute_result",
     "data": {
      "text/plain": "          Id Country_Region Province_State        Date  ConfirmedCases  \\\n0          1    Afghanistan            NaN  2020-01-22             0.0   \n1          2    Afghanistan            NaN  2020-01-23             0.0   \n2          3    Afghanistan            NaN  2020-01-24             0.0   \n3          4    Afghanistan            NaN  2020-01-25             0.0   \n4          5    Afghanistan            NaN  2020-01-26             0.0   \n...      ...            ...            ...         ...             ...   \n24409  35642       Zimbabwe            NaN  2020-04-04             9.0   \n24410  35643       Zimbabwe            NaN  2020-04-05             9.0   \n24411  35644       Zimbabwe            NaN  2020-04-06            10.0   \n24412  35645       Zimbabwe            NaN  2020-04-07            11.0   \n24413  35646       Zimbabwe            NaN  2020-04-08            11.0   \n\n       Fatalities country+province        Lat       Long  day_from_jan_first  \\\n0             0.0     Afghanistan-  33.000000  65.000000                  22   \n1             0.0     Afghanistan-  33.000000  65.000000                  23   \n2             0.0     Afghanistan-  33.000000  65.000000                  24   \n3             0.0     Afghanistan-  33.000000  65.000000                  25   \n4             0.0     Afghanistan-  33.000000  65.000000                  26   \n...           ...              ...        ...        ...                 ...   \n24409         1.0        Zimbabwe- -17.829167  31.052222                  95   \n24410         1.0        Zimbabwe- -17.829167  31.052222                  96   \n24411         1.0        Zimbabwe- -17.829167  31.052222                  97   \n24412         2.0        Zimbabwe- -17.829167  31.052222                  98   \n24413         3.0        Zimbabwe- -17.829167  31.052222                  99   \n\n       ...   min   max    stp     slp  dewp        rh        ah  wdsp   prcp  \\\n0      ...  33.6  54.9  999.9  1024.3  27.4  0.545709  0.186448   9.4   0.00   \n1      ...  32.7  55.9  999.9  1020.8  22.8  0.461259  0.163225  14.9  99.99   \n2      ...  36.9  43.2  999.9  1018.6  34.5  0.801794  0.325375  10.4   0.17   \n3      ...  37.9  56.3  999.9  1018.0  37.8  0.728175  0.214562   6.1   0.57   \n4      ...  36.1  53.1  999.9  1014.8  33.2  0.685513  0.231656  10.8   0.00   \n...    ...   ...   ...    ...     ...   ...       ...       ...   ...    ...   \n24409  ...  66.2  80.6  999.9     NaN  53.9  0.481730  0.130122   4.2   0.00   \n24410  ...  66.2  80.6  999.9     NaN  53.9  0.481730  0.130122   4.2   0.00   \n24411  ...  66.2  80.6  999.9     NaN  53.9  0.481730  0.130122   4.2   0.00   \n24412  ...  66.2  80.6  999.9     NaN  53.9  0.481730  0.130122   4.2   0.00   \n24413  ...  66.2  80.6  999.9     NaN  53.9  0.481730  0.130122   4.2   0.00   \n\n       fog  \n0        0  \n1        1  \n2        1  \n3        1  \n4        1  \n...    ...  \n24409    0  \n24410    0  \n24411    0  \n24412    0  \n24413    0  \n\n[24414 rows x 21 columns]",
      "text/html": "<div>\n<style scoped>\n    .dataframe tbody tr th:only-of-type {\n        vertical-align: middle;\n    }\n\n    .dataframe tbody tr th {\n        vertical-align: top;\n    }\n\n    .dataframe thead th {\n        text-align: right;\n    }\n</style>\n<table border=\"1\" class=\"dataframe\">\n  <thead>\n    <tr style=\"text-align: right;\">\n      <th></th>\n      <th>Id</th>\n      <th>Country_Region</th>\n      <th>Province_State</th>\n      <th>Date</th>\n      <th>ConfirmedCases</th>\n      <th>Fatalities</th>\n      <th>country+province</th>\n      <th>Lat</th>\n      <th>Long</th>\n      <th>day_from_jan_first</th>\n      <th>...</th>\n      <th>min</th>\n      <th>max</th>\n      <th>stp</th>\n      <th>slp</th>\n      <th>dewp</th>\n      <th>rh</th>\n      <th>ah</th>\n      <th>wdsp</th>\n      <th>prcp</th>\n      <th>fog</th>\n    </tr>\n  </thead>\n  <tbody>\n    <tr>\n      <th>0</th>\n      <td>1</td>\n      <td>Afghanistan</td>\n      <td>NaN</td>\n      <td>2020-01-22</td>\n      <td>0.0</td>\n      <td>0.0</td>\n      <td>Afghanistan-</td>\n      <td>33.000000</td>\n      <td>65.000000</td>\n      <td>22</td>\n      <td>...</td>\n      <td>33.6</td>\n      <td>54.9</td>\n      <td>999.9</td>\n      <td>1024.3</td>\n      <td>27.4</td>\n      <td>0.545709</td>\n      <td>0.186448</td>\n      <td>9.4</td>\n      <td>0.00</td>\n      <td>0</td>\n    </tr>\n    <tr>\n      <th>1</th>\n      <td>2</td>\n      <td>Afghanistan</td>\n      <td>NaN</td>\n      <td>2020-01-23</td>\n      <td>0.0</td>\n      <td>0.0</td>\n      <td>Afghanistan-</td>\n      <td>33.000000</td>\n      <td>65.000000</td>\n      <td>23</td>\n      <td>...</td>\n      <td>32.7</td>\n      <td>55.9</td>\n      <td>999.9</td>\n      <td>1020.8</td>\n      <td>22.8</td>\n      <td>0.461259</td>\n      <td>0.163225</td>\n      <td>14.9</td>\n      <td>99.99</td>\n      <td>1</td>\n    </tr>\n    <tr>\n      <th>2</th>\n      <td>3</td>\n      <td>Afghanistan</td>\n      <td>NaN</td>\n      <td>2020-01-24</td>\n      <td>0.0</td>\n      <td>0.0</td>\n      <td>Afghanistan-</td>\n      <td>33.000000</td>\n      <td>65.000000</td>\n      <td>24</td>\n      <td>...</td>\n      <td>36.9</td>\n      <td>43.2</td>\n      <td>999.9</td>\n      <td>1018.6</td>\n      <td>34.5</td>\n      <td>0.801794</td>\n      <td>0.325375</td>\n      <td>10.4</td>\n      <td>0.17</td>\n      <td>1</td>\n    </tr>\n    <tr>\n      <th>3</th>\n      <td>4</td>\n      <td>Afghanistan</td>\n      <td>NaN</td>\n      <td>2020-01-25</td>\n      <td>0.0</td>\n      <td>0.0</td>\n      <td>Afghanistan-</td>\n      <td>33.000000</td>\n      <td>65.000000</td>\n      <td>25</td>\n      <td>...</td>\n      <td>37.9</td>\n      <td>56.3</td>\n      <td>999.9</td>\n      <td>1018.0</td>\n      <td>37.8</td>\n      <td>0.728175</td>\n      <td>0.214562</td>\n      <td>6.1</td>\n      <td>0.57</td>\n      <td>1</td>\n    </tr>\n    <tr>\n      <th>4</th>\n      <td>5</td>\n      <td>Afghanistan</td>\n      <td>NaN</td>\n      <td>2020-01-26</td>\n      <td>0.0</td>\n      <td>0.0</td>\n      <td>Afghanistan-</td>\n      <td>33.000000</td>\n      <td>65.000000</td>\n      <td>26</td>\n      <td>...</td>\n      <td>36.1</td>\n      <td>53.1</td>\n      <td>999.9</td>\n      <td>1014.8</td>\n      <td>33.2</td>\n      <td>0.685513</td>\n      <td>0.231656</td>\n      <td>10.8</td>\n      <td>0.00</td>\n      <td>1</td>\n    </tr>\n    <tr>\n      <th>...</th>\n      <td>...</td>\n      <td>...</td>\n      <td>...</td>\n      <td>...</td>\n      <td>...</td>\n      <td>...</td>\n      <td>...</td>\n      <td>...</td>\n      <td>...</td>\n      <td>...</td>\n      <td>...</td>\n      <td>...</td>\n      <td>...</td>\n      <td>...</td>\n      <td>...</td>\n      <td>...</td>\n      <td>...</td>\n      <td>...</td>\n      <td>...</td>\n      <td>...</td>\n      <td>...</td>\n    </tr>\n    <tr>\n      <th>24409</th>\n      <td>35642</td>\n      <td>Zimbabwe</td>\n      <td>NaN</td>\n      <td>2020-04-04</td>\n      <td>9.0</td>\n      <td>1.0</td>\n      <td>Zimbabwe-</td>\n      <td>-17.829167</td>\n      <td>31.052222</td>\n      <td>95</td>\n      <td>...</td>\n      <td>66.2</td>\n      <td>80.6</td>\n      <td>999.9</td>\n      <td>NaN</td>\n      <td>53.9</td>\n      <td>0.481730</td>\n      <td>0.130122</td>\n      <td>4.2</td>\n      <td>0.00</td>\n      <td>0</td>\n    </tr>\n    <tr>\n      <th>24410</th>\n      <td>35643</td>\n      <td>Zimbabwe</td>\n      <td>NaN</td>\n      <td>2020-04-05</td>\n      <td>9.0</td>\n      <td>1.0</td>\n      <td>Zimbabwe-</td>\n      <td>-17.829167</td>\n      <td>31.052222</td>\n      <td>96</td>\n      <td>...</td>\n      <td>66.2</td>\n      <td>80.6</td>\n      <td>999.9</td>\n      <td>NaN</td>\n      <td>53.9</td>\n      <td>0.481730</td>\n      <td>0.130122</td>\n      <td>4.2</td>\n      <td>0.00</td>\n      <td>0</td>\n    </tr>\n    <tr>\n      <th>24411</th>\n      <td>35644</td>\n      <td>Zimbabwe</td>\n      <td>NaN</td>\n      <td>2020-04-06</td>\n      <td>10.0</td>\n      <td>1.0</td>\n      <td>Zimbabwe-</td>\n      <td>-17.829167</td>\n      <td>31.052222</td>\n      <td>97</td>\n      <td>...</td>\n      <td>66.2</td>\n      <td>80.6</td>\n      <td>999.9</td>\n      <td>NaN</td>\n      <td>53.9</td>\n      <td>0.481730</td>\n      <td>0.130122</td>\n      <td>4.2</td>\n      <td>0.00</td>\n      <td>0</td>\n    </tr>\n    <tr>\n      <th>24412</th>\n      <td>35645</td>\n      <td>Zimbabwe</td>\n      <td>NaN</td>\n      <td>2020-04-07</td>\n      <td>11.0</td>\n      <td>2.0</td>\n      <td>Zimbabwe-</td>\n      <td>-17.829167</td>\n      <td>31.052222</td>\n      <td>98</td>\n      <td>...</td>\n      <td>66.2</td>\n      <td>80.6</td>\n      <td>999.9</td>\n      <td>NaN</td>\n      <td>53.9</td>\n      <td>0.481730</td>\n      <td>0.130122</td>\n      <td>4.2</td>\n      <td>0.00</td>\n      <td>0</td>\n    </tr>\n    <tr>\n      <th>24413</th>\n      <td>35646</td>\n      <td>Zimbabwe</td>\n      <td>NaN</td>\n      <td>2020-04-08</td>\n      <td>11.0</td>\n      <td>3.0</td>\n      <td>Zimbabwe-</td>\n      <td>-17.829167</td>\n      <td>31.052222</td>\n      <td>99</td>\n      <td>...</td>\n      <td>66.2</td>\n      <td>80.6</td>\n      <td>999.9</td>\n      <td>NaN</td>\n      <td>53.9</td>\n      <td>0.481730</td>\n      <td>0.130122</td>\n      <td>4.2</td>\n      <td>0.00</td>\n      <td>0</td>\n    </tr>\n  </tbody>\n</table>\n<p>24414 rows × 21 columns</p>\n</div>"
     },
     "metadata": {},
     "execution_count": 21
    }
   ],
   "source": [
    "train_appended_df = pd.read_csv(\"../input/training_data_with_weather_info_week_4.csv\")\n",
    "print(\"Current columns:\", train_appended_df.columns)\n",
    "train_appended_df"
   ]
  },
  {
   "cell_type": "code",
   "execution_count": 22,
   "metadata": {},
   "outputs": [
    {
     "output_type": "execute_result",
     "data": {
      "text/plain": "(array([nan, 'Australian Capital Territory', 'New South Wales',\n        'Northern Territory', 'Queensland', 'South Australia', 'Tasmania',\n        'Victoria', 'Western Australia', 'Alberta', 'British Columbia',\n        'Manitoba', 'New Brunswick', 'Newfoundland and Labrador',\n        'Northwest Territories', 'Nova Scotia', 'Ontario',\n        'Prince Edward Island', 'Quebec', 'Saskatchewan', 'Yukon', 'Anhui',\n        'Beijing', 'Chongqing', 'Fujian', 'Gansu', 'Guangdong', 'Guangxi',\n        'Guizhou', 'Hainan', 'Hebei', 'Heilongjiang', 'Henan', 'Hong Kong',\n        'Hubei', 'Hunan', 'Inner Mongolia', 'Jiangsu', 'Jiangxi', 'Jilin',\n        'Liaoning', 'Macau', 'Ningxia', 'Qinghai', 'Shaanxi', 'Shandong',\n        'Shanghai', 'Shanxi', 'Sichuan', 'Tianjin', 'Tibet', 'Xinjiang',\n        'Yunnan', 'Zhejiang', 'Faroe Islands', 'Greenland',\n        'French Guiana', 'French Polynesia', 'Guadeloupe', 'Martinique',\n        'Mayotte', 'New Caledonia', 'Reunion', 'Saint Barthelemy',\n        'Saint Pierre and Miquelon', 'St Martin', 'Aruba',\n        'Bonaire, Sint Eustatius and Saba', 'Curacao', 'Sint Maarten',\n        'Alabama', 'Alaska', 'Arizona', 'Arkansas', 'California',\n        'Colorado', 'Connecticut', 'Delaware', 'District of Columbia',\n        'Florida', 'Georgia', 'Guam', 'Hawaii', 'Idaho', 'Illinois',\n        'Indiana', 'Iowa', 'Kansas', 'Kentucky', 'Louisiana', 'Maine',\n        'Maryland', 'Massachusetts', 'Michigan', 'Minnesota',\n        'Mississippi', 'Missouri', 'Montana', 'Nebraska', 'Nevada',\n        'New Hampshire', 'New Jersey', 'New Mexico', 'New York',\n        'North Carolina', 'North Dakota', 'Ohio', 'Oklahoma', 'Oregon',\n        'Pennsylvania', 'Puerto Rico', 'Rhode Island', 'South Carolina',\n        'South Dakota', 'Tennessee', 'Texas', 'Utah', 'Vermont',\n        'Virgin Islands', 'Virginia', 'Washington', 'West Virginia',\n        'Wisconsin', 'Wyoming', 'Anguilla', 'Bermuda',\n        'British Virgin Islands', 'Cayman Islands', 'Channel Islands',\n        'Falkland Islands (Malvinas)', 'Gibraltar', 'Isle of Man',\n        'Montserrat', 'Turks and Caicos Islands'], dtype=object),\n 134)"
     },
     "metadata": {},
     "execution_count": 22
    }
   ],
   "source": [
    "training_data_unique_regions = train_appended_df['Province_State'].unique()\n",
    "training_data_unique_regions, len(training_data_unique_regions)"
   ]
  },
  {
   "cell_type": "markdown",
   "metadata": {},
   "source": [
    "As per noted by David in his work, the weather features that were added included the following:\n",
    "\n",
    "- ```temp```: Mean temperature for the day in degrees Fahrenheit to tenths.\n",
    "- ```max```: Maximum temperature reported during the day in Fahrenheit to tenths--time of max temp report varies by country and region, so this will sometimes not be the max for the calendar day.\n",
    "- ```min```: Minimum temperature reported during the day in Fahrenheit to tenths--time of min temp report varies by country and region, so this will sometimes not be the min for the calendar day.\n",
    "- ```stp```: Mean station pressure for the day in millibars to tenths.\n",
    "- ```slp```: Mean sea level pressure for the day in millibars to tenths.\n",
    "- ```dewp```: Mean dew point for the day in degrees Fahrenheit to tenths.\n",
    "- ```wdsp```: Mean wind speed for the day in knots to tenths.\n",
    "- ```prcp```: Total precipitation (rain and/or melted snow) reported during the day in inches and hundredths; will usually not end with the midnight observation--i.e., may include latter part of previous day. .00 indicates no measurable precipitation (includes a trace).\n",
    "- ```fog```: Indicators (1 = yes, 0 = no/not reported) for the occurrence during the day\n",
    "\n",
    "The reason to include weather data for COVID-19 prediction would is because of some previous research (example of such paper [here](https://www.ncbi.nlm.nih.gov/pmc/articles/PMC2916580/)) linking the coronavirus family having [seasonality period](https://www.bbc.com/future/article/20200323-coronavirus-will-hot-weather-kill-covid-19), with indication that warmer weather could [slow down](https://www.theguardian.com/world/2020/apr/05/scientists-ask-could-summer-heat-help-beat-covid-19) the transmission of the virus. However, similarly there has been caution by health experts that this might not be [true](https://www.sciencenews.org/article/coronavirus-warm-weather-will-not-slow-covid-19-transmission). \n",
    "\n",
    "As such, we'll investigate using the InterpretML toolbox to see the correlation between any of these weather effect with COVID-19 forecasting.\n",
    "\n",
    "### 1.b. Population Data \n",
    "Specifically, the Population Density for each region. Hypothetically, a region that has a higher population density should in theory have a higher chance of faster COVID-19 transmission. For consistency, we'll be mainly using the countries' and regions' population and population density data that was recorded by [Worldometer](https://www.worldometers.info/world-population/population-by-country/) from their respective country pages. \n"
   ]
  },
  {
   "cell_type": "code",
   "execution_count": 23,
   "metadata": {},
   "outputs": [
    {
     "output_type": "execute_result",
     "data": {
      "text/plain": "      Unnamed: 0     # Country (or dependency)             Region  \\\n0              0   1.0                   China        All_Regions   \n1              1   1.5                   China           Nanchang   \n2              1   1.5                   China              Xi'an   \n3              1   1.5                   China          Guangzhou   \n4              1   1.5                   China            Lijiang   \n...          ...   ...                     ...                ...   \n7136          99  99.5                  Serbia           Trstenik   \n7137          99  99.5                  Serbia           Jagodina   \n7138          99  99.5                  Serbia  Sremska Mitrovica   \n7139          99  99.5                  Serbia            Pancevo   \n7140          99  99.5                  Serbia           Krusevac   \n\n     Population (2020) Yearly Change Net Change Density (P/Km²)  \\\n0        1,439,323,776        0.39 %  5,540,090             153   \n1            2,357,839           NaN        NaN             NaN   \n2            6,501,190           NaN        NaN             NaN   \n3           11,071,424           NaN        NaN             NaN   \n4            1,137,600           NaN        NaN             NaN   \n...                ...           ...        ...             ...   \n7136            49,043           NaN        NaN             NaN   \n7137            35,589           NaN        NaN             NaN   \n7138            39,084           NaN        NaN             NaN   \n7139            76,654           NaN        NaN             NaN   \n7140            75,256           NaN        NaN             NaN   \n\n     Land Area (Km²) Migrants (net) Fert. Rate Med. Age Urban Pop %  \\\n0          9,388,211       -348,399        1.7       38        61 %   \n1                NaN            NaN        NaN      NaN         NaN   \n2                NaN            NaN        NaN      NaN         NaN   \n3                NaN            NaN        NaN      NaN         NaN   \n4                NaN            NaN        NaN      NaN         NaN   \n...              ...            ...        ...      ...         ...   \n7136             NaN            NaN        NaN      NaN         NaN   \n7137             NaN            NaN        NaN      NaN         NaN   \n7138             NaN            NaN        NaN      NaN         NaN   \n7139             NaN            NaN        NaN      NaN         NaN   \n7140             NaN            NaN        NaN      NaN         NaN   \n\n     World Share  \n0        18.47 %  \n1            NaN  \n2            NaN  \n3            NaN  \n4            NaN  \n...          ...  \n7136         NaN  \n7137         NaN  \n7138         NaN  \n7139         NaN  \n7140         NaN  \n\n[7141 rows x 14 columns]",
      "text/html": "<div>\n<style scoped>\n    .dataframe tbody tr th:only-of-type {\n        vertical-align: middle;\n    }\n\n    .dataframe tbody tr th {\n        vertical-align: top;\n    }\n\n    .dataframe thead th {\n        text-align: right;\n    }\n</style>\n<table border=\"1\" class=\"dataframe\">\n  <thead>\n    <tr style=\"text-align: right;\">\n      <th></th>\n      <th>Unnamed: 0</th>\n      <th>#</th>\n      <th>Country (or dependency)</th>\n      <th>Region</th>\n      <th>Population (2020)</th>\n      <th>Yearly Change</th>\n      <th>Net Change</th>\n      <th>Density (P/Km²)</th>\n      <th>Land Area (Km²)</th>\n      <th>Migrants (net)</th>\n      <th>Fert. Rate</th>\n      <th>Med. Age</th>\n      <th>Urban Pop %</th>\n      <th>World Share</th>\n    </tr>\n  </thead>\n  <tbody>\n    <tr>\n      <th>0</th>\n      <td>0</td>\n      <td>1.0</td>\n      <td>China</td>\n      <td>All_Regions</td>\n      <td>1,439,323,776</td>\n      <td>0.39 %</td>\n      <td>5,540,090</td>\n      <td>153</td>\n      <td>9,388,211</td>\n      <td>-348,399</td>\n      <td>1.7</td>\n      <td>38</td>\n      <td>61 %</td>\n      <td>18.47 %</td>\n    </tr>\n    <tr>\n      <th>1</th>\n      <td>1</td>\n      <td>1.5</td>\n      <td>China</td>\n      <td>Nanchang</td>\n      <td>2,357,839</td>\n      <td>NaN</td>\n      <td>NaN</td>\n      <td>NaN</td>\n      <td>NaN</td>\n      <td>NaN</td>\n      <td>NaN</td>\n      <td>NaN</td>\n      <td>NaN</td>\n      <td>NaN</td>\n    </tr>\n    <tr>\n      <th>2</th>\n      <td>1</td>\n      <td>1.5</td>\n      <td>China</td>\n      <td>Xi'an</td>\n      <td>6,501,190</td>\n      <td>NaN</td>\n      <td>NaN</td>\n      <td>NaN</td>\n      <td>NaN</td>\n      <td>NaN</td>\n      <td>NaN</td>\n      <td>NaN</td>\n      <td>NaN</td>\n      <td>NaN</td>\n    </tr>\n    <tr>\n      <th>3</th>\n      <td>1</td>\n      <td>1.5</td>\n      <td>China</td>\n      <td>Guangzhou</td>\n      <td>11,071,424</td>\n      <td>NaN</td>\n      <td>NaN</td>\n      <td>NaN</td>\n      <td>NaN</td>\n      <td>NaN</td>\n      <td>NaN</td>\n      <td>NaN</td>\n      <td>NaN</td>\n      <td>NaN</td>\n    </tr>\n    <tr>\n      <th>4</th>\n      <td>1</td>\n      <td>1.5</td>\n      <td>China</td>\n      <td>Lijiang</td>\n      <td>1,137,600</td>\n      <td>NaN</td>\n      <td>NaN</td>\n      <td>NaN</td>\n      <td>NaN</td>\n      <td>NaN</td>\n      <td>NaN</td>\n      <td>NaN</td>\n      <td>NaN</td>\n      <td>NaN</td>\n    </tr>\n    <tr>\n      <th>...</th>\n      <td>...</td>\n      <td>...</td>\n      <td>...</td>\n      <td>...</td>\n      <td>...</td>\n      <td>...</td>\n      <td>...</td>\n      <td>...</td>\n      <td>...</td>\n      <td>...</td>\n      <td>...</td>\n      <td>...</td>\n      <td>...</td>\n      <td>...</td>\n    </tr>\n    <tr>\n      <th>7136</th>\n      <td>99</td>\n      <td>99.5</td>\n      <td>Serbia</td>\n      <td>Trstenik</td>\n      <td>49,043</td>\n      <td>NaN</td>\n      <td>NaN</td>\n      <td>NaN</td>\n      <td>NaN</td>\n      <td>NaN</td>\n      <td>NaN</td>\n      <td>NaN</td>\n      <td>NaN</td>\n      <td>NaN</td>\n    </tr>\n    <tr>\n      <th>7137</th>\n      <td>99</td>\n      <td>99.5</td>\n      <td>Serbia</td>\n      <td>Jagodina</td>\n      <td>35,589</td>\n      <td>NaN</td>\n      <td>NaN</td>\n      <td>NaN</td>\n      <td>NaN</td>\n      <td>NaN</td>\n      <td>NaN</td>\n      <td>NaN</td>\n      <td>NaN</td>\n      <td>NaN</td>\n    </tr>\n    <tr>\n      <th>7138</th>\n      <td>99</td>\n      <td>99.5</td>\n      <td>Serbia</td>\n      <td>Sremska Mitrovica</td>\n      <td>39,084</td>\n      <td>NaN</td>\n      <td>NaN</td>\n      <td>NaN</td>\n      <td>NaN</td>\n      <td>NaN</td>\n      <td>NaN</td>\n      <td>NaN</td>\n      <td>NaN</td>\n      <td>NaN</td>\n    </tr>\n    <tr>\n      <th>7139</th>\n      <td>99</td>\n      <td>99.5</td>\n      <td>Serbia</td>\n      <td>Pancevo</td>\n      <td>76,654</td>\n      <td>NaN</td>\n      <td>NaN</td>\n      <td>NaN</td>\n      <td>NaN</td>\n      <td>NaN</td>\n      <td>NaN</td>\n      <td>NaN</td>\n      <td>NaN</td>\n      <td>NaN</td>\n    </tr>\n    <tr>\n      <th>7140</th>\n      <td>99</td>\n      <td>99.5</td>\n      <td>Serbia</td>\n      <td>Krusevac</td>\n      <td>75,256</td>\n      <td>NaN</td>\n      <td>NaN</td>\n      <td>NaN</td>\n      <td>NaN</td>\n      <td>NaN</td>\n      <td>NaN</td>\n      <td>NaN</td>\n      <td>NaN</td>\n      <td>NaN</td>\n    </tr>\n  </tbody>\n</table>\n<p>7141 rows × 14 columns</p>\n</div>"
     },
     "metadata": {},
     "execution_count": 23
    }
   ],
   "source": [
    "population_df = pd.read_csv(\"../input/Worldometer_Population_Regional_Latest.csv\")\n",
    "population_df"
   ]
  },
  {
   "cell_type": "code",
   "execution_count": 24,
   "metadata": {},
   "outputs": [
    {
     "output_type": "execute_result",
     "data": {
      "text/plain": "153"
     },
     "metadata": {},
     "execution_count": 24
    }
   ],
   "source": [
    "#population_df[population_df['Country (or dependency)'] == 'China']\n",
    "#population_df[population_df['Country (or dependency)'] == 'China']['Region'] == 'All_Regions'\n",
    "population_df_country = population_df[population_df['Country (or dependency)'] == 'China']\n",
    "int(population_df_country[population_df_country['Region'] == \"All_Regions\"]['Density (P/Km²)'].values[0])\n",
    "#population_df[population_df[population_df['Country (or dependency)'] == 'China']['Region'] == 'All_Regions']\n",
    "#population_df_country = population_df[population_df['Country (or dependency)'] == country]['Region'] == 'All_Regions'"
   ]
  },
  {
   "cell_type": "code",
   "execution_count": 25,
   "metadata": {},
   "outputs": [
    {
     "output_type": "stream",
     "name": "stdout",
     "text": "All 6789 unique regions recorded:\n[\"'Afak\" \"'Ajlun\" \"'Ali Sabieh\" ... '`Izra' 'eMbalenhle' 'maalot Tarshiha'] False\n"
    }
   ],
   "source": [
    "#list the unique regions in the population_df DataFrame, while also removing the 'All_Regions' tag (which indicate it's the population of the whole country, and not just a region)\n",
    "popdf_unique_regions = population_df['Region'].unique()\n",
    "popdf_unique_regions = np.sort(popdf_unique_regions[popdf_unique_regions != 'All_Regions'])\n",
    "print(\"All {} unique regions recorded:\".format(str(len(popdf_unique_regions))))\n",
    "print(popdf_unique_regions, \"True Victoria\" in popdf_unique_regions)"
   ]
  },
  {
   "cell_type": "markdown",
   "metadata": {},
   "source": [
    "(Note that 'All_regions' mean that the data shown in that particular row applies to the whole country, not just a particular region in that country)\n",
    "\n",
    "However, as can be seen it is noted that Worldometer doesn't seem to provide the Population Density features recorded for regional levels. Hence, for countries with regions in the training data, we'll instead use the countries' and regions' population data as of 2019 provided by OECD on their [Region and Cities](https://stats.oecd.org/Index.aspx?DataSetCode=REGION_DEMOGR#) page. It is noted that these would not likley reflect the lates population density for all region/provinces in the training data. However, we believe the difference in population density for these regions between 2019 and 2020 should be minimal enough such that the the difference should be rather minimal. A reliable source that could help with this would be helpful as an input/feedback.\n",
    "\n",
    "Note that OECD divides the regions into 2 types: T2 (Large) and T3 (Small) Regions. Let's take a glimpse at the population density records for all region types in 2019 first."
   ]
  },
  {
   "cell_type": "code",
   "execution_count": 26,
   "metadata": {},
   "outputs": [
    {
     "output_type": "stream",
     "name": "stdout",
     "text": "Columns available: Index(['TL', 'Territory Level and Typology', 'REG_ID', 'Region', 'VAR',\n       'Indicator', 'SEX', 'Gender', 'POS', 'Position', 'TIME', 'Year',\n       'Unit Code', 'Unit', 'PowerCode Code', 'PowerCode',\n       'Reference Period Code', 'Reference Period', 'Value', 'Flag Codes',\n       'Flags'],\n      dtype='object')\n"
    },
    {
     "output_type": "execute_result",
     "data": {
      "text/plain": "   TL Territory Level and Typology REG_ID                   Region      VAR  \\\n0   1                      Country    AUT                  Austria  POP_DEN   \n1   2          Large regions (TL2)   AT21                Carinthia  POP_DEN   \n2   1                      Country    BEL                  Belgium     SURF   \n3   2          Large regions (TL2)    BE1  Brussels Capital Region  POP_DEN   \n4   2          Large regions (TL2)    DED                   Saxony  POP_DEN   \n\n                               Indicator SEX Gender  POS     Position  ...  \\\n0      Population density (pop. per km2)   T  Total  ALL  All regions  ...   \n1      Population density (pop. per km2)   T  Total  ALL  All regions  ...   \n2                       Regional surface   T  Total  ALL  All regions  ...   \n3      Population density (pop. per km2)   T  Total  ALL  All regions  ...   \n4      Population density (pop. per km2)   T  Total  ALL  All regions  ...   \n\n   Year  Unit Code               Unit PowerCode Code  PowerCode  \\\n0  2018      RATIO              Ratio              0      Units   \n1  2018      RATIO              Ratio              0      Units   \n2  2018        KM2  Square kilometres              0      Units   \n3  2018      RATIO              Ratio              0      Units   \n4  2018      RATIO              Ratio              0      Units   \n\n  Reference Period Code Reference Period     Value  Flag Codes Flags  \n0                   NaN              NaN    106.91         NaN   NaN  \n1                   NaN              NaN     59.88         NaN   NaN  \n2                   NaN              NaN  30451.00         NaN   NaN  \n3                   NaN              NaN   7441.31         NaN   NaN  \n4                   NaN              NaN    224.54         NaN   NaN  \n\n[5 rows x 21 columns]",
      "text/html": "<div>\n<style scoped>\n    .dataframe tbody tr th:only-of-type {\n        vertical-align: middle;\n    }\n\n    .dataframe tbody tr th {\n        vertical-align: top;\n    }\n\n    .dataframe thead th {\n        text-align: right;\n    }\n</style>\n<table border=\"1\" class=\"dataframe\">\n  <thead>\n    <tr style=\"text-align: right;\">\n      <th></th>\n      <th>TL</th>\n      <th>Territory Level and Typology</th>\n      <th>REG_ID</th>\n      <th>Region</th>\n      <th>VAR</th>\n      <th>Indicator</th>\n      <th>SEX</th>\n      <th>Gender</th>\n      <th>POS</th>\n      <th>Position</th>\n      <th>...</th>\n      <th>Year</th>\n      <th>Unit Code</th>\n      <th>Unit</th>\n      <th>PowerCode Code</th>\n      <th>PowerCode</th>\n      <th>Reference Period Code</th>\n      <th>Reference Period</th>\n      <th>Value</th>\n      <th>Flag Codes</th>\n      <th>Flags</th>\n    </tr>\n  </thead>\n  <tbody>\n    <tr>\n      <th>0</th>\n      <td>1</td>\n      <td>Country</td>\n      <td>AUT</td>\n      <td>Austria</td>\n      <td>POP_DEN</td>\n      <td>Population density (pop. per km2)</td>\n      <td>T</td>\n      <td>Total</td>\n      <td>ALL</td>\n      <td>All regions</td>\n      <td>...</td>\n      <td>2018</td>\n      <td>RATIO</td>\n      <td>Ratio</td>\n      <td>0</td>\n      <td>Units</td>\n      <td>NaN</td>\n      <td>NaN</td>\n      <td>106.91</td>\n      <td>NaN</td>\n      <td>NaN</td>\n    </tr>\n    <tr>\n      <th>1</th>\n      <td>2</td>\n      <td>Large regions (TL2)</td>\n      <td>AT21</td>\n      <td>Carinthia</td>\n      <td>POP_DEN</td>\n      <td>Population density (pop. per km2)</td>\n      <td>T</td>\n      <td>Total</td>\n      <td>ALL</td>\n      <td>All regions</td>\n      <td>...</td>\n      <td>2018</td>\n      <td>RATIO</td>\n      <td>Ratio</td>\n      <td>0</td>\n      <td>Units</td>\n      <td>NaN</td>\n      <td>NaN</td>\n      <td>59.88</td>\n      <td>NaN</td>\n      <td>NaN</td>\n    </tr>\n    <tr>\n      <th>2</th>\n      <td>1</td>\n      <td>Country</td>\n      <td>BEL</td>\n      <td>Belgium</td>\n      <td>SURF</td>\n      <td>Regional surface</td>\n      <td>T</td>\n      <td>Total</td>\n      <td>ALL</td>\n      <td>All regions</td>\n      <td>...</td>\n      <td>2018</td>\n      <td>KM2</td>\n      <td>Square kilometres</td>\n      <td>0</td>\n      <td>Units</td>\n      <td>NaN</td>\n      <td>NaN</td>\n      <td>30451.00</td>\n      <td>NaN</td>\n      <td>NaN</td>\n    </tr>\n    <tr>\n      <th>3</th>\n      <td>2</td>\n      <td>Large regions (TL2)</td>\n      <td>BE1</td>\n      <td>Brussels Capital Region</td>\n      <td>POP_DEN</td>\n      <td>Population density (pop. per km2)</td>\n      <td>T</td>\n      <td>Total</td>\n      <td>ALL</td>\n      <td>All regions</td>\n      <td>...</td>\n      <td>2018</td>\n      <td>RATIO</td>\n      <td>Ratio</td>\n      <td>0</td>\n      <td>Units</td>\n      <td>NaN</td>\n      <td>NaN</td>\n      <td>7441.31</td>\n      <td>NaN</td>\n      <td>NaN</td>\n    </tr>\n    <tr>\n      <th>4</th>\n      <td>2</td>\n      <td>Large regions (TL2)</td>\n      <td>DED</td>\n      <td>Saxony</td>\n      <td>POP_DEN</td>\n      <td>Population density (pop. per km2)</td>\n      <td>T</td>\n      <td>Total</td>\n      <td>ALL</td>\n      <td>All regions</td>\n      <td>...</td>\n      <td>2018</td>\n      <td>RATIO</td>\n      <td>Ratio</td>\n      <td>0</td>\n      <td>Units</td>\n      <td>NaN</td>\n      <td>NaN</td>\n      <td>224.54</td>\n      <td>NaN</td>\n      <td>NaN</td>\n    </tr>\n  </tbody>\n</table>\n<p>5 rows × 21 columns</p>\n</div>"
     },
     "metadata": {},
     "execution_count": 26
    }
   ],
   "source": [
    "population_density_area_df = pd.read_csv(\"../input/OECD_PopulationDensity_and_Area-T2_T3_Regions-2018_2019.csv\")\n",
    "print(\"Columns available:\", population_density_area_df.columns)\n",
    "population_density_area_df.head()"
   ]
  },
  {
   "cell_type": "code",
   "execution_count": 27,
   "metadata": {},
   "outputs": [
    {
     "output_type": "stream",
     "name": "stdout",
     "text": "All unique 2938 regions recorded for OECD's population density data:  ['Guerrero, R4' 'Jalisco' 'Mexico, R2' ... 'Altai Krai' 'Sud-Ouest'\n 'Chelyabinsk Oblast']\n"
    },
    {
     "output_type": "execute_result",
     "data": {
      "text/plain": "      TL Territory Level and Typology  REG_ID          Region      VAR  \\\n1099   3          Small regions (TL3)  ME12R4    Guerrero, R4  POP_DEN   \n1103   2          Large regions (TL2)    ME14         Jalisco  POP_DEN   \n1105   3          Small regions (TL3)  ME15R2      Mexico, R2  POP_DEN   \n1121   3          Small regions (TL3)  ME17R5     Morelos, R5  POP_DEN   \n1135   3          Small regions (TL3)  ME19R3  Nuevo Leon, R3  POP_DEN   \n\n                                  Indicator SEX Gender  POS     Position  ...  \\\n1099      Population density (pop. per km2)   T  Total  ALL  All regions  ...   \n1103      Population density (pop. per km2)   T  Total  ALL  All regions  ...   \n1105      Population density (pop. per km2)   T  Total  ALL  All regions  ...   \n1121      Population density (pop. per km2)   T  Total  ALL  All regions  ...   \n1135      Population density (pop. per km2)   T  Total  ALL  All regions  ...   \n\n      Year  Unit Code   Unit PowerCode Code  PowerCode Reference Period Code  \\\n1099  2019      RATIO  Ratio              0      Units                   NaN   \n1103  2019      RATIO  Ratio              0      Units                   NaN   \n1105  2019      RATIO  Ratio              0      Units                   NaN   \n1121  2019      RATIO  Ratio              0      Units                   NaN   \n1135  2019      RATIO  Ratio              0      Units                   NaN   \n\n     Reference Period    Value  Flag Codes Flags  \n1099              NaN    52.31         NaN   NaN  \n1103              NaN   105.33         NaN   NaN  \n1105              NaN  1877.13         NaN   NaN  \n1121              NaN   142.19         NaN   NaN  \n1135              NaN     2.95         NaN   NaN  \n\n[5 rows x 21 columns]",
      "text/html": "<div>\n<style scoped>\n    .dataframe tbody tr th:only-of-type {\n        vertical-align: middle;\n    }\n\n    .dataframe tbody tr th {\n        vertical-align: top;\n    }\n\n    .dataframe thead th {\n        text-align: right;\n    }\n</style>\n<table border=\"1\" class=\"dataframe\">\n  <thead>\n    <tr style=\"text-align: right;\">\n      <th></th>\n      <th>TL</th>\n      <th>Territory Level and Typology</th>\n      <th>REG_ID</th>\n      <th>Region</th>\n      <th>VAR</th>\n      <th>Indicator</th>\n      <th>SEX</th>\n      <th>Gender</th>\n      <th>POS</th>\n      <th>Position</th>\n      <th>...</th>\n      <th>Year</th>\n      <th>Unit Code</th>\n      <th>Unit</th>\n      <th>PowerCode Code</th>\n      <th>PowerCode</th>\n      <th>Reference Period Code</th>\n      <th>Reference Period</th>\n      <th>Value</th>\n      <th>Flag Codes</th>\n      <th>Flags</th>\n    </tr>\n  </thead>\n  <tbody>\n    <tr>\n      <th>1099</th>\n      <td>3</td>\n      <td>Small regions (TL3)</td>\n      <td>ME12R4</td>\n      <td>Guerrero, R4</td>\n      <td>POP_DEN</td>\n      <td>Population density (pop. per km2)</td>\n      <td>T</td>\n      <td>Total</td>\n      <td>ALL</td>\n      <td>All regions</td>\n      <td>...</td>\n      <td>2019</td>\n      <td>RATIO</td>\n      <td>Ratio</td>\n      <td>0</td>\n      <td>Units</td>\n      <td>NaN</td>\n      <td>NaN</td>\n      <td>52.31</td>\n      <td>NaN</td>\n      <td>NaN</td>\n    </tr>\n    <tr>\n      <th>1103</th>\n      <td>2</td>\n      <td>Large regions (TL2)</td>\n      <td>ME14</td>\n      <td>Jalisco</td>\n      <td>POP_DEN</td>\n      <td>Population density (pop. per km2)</td>\n      <td>T</td>\n      <td>Total</td>\n      <td>ALL</td>\n      <td>All regions</td>\n      <td>...</td>\n      <td>2019</td>\n      <td>RATIO</td>\n      <td>Ratio</td>\n      <td>0</td>\n      <td>Units</td>\n      <td>NaN</td>\n      <td>NaN</td>\n      <td>105.33</td>\n      <td>NaN</td>\n      <td>NaN</td>\n    </tr>\n    <tr>\n      <th>1105</th>\n      <td>3</td>\n      <td>Small regions (TL3)</td>\n      <td>ME15R2</td>\n      <td>Mexico, R2</td>\n      <td>POP_DEN</td>\n      <td>Population density (pop. per km2)</td>\n      <td>T</td>\n      <td>Total</td>\n      <td>ALL</td>\n      <td>All regions</td>\n      <td>...</td>\n      <td>2019</td>\n      <td>RATIO</td>\n      <td>Ratio</td>\n      <td>0</td>\n      <td>Units</td>\n      <td>NaN</td>\n      <td>NaN</td>\n      <td>1877.13</td>\n      <td>NaN</td>\n      <td>NaN</td>\n    </tr>\n    <tr>\n      <th>1121</th>\n      <td>3</td>\n      <td>Small regions (TL3)</td>\n      <td>ME17R5</td>\n      <td>Morelos, R5</td>\n      <td>POP_DEN</td>\n      <td>Population density (pop. per km2)</td>\n      <td>T</td>\n      <td>Total</td>\n      <td>ALL</td>\n      <td>All regions</td>\n      <td>...</td>\n      <td>2019</td>\n      <td>RATIO</td>\n      <td>Ratio</td>\n      <td>0</td>\n      <td>Units</td>\n      <td>NaN</td>\n      <td>NaN</td>\n      <td>142.19</td>\n      <td>NaN</td>\n      <td>NaN</td>\n    </tr>\n    <tr>\n      <th>1135</th>\n      <td>3</td>\n      <td>Small regions (TL3)</td>\n      <td>ME19R3</td>\n      <td>Nuevo Leon, R3</td>\n      <td>POP_DEN</td>\n      <td>Population density (pop. per km2)</td>\n      <td>T</td>\n      <td>Total</td>\n      <td>ALL</td>\n      <td>All regions</td>\n      <td>...</td>\n      <td>2019</td>\n      <td>RATIO</td>\n      <td>Ratio</td>\n      <td>0</td>\n      <td>Units</td>\n      <td>NaN</td>\n      <td>NaN</td>\n      <td>2.95</td>\n      <td>NaN</td>\n      <td>NaN</td>\n    </tr>\n  </tbody>\n</table>\n<p>5 rows × 21 columns</p>\n</div>"
     },
     "metadata": {},
     "execution_count": 27
    }
   ],
   "source": [
    "#Limit to only population density data, and in Year 2019 only\n",
    "population_density_only = population_density_area_df[population_density_area_df[\"VAR\"] == \"POP_DEN\"]\n",
    "population_density_only.drop(['SEX', 'Gender', 'POS', 'Position', 'PowerCode Code', 'Reference Period Code', 'Reference Period'], axis=1)\n",
    "population_density_2019 = population_density_only[population_density_only[\"Year\"] == 2019]\n",
    "population_density_unique_regions = population_density_2019['Region'].unique()\n",
    "print(\"All unique {} regions recorded for OECD's population density data: \".format(str(len(population_density_unique_regions))), \n",
    "                                                                                    population_density_unique_regions)\n",
    "population_density_2019.head()"
   ]
  },
  {
   "cell_type": "code",
   "execution_count": 28,
   "metadata": {},
   "outputs": [
    {
     "output_type": "execute_result",
     "data": {
      "text/plain": "451.31"
     },
     "metadata": {},
     "execution_count": 28
    }
   ],
   "source": [
    "segment = population_density_2019[population_density_2019['Region'] == 'Anhui']\n",
    "segment['Value'].values[0]\n",
    "#segment[segment['Territory Level and Typology'] == 'Country']['Value'].values\n",
    "#segment.loc[]['Value']\n",
    "#len(segment[segment['Territory Level and Typology'] == 'Country'])"
   ]
  },
  {
   "cell_type": "code",
   "execution_count": 29,
   "metadata": {},
   "outputs": [
    {
     "output_type": "execute_result",
     "data": {
      "text/plain": "True"
     },
     "metadata": {},
     "execution_count": 29
    }
   ],
   "source": [
    "country_segment = train_appended_df[train_appended_df['Country_Region'] == \"Mexico\"]\n",
    "list(country_segment['Province_State'].unique()) == [np.NaN]"
   ]
  },
  {
   "cell_type": "code",
   "execution_count": 30,
   "metadata": {},
   "outputs": [
    {
     "output_type": "error",
     "ename": "NameError",
     "evalue": "name 'train_test' is not defined",
     "traceback": [
      "\u001b[0;31m---------------------------------------------------------------------------\u001b[0m",
      "\u001b[0;31mNameError\u001b[0m                                 Traceback (most recent call last)",
      "\u001b[0;32m<ipython-input-30-ccdf491ca677>\u001b[0m in \u001b[0;36m<module>\u001b[0;34m\u001b[0m\n\u001b[0;32m----> 1\u001b[0;31m \u001b[0mcountry_segment\u001b[0m \u001b[0;34m=\u001b[0m \u001b[0mtrain_test\u001b[0m\u001b[0;34m[\u001b[0m\u001b[0mtrain_test\u001b[0m\u001b[0;34m[\u001b[0m\u001b[0;34m'Country_Region'\u001b[0m\u001b[0;34m]\u001b[0m \u001b[0;34m==\u001b[0m \u001b[0;34m'China'\u001b[0m\u001b[0;34m]\u001b[0m\u001b[0;34m\u001b[0m\u001b[0;34m\u001b[0m\u001b[0m\n\u001b[0m\u001b[1;32m      2\u001b[0m \u001b[0mregion_segment\u001b[0m \u001b[0;34m=\u001b[0m \u001b[0mcountry_segment\u001b[0m\u001b[0;34m[\u001b[0m\u001b[0mcountry_segment\u001b[0m\u001b[0;34m[\u001b[0m\u001b[0;34m'Province_State'\u001b[0m\u001b[0;34m]\u001b[0m \u001b[0;34m==\u001b[0m \u001b[0;34m'Anhui'\u001b[0m\u001b[0;34m]\u001b[0m\u001b[0;34m\u001b[0m\u001b[0;34m\u001b[0m\u001b[0m\n\u001b[1;32m      3\u001b[0m \u001b[0mcountry_segment\u001b[0m\u001b[0;34m\u001b[0m\u001b[0;34m\u001b[0m\u001b[0m\n",
      "\u001b[0;31mNameError\u001b[0m: name 'train_test' is not defined"
     ]
    }
   ],
   "source": [
    "country_segment = train_test[train_test['Country_Region'] == 'China']\n",
    "region_segment = country_segment[country_segment['Province_State'] == 'Anhui']\n",
    "country_segment"
   ]
  },
  {
   "cell_type": "markdown",
   "metadata": {},
   "source": [
    "Adding these population data into the modified training_data:"
   ]
  },
  {
   "cell_type": "code",
   "execution_count": 31,
   "metadata": {},
   "outputs": [
    {
     "output_type": "execute_result",
     "data": {
      "text/plain": "array([\"'Afak\", \"'Ajlun\", \"'Ali Sabieh\", ..., '`Izra', 'eMbalenhle',\n       'maalot Tarshiha'], dtype=object)"
     },
     "metadata": {},
     "execution_count": 31
    }
   ],
   "source": [
    "popdf_unique_regions"
   ]
  },
  {
   "cell_type": "code",
   "execution_count": 32,
   "metadata": {
    "tags": [
     "outputPrepend"
    ]
   },
   "outputs": [
    {
     "output_type": "execute_result",
     "data": {
      "text/plain": "          Id Country_Region Province_State        Date  ConfirmedCases  \\\n0          1    Afghanistan            NaN  2020-01-22             0.0   \n1          2    Afghanistan            NaN  2020-01-23             0.0   \n2          3    Afghanistan            NaN  2020-01-24             0.0   \n3          4    Afghanistan            NaN  2020-01-25             0.0   \n4          5    Afghanistan            NaN  2020-01-26             0.0   \n...      ...            ...            ...         ...             ...   \n24409  35642       Zimbabwe            NaN  2020-04-04             9.0   \n24410  35643       Zimbabwe            NaN  2020-04-05             9.0   \n24411  35644       Zimbabwe            NaN  2020-04-06            10.0   \n24412  35645       Zimbabwe            NaN  2020-04-07            11.0   \n24413  35646       Zimbabwe            NaN  2020-04-08            11.0   \n\n       Fatalities country+province        Lat       Long  day_from_jan_first  \\\n0             0.0     Afghanistan-  33.000000  65.000000                  22   \n1             0.0     Afghanistan-  33.000000  65.000000                  23   \n2             0.0     Afghanistan-  33.000000  65.000000                  24   \n3             0.0     Afghanistan-  33.000000  65.000000                  25   \n4             0.0     Afghanistan-  33.000000  65.000000                  26   \n...           ...              ...        ...        ...                 ...   \n24409         1.0        Zimbabwe- -17.829167  31.052222                  95   \n24410         1.0        Zimbabwe- -17.829167  31.052222                  96   \n24411         1.0        Zimbabwe- -17.829167  31.052222                  97   \n24412         2.0        Zimbabwe- -17.829167  31.052222                  98   \n24413         3.0        Zimbabwe- -17.829167  31.052222                  99   \n\n       ...    stp     slp  dewp        rh        ah  wdsp   prcp  fog  \\\n0      ...  999.9  1024.3  27.4  0.545709  0.186448   9.4   0.00    0   \n1      ...  999.9  1020.8  22.8  0.461259  0.163225  14.9  99.99    1   \n2      ...  999.9  1018.6  34.5  0.801794  0.325375  10.4   0.17    1   \n3      ...  999.9  1018.0  37.8  0.728175  0.214562   6.1   0.57    1   \n4      ...  999.9  1014.8  33.2  0.685513  0.231656  10.8   0.00    1   \n...    ...    ...     ...   ...       ...       ...   ...    ...  ...   \n24409  ...  999.9     NaN  53.9  0.481730  0.130122   4.2   0.00    0   \n24410  ...  999.9     NaN  53.9  0.481730  0.130122   4.2   0.00    0   \n24411  ...  999.9     NaN  53.9  0.481730  0.130122   4.2   0.00    0   \n24412  ...  999.9     NaN  53.9  0.481730  0.130122   4.2   0.00    0   \n24413  ...  999.9     NaN  53.9  0.481730  0.130122   4.2   0.00    0   \n\n       Population (2020)  Population Density  \n0             38928346.0                  60  \n1             38928346.0                  60  \n2             38928346.0                  60  \n3             38928346.0                  60  \n4             38928346.0                  60  \n...                  ...                 ...  \n24409         14862924.0                  38  \n24410         14862924.0                  38  \n24411         14862924.0                  38  \n24412         14862924.0                  38  \n24413         14862924.0                  38  \n\n[24414 rows x 23 columns]",
      "text/html": "<div>\n<style scoped>\n    .dataframe tbody tr th:only-of-type {\n        vertical-align: middle;\n    }\n\n    .dataframe tbody tr th {\n        vertical-align: top;\n    }\n\n    .dataframe thead th {\n        text-align: right;\n    }\n</style>\n<table border=\"1\" class=\"dataframe\">\n  <thead>\n    <tr style=\"text-align: right;\">\n      <th></th>\n      <th>Id</th>\n      <th>Country_Region</th>\n      <th>Province_State</th>\n      <th>Date</th>\n      <th>ConfirmedCases</th>\n      <th>Fatalities</th>\n      <th>country+province</th>\n      <th>Lat</th>\n      <th>Long</th>\n      <th>day_from_jan_first</th>\n      <th>...</th>\n      <th>stp</th>\n      <th>slp</th>\n      <th>dewp</th>\n      <th>rh</th>\n      <th>ah</th>\n      <th>wdsp</th>\n      <th>prcp</th>\n      <th>fog</th>\n      <th>Population (2020)</th>\n      <th>Population Density</th>\n    </tr>\n  </thead>\n  <tbody>\n    <tr>\n      <th>0</th>\n      <td>1</td>\n      <td>Afghanistan</td>\n      <td>NaN</td>\n      <td>2020-01-22</td>\n      <td>0.0</td>\n      <td>0.0</td>\n      <td>Afghanistan-</td>\n      <td>33.000000</td>\n      <td>65.000000</td>\n      <td>22</td>\n      <td>...</td>\n      <td>999.9</td>\n      <td>1024.3</td>\n      <td>27.4</td>\n      <td>0.545709</td>\n      <td>0.186448</td>\n      <td>9.4</td>\n      <td>0.00</td>\n      <td>0</td>\n      <td>38928346.0</td>\n      <td>60</td>\n    </tr>\n    <tr>\n      <th>1</th>\n      <td>2</td>\n      <td>Afghanistan</td>\n      <td>NaN</td>\n      <td>2020-01-23</td>\n      <td>0.0</td>\n      <td>0.0</td>\n      <td>Afghanistan-</td>\n      <td>33.000000</td>\n      <td>65.000000</td>\n      <td>23</td>\n      <td>...</td>\n      <td>999.9</td>\n      <td>1020.8</td>\n      <td>22.8</td>\n      <td>0.461259</td>\n      <td>0.163225</td>\n      <td>14.9</td>\n      <td>99.99</td>\n      <td>1</td>\n      <td>38928346.0</td>\n      <td>60</td>\n    </tr>\n    <tr>\n      <th>2</th>\n      <td>3</td>\n      <td>Afghanistan</td>\n      <td>NaN</td>\n      <td>2020-01-24</td>\n      <td>0.0</td>\n      <td>0.0</td>\n      <td>Afghanistan-</td>\n      <td>33.000000</td>\n      <td>65.000000</td>\n      <td>24</td>\n      <td>...</td>\n      <td>999.9</td>\n      <td>1018.6</td>\n      <td>34.5</td>\n      <td>0.801794</td>\n      <td>0.325375</td>\n      <td>10.4</td>\n      <td>0.17</td>\n      <td>1</td>\n      <td>38928346.0</td>\n      <td>60</td>\n    </tr>\n    <tr>\n      <th>3</th>\n      <td>4</td>\n      <td>Afghanistan</td>\n      <td>NaN</td>\n      <td>2020-01-25</td>\n      <td>0.0</td>\n      <td>0.0</td>\n      <td>Afghanistan-</td>\n      <td>33.000000</td>\n      <td>65.000000</td>\n      <td>25</td>\n      <td>...</td>\n      <td>999.9</td>\n      <td>1018.0</td>\n      <td>37.8</td>\n      <td>0.728175</td>\n      <td>0.214562</td>\n      <td>6.1</td>\n      <td>0.57</td>\n      <td>1</td>\n      <td>38928346.0</td>\n      <td>60</td>\n    </tr>\n    <tr>\n      <th>4</th>\n      <td>5</td>\n      <td>Afghanistan</td>\n      <td>NaN</td>\n      <td>2020-01-26</td>\n      <td>0.0</td>\n      <td>0.0</td>\n      <td>Afghanistan-</td>\n      <td>33.000000</td>\n      <td>65.000000</td>\n      <td>26</td>\n      <td>...</td>\n      <td>999.9</td>\n      <td>1014.8</td>\n      <td>33.2</td>\n      <td>0.685513</td>\n      <td>0.231656</td>\n      <td>10.8</td>\n      <td>0.00</td>\n      <td>1</td>\n      <td>38928346.0</td>\n      <td>60</td>\n    </tr>\n    <tr>\n      <th>...</th>\n      <td>...</td>\n      <td>...</td>\n      <td>...</td>\n      <td>...</td>\n      <td>...</td>\n      <td>...</td>\n      <td>...</td>\n      <td>...</td>\n      <td>...</td>\n      <td>...</td>\n      <td>...</td>\n      <td>...</td>\n      <td>...</td>\n      <td>...</td>\n      <td>...</td>\n      <td>...</td>\n      <td>...</td>\n      <td>...</td>\n      <td>...</td>\n      <td>...</td>\n      <td>...</td>\n    </tr>\n    <tr>\n      <th>24409</th>\n      <td>35642</td>\n      <td>Zimbabwe</td>\n      <td>NaN</td>\n      <td>2020-04-04</td>\n      <td>9.0</td>\n      <td>1.0</td>\n      <td>Zimbabwe-</td>\n      <td>-17.829167</td>\n      <td>31.052222</td>\n      <td>95</td>\n      <td>...</td>\n      <td>999.9</td>\n      <td>NaN</td>\n      <td>53.9</td>\n      <td>0.481730</td>\n      <td>0.130122</td>\n      <td>4.2</td>\n      <td>0.00</td>\n      <td>0</td>\n      <td>14862924.0</td>\n      <td>38</td>\n    </tr>\n    <tr>\n      <th>24410</th>\n      <td>35643</td>\n      <td>Zimbabwe</td>\n      <td>NaN</td>\n      <td>2020-04-05</td>\n      <td>9.0</td>\n      <td>1.0</td>\n      <td>Zimbabwe-</td>\n      <td>-17.829167</td>\n      <td>31.052222</td>\n      <td>96</td>\n      <td>...</td>\n      <td>999.9</td>\n      <td>NaN</td>\n      <td>53.9</td>\n      <td>0.481730</td>\n      <td>0.130122</td>\n      <td>4.2</td>\n      <td>0.00</td>\n      <td>0</td>\n      <td>14862924.0</td>\n      <td>38</td>\n    </tr>\n    <tr>\n      <th>24411</th>\n      <td>35644</td>\n      <td>Zimbabwe</td>\n      <td>NaN</td>\n      <td>2020-04-06</td>\n      <td>10.0</td>\n      <td>1.0</td>\n      <td>Zimbabwe-</td>\n      <td>-17.829167</td>\n      <td>31.052222</td>\n      <td>97</td>\n      <td>...</td>\n      <td>999.9</td>\n      <td>NaN</td>\n      <td>53.9</td>\n      <td>0.481730</td>\n      <td>0.130122</td>\n      <td>4.2</td>\n      <td>0.00</td>\n      <td>0</td>\n      <td>14862924.0</td>\n      <td>38</td>\n    </tr>\n    <tr>\n      <th>24412</th>\n      <td>35645</td>\n      <td>Zimbabwe</td>\n      <td>NaN</td>\n      <td>2020-04-07</td>\n      <td>11.0</td>\n      <td>2.0</td>\n      <td>Zimbabwe-</td>\n      <td>-17.829167</td>\n      <td>31.052222</td>\n      <td>98</td>\n      <td>...</td>\n      <td>999.9</td>\n      <td>NaN</td>\n      <td>53.9</td>\n      <td>0.481730</td>\n      <td>0.130122</td>\n      <td>4.2</td>\n      <td>0.00</td>\n      <td>0</td>\n      <td>14862924.0</td>\n      <td>38</td>\n    </tr>\n    <tr>\n      <th>24413</th>\n      <td>35646</td>\n      <td>Zimbabwe</td>\n      <td>NaN</td>\n      <td>2020-04-08</td>\n      <td>11.0</td>\n      <td>3.0</td>\n      <td>Zimbabwe-</td>\n      <td>-17.829167</td>\n      <td>31.052222</td>\n      <td>99</td>\n      <td>...</td>\n      <td>999.9</td>\n      <td>NaN</td>\n      <td>53.9</td>\n      <td>0.481730</td>\n      <td>0.130122</td>\n      <td>4.2</td>\n      <td>0.00</td>\n      <td>0</td>\n      <td>14862924.0</td>\n      <td>38</td>\n    </tr>\n  </tbody>\n</table>\n<p>24414 rows × 23 columns</p>\n</div>"
     },
     "metadata": {},
     "execution_count": 32
    }
   ],
   "source": [
    "#train_appended_df = train_appended_df.copy()\n",
    "#Initiate new feature columns\n",
    "added_features = ['Population (2020)', 'Population Density']\n",
    "for feature in added_features:\n",
    "    train_appended_df[feature] = 0\n",
    "\n",
    "for country in train_appended_df['Country_Region'].unique():\n",
    "    #print(train_appended_df['Population (2020)'].unique())\n",
    "    country_segment = train_appended_df[train_appended_df['Country_Region'] == country]\n",
    "\n",
    "    #Sanity check for several countries, as they're apparently named quite differently in Worldometers vs the training data\n",
    "    if country == \"Burma\":\n",
    "        country = \"Myanmar\" #Burma in Training data is actually Myanmar. History stuff I guess?\n",
    "    elif country == \"Korea, South\":\n",
    "        country = \"South Korea\" #this one is honestly just trolling at this point...\n",
    "\n",
    "    population_df_country = population_df[population_df['Country (or dependency)'] == country]#['Region'] == 'All_Regions'\n",
    "\n",
    "    #check whehter the current country has any listed states/regions in the original training data.\n",
    "    #If yes: Add regional population and regional population density data\n",
    "    #If not: Only add country population and population density data.\n",
    "    country_regions_training = list(country_segment['Province_State'].unique())\n",
    "\n",
    "    #Apparently there are 2 'Congo'-s: Republic of Congo/Brazzaville, vs DEMOCRATIC Republic of Congo/Zaire (as how it's differentiated in Worldometers)\n",
    "    if country == \"Congo (Brazzaville)\": \n",
    "        country = \"Congo\"\n",
    "        country_regions_training = [\"Brazzaville\"]\n",
    "    elif country == \"Congo (Kinshasa)\":\n",
    "        country = \"Congo\"\n",
    "        country_regions_training = [\"Kinshasa\"]\n",
    "\n",
    "    if country_regions_training == [np.NaN]:\n",
    "        #print(country, country_regions_training)\n",
    "        \n",
    "        #sanity check: in case country isn't listed in the worldometers population data, \n",
    "        #then query to the population_df would return DataFrame of 0\n",
    "        if len(population_df_country) != 0:\n",
    "            try:\n",
    "                country_population = int(population_df_country[population_df_country['Region'] == \"All_Regions\"][\"Population (2020)\"].values[0].replace(\",\", \"\")) \n",
    "            except:\n",
    "                print(\"Problematic country for pop. df\", country, country_regions_training)\n",
    "            try:\n",
    "                country_population_density = population_df_country[population_df_country['Region'] == \"All_Regions\"][\"Density (P/Km²)\"].values[0]\n",
    "            except:\n",
    "                print(\"Problematic country for pop_density df\", country, country_regions_training)\n",
    "                break\n",
    "        else:\n",
    "            continue\n",
    "            \n",
    "        country_ids = country_segment.index.tolist()\n",
    "        train_appended_df.loc[country_ids, ['Population (2020)']] = country_population\n",
    "        train_appended_df.loc[country_ids, ['Population Density']] = country_population_density\n",
    "    else:\n",
    "        for region in country_regions_training:\n",
    "            region_segment = country_segment[country_segment['Province_State'] == region]\n",
    "\n",
    "            #sanity check, as apparently the region names are not truly unique to a country in Worldometer's data\n",
    "            #(in particular, the region 'Victoria' which is unique to Australia in training data, is not present in Worldometer's Australia,\n",
    "            # and instead available for other countries.)\n",
    "            region_popdf_segment = population_df_country[population_df_country['Region'] == region]\n",
    "            region_popdensity_segment = population_density_2019[population_density_2019['Region'] == region]\n",
    "\n",
    "            if len(region_popdf_segment) == 1: #Means that there is a valid row available in Worldometer's population_data\n",
    "                region_population = int(region_popdf_segment[\"Population (2020)\"].values[0].replace(\",\", \"\") )\n",
    "                #region_population = int(population_df_country[population_df_country['Region'] == region][\"Population (2020)\"].values[0].replace(\",\", \"\"))\n",
    "            else:\n",
    "                region_population = np.NaN\n",
    "\n",
    "            if len(region_popdensity_segment) == 1:\n",
    "                region_population_density = population_density_2019[population_density_2019['Region'] == region]['Value'].values[0]\n",
    "            else:\n",
    "                region_population_density = np.NaN\n",
    "\n",
    "            region_ids = region_segment.index.tolist()\n",
    "            train_appended_df.loc[region_ids, ['Population (2020)']] = region_population\n",
    "            train_appended_df.loc[region_ids,['Population Density']] = region_population_density\n",
    "train_appended_df\n",
    "#print(\"Done\")"
   ]
  },
  {
   "cell_type": "code",
   "execution_count": 17,
   "metadata": {},
   "outputs": [],
   "source": [
    "train_appended_df.to_csv(\"../input/train_feature_appended.csv\")"
   ]
  },
  {
   "cell_type": "code",
   "execution_count": null,
   "metadata": {},
   "outputs": [],
   "source": [
    "for country in train_appended_df['Country_Region']:\n",
    "    train_appended_df['Population (2020)'] = "
   ]
  },
  {
   "cell_type": "markdown",
   "metadata": {},
   "source": [
    "\n",
    "\n",
    "### 1. Default Features\n",
    "First, we'll create a model that is trained just using the default features provided by the training data. "
   ]
  },
  {
   "cell_type": "markdown",
   "metadata": {},
   "source": [
    "### 1.c. Testing Data\n",
    "Testing is a very important step in detecting and (hopefully) reducing the spread of COVID-19. In particular, development of *rapid* and *accurate* tests, that is *highly accessible* to the public has been [touted](https://www.heart.org/en/news/2020/04/02/covid-19-science-why-testing-is-so-important) by [a lot](https://www.id-hub.com/2020/04/02/the-importance-of-diagnostic-testing-for-covid-19/) of [experts](https://www.weforum.org/agenda/2020/04/united-states-coronavirus-bill-gates/) as one of the critical key steps that a country should focus on, to combat the COVID-19 spread.\n",
    "\n",
    "As such, we suspect a high correlation between the amount of tests (as well as the test accuracy) against the forecasting/prediciton capabilities a model could have for COVID-19, and decided to also include the test data that has been provided by a variety of countries. Of course, it could be argued that increasing amount of tests would logically also increase the amount of *detected* confirmed cases, however faster tests should hypothetically allow for less amount of fatalities since faster and better handling of the confirmed patients should theoretically be doable.\n",
    "\n",
    "For this, we'll be "
   ]
  },
  {
   "cell_type": "code",
   "execution_count": null,
   "metadata": {},
   "outputs": [],
   "source": []
  }
 ],
 "metadata": {
  "file_extension": ".py",
  "kernelspec": {
   "display_name": "Python 3.6.9 64-bit ('covid19_forecast': virtualenv)",
   "language": "python",
   "name": "python36964bitcovid19forecastvirtualenvb3ff07c470b54162a144309f090d5d1b"
  },
  "language_info": {
   "codemirror_mode": {
    "name": "ipython",
    "version": 3
   },
   "file_extension": ".py",
   "mimetype": "text/x-python",
   "name": "python",
   "nbconvert_exporter": "python",
   "pygments_lexer": "ipython3",
   "version": "3.6.9-final"
  },
  "mimetype": "text/x-python",
  "name": "python",
  "npconvert_exporter": "python",
  "pygments_lexer": "ipython3",
  "version": 3
 },
 "nbformat": 4,
 "nbformat_minor": 2
}