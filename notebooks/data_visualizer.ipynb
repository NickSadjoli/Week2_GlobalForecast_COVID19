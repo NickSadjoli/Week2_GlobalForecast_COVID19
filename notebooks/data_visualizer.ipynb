{
 "cells": [
  {
   "cell_type": "code",
   "execution_count": 1,
   "metadata": {},
   "outputs": [],
   "source": [
    "import pandas as pd \n",
    "import datetime\n",
    "import math\n",
    "import numpy as np\n",
    "from sklearn.metrics import mean_squared_error\n",
    "import copy\n",
    "\n",
    "from interpret import show\n",
    "from interpret.data import Marginal\n",
    "from interpret.glassbox import ExplainableBoostingRegressor, LinearRegression, RegressionTree\n",
    "from interpret.perf import RegressionPerf\n",
    "\n",
    "import data_retreiver as dr\n",
    "\n",
    "seed = 1"
   ]
  },
  {
   "cell_type": "code",
   "execution_count": 2,
   "metadata": {},
   "outputs": [],
   "source": [
    "targets = [\"ConfirmedCases\", \"Fatalities\"]\n",
    "features = ['Days','Region',\"prev_ConfirmedCases\",\"prev_Fatalities\",\"Median_Age\", \"Population\", \"Population_Density\"]\n",
    "features = ['Days','Region',\"prev_ConfirmedCases\",\"prev_Fatalities\"]\n",
    "\n",
    "# Create population instance\n",
    "population = dr.Population(\"data/Worldometer_Population_Latest.csv\")"
   ]
  },
  {
   "cell_type": "code",
   "execution_count": 3,
   "metadata": {},
   "outputs": [],
   "source": [
    "def append_data(filename):\n",
    "    df = pd.read_csv(filename)\n",
    "\n",
    "    missing_country_list = []\n",
    "    missing_value_median_age = -1\n",
    "    missing_value_population = 100000\n",
    "    missing_value_population_density = 1\n",
    "    median_age_list = []\n",
    "    population_list = []\n",
    "    population_density_list = []\n",
    "    for country in df[\"Country_Region\"]:\n",
    "        \n",
    "        ##############\n",
    "        # Median age\n",
    "        ##############\n",
    "        median_age_ = population.get_median_age(country)\n",
    "        if(median_age_ is None):\n",
    "\n",
    "            median_age_list.append(missing_value_median_age)\n",
    "\n",
    "            # Report/ note that this country is not available\n",
    "            if(country not in missing_country_list):\n",
    "                missing_country_list.append(country)\n",
    "        else:\n",
    "            median_age_list.append(median_age_)\n",
    "        \n",
    "        ###############\n",
    "        # Population\n",
    "        ###############\n",
    "        population_ = population.get_population(country)\n",
    "        if(population_ is None):\n",
    "            population_list.append(missing_value_population)\n",
    "        else:\n",
    "            population_list.append(population_)\n",
    "        \n",
    "        #####################\n",
    "        # Population density\n",
    "        #####################\n",
    "        population_density_ = population.get_population_density(country)\n",
    "        if(population_density_ is None):\n",
    "            population_density_list.append(missing_value_population_density)\n",
    "        else:\n",
    "            population_density_list.append(population_density_)\n",
    "    \n",
    "    df[\"Median_Age\"] = median_age_list\n",
    "    df[\"Population\"] = population_list\n",
    "    df[\"Population_Density\"] = population_density_list\n",
    "    df.to_csv(\"data/appended_data.csv\")\n",
    "    \n",
    "    return missing_country_list"
   ]
  },
  {
   "cell_type": "code",
   "execution_count": 4,
   "metadata": {
    "scrolled": true
   },
   "outputs": [
    {
     "output_type": "execute_result",
     "data": {
      "text/plain": "['Andorra',\n 'Congo (Brazzaville)',\n 'Congo (Kinshasa)',\n \"Cote d'Ivoire\",\n 'Czechia',\n 'Diamond Princess',\n 'Dominica',\n 'Holy See',\n 'Liechtenstein',\n 'Monaco',\n 'Saint Kitts and Nevis',\n 'Saint Vincent and the Grenadines',\n 'San Marino']"
     },
     "metadata": {},
     "execution_count": 4
    }
   ],
   "source": [
    "append_data(\"data/train.csv\")"
   ]
  },
  {
   "cell_type": "code",
   "execution_count": 5,
   "metadata": {},
   "outputs": [],
   "source": [
    "def preprocess(filename):\n",
    "    df = pd.read_csv(filename)\n",
    "\n",
    "    # Create category called Region: country_province\n",
    "    region_list = [\"{}_{}\".format(df[\"Country_Region\"][i], df[\"Province_State\"][i]) for i in range(df.shape[0])]\n",
    "    df[\"Region\"]=region_list\n",
    "\n",
    "    # Get first day of corona virus for each region\n",
    "    unique_region_list = list(set(region_list))\n",
    "    unique_region_list.sort()\n",
    "    first_date_dict = {}\n",
    "    for region in unique_region_list:\n",
    "        mask = df[\"Region\"]==region\n",
    "        first_ix = np.where(df[mask][\"ConfirmedCases\"]>0)[0][0] -1    \n",
    "        first_date = df[mask][\"Date\"].iloc[first_ix]\n",
    "        first_date_dict[region] = first_date\n",
    "\n",
    "    # add column \"Days\": number of days since the first day of case per each region\n",
    "    def get_days(dt):\n",
    "        return dt.days\n",
    "    dummy = [first_date_dict[region] for region in df[\"Region\"]]\n",
    "    df[\"Days\"]=(pd.to_datetime(df['Date'])-pd.to_datetime(dummy)).apply(get_days)\n",
    "\n",
    "    # Add previous confirmed cases and previous fatalities to df\n",
    "    loc_group=[\"Region\"]\n",
    "    for target in targets:\n",
    "        df[\"prev_{}\".format(target)] = df.groupby(loc_group)[target].shift()\n",
    "        df[\"prev_{}\".format(target)].fillna(0, inplace=True)\n",
    "    \n",
    "    # TODO\n",
    "    df = df[df[\"Days\"]>=-1].copy(deep=True)\n",
    "    \n",
    "    # TODO apply log\n",
    "    for target in targets:\n",
    "        df[target] = np.log1p(df[target])\n",
    "        df[\"prev_{}\".format(target)] = np.log1p(df[\"prev_{}\".format(target)])\n",
    "    \n",
    "    # ConfirmCases, Fatilies\n",
    "    X = df[features]\n",
    "    # TODO use log1p\n",
    "    Y = df[targets]\n",
    "    \n",
    "    return X,Y"
   ]
  },
  {
   "cell_type": "code",
   "execution_count": 6,
   "metadata": {},
   "outputs": [],
   "source": [
    "X,Y=preprocess(\"data/appended_data.csv\")"
   ]
  },
  {
   "cell_type": "code",
   "execution_count": 7,
   "metadata": {},
   "outputs": [],
   "source": [
    "def split_train_val(X,Y, unique_region_list,num_of_val_days):\n",
    "    \n",
    "    train_ix = []\n",
    "    val_ix = []\n",
    "    for region in unique_region_list:\n",
    "        \n",
    "        mask = X[\"Region\"]==region\n",
    "        ix = np.where(mask)[0]\n",
    "        \n",
    "        train_ix += list(ix[:-num_of_val_days].flatten())\n",
    "        val_ix += list(ix[-num_of_val_days:].flatten())\n",
    "        \n",
    "    return X.iloc[train_ix],X.iloc[val_ix],Y.iloc[train_ix],Y.iloc[val_ix]    \n",
    "\n",
    "# IMPORTANT NOTE: We can only use prev_ConfirmedCases for the first day to predict"
   ]
  },
  {
   "cell_type": "code",
   "execution_count": 8,
   "metadata": {
    "scrolled": false
   },
   "outputs": [
    {
     "output_type": "display_data",
     "data": {
      "text/html": "<!-- http://127.0.0.1:7156/139619101016584/ -->\n<iframe src=\"http://127.0.0.1:7156/139619101016584/\" width=100% height=800 frameBorder=\"0\"></iframe>"
     },
     "metadata": {}
    },
    {
     "output_type": "display_data",
     "data": {
      "text/html": "<!-- http://127.0.0.1:7156/139619035356408/ -->\n<iframe src=\"http://127.0.0.1:7156/139619035356408/\" width=100% height=800 frameBorder=\"0\"></iframe>"
     },
     "metadata": {}
    }
   ],
   "source": [
    "for target in targets:\n",
    "    marginal = Marginal().explain_data(X, Y[target],target)\n",
    "    show(marginal)"
   ]
  },
  {
   "cell_type": "markdown",
   "metadata": {},
   "source": [
    "## Train and Predict with Explainable Boosting Machine (EBM)"
   ]
  },
  {
   "cell_type": "code",
   "execution_count": 9,
   "metadata": {},
   "outputs": [],
   "source": [
    "# IMPORTANT NOTE: assuming that X_features is sorted by number of days \"Days\"\n",
    "ENFORCE_CONSTRAINT = True\n",
    "def evaluate_rmse(Y_predicted,Y_true):\n",
    "    \"\"\"\n",
    "    Y_predicted: n-by-d n is the number of data points, d is the number of criteria\n",
    "    Y_true: n-by-d\n",
    "    OUTPUT\n",
    "    d elements\n",
    "    \"\"\"\n",
    "    return np.sqrt(mean_squared_error(Y_predicted,Y_true,multioutput='raw_values'))\n",
    "\n",
    "def predict(X_features,Y,num_validation_days,num_days_to_predict):\n",
    "    unique_region_list = list(set(X_features[\"Region\"]))\n",
    "    unique_region_list.sort()\n",
    "    print(\"No of unique region list: {}\".format(len(unique_region_list)))\n",
    "    \n",
    "    ##################################################################\n",
    "    # Train and Validation\n",
    "    ##################################################################\n",
    "    # Split to train and validation\n",
    "    X_train,X_val,Y_train,Y_val = split_train_val(X,Y, unique_region_list,num_validation_days)\n",
    "    \n",
    "    # Train\n",
    "    model_ConfirmedCases = ExplainableBoostingRegressor(random_state=seed)\n",
    "    model_ConfirmedCases.fit(X_train,Y_train[\"ConfirmedCases\"])\n",
    "    model_Fatalities = ExplainableBoostingRegressor(random_state=seed)\n",
    "    model_Fatalities.fit(X_train,Y_train[\"Fatalities\"])\n",
    "    \n",
    "    # Predict for val\n",
    "    Y_val_predicted = np.zeros((X_val.shape[0],2))\n",
    "    \n",
    "    for i in range(X_val.shape[0]):\n",
    "        \n",
    "        if(i==0 or X_val.iloc[i-1][\"Region\"] != X_val.iloc[i][\"Region\"]):\n",
    "            pred_ConfirmedCases = model_ConfirmedCases.predict(X_val.iloc[[i]])[0]\n",
    "            pred_Fatalities = model_Fatalities.predict(X_val.iloc[[i]])[0]\n",
    "            \n",
    "            if(ENFORCE_CONSTRAINT):\n",
    "                if(pred_ConfirmedCases<X_val.iloc[[i]][\"prev_ConfirmedCases\"].item()):\n",
    "                    pred_ConfirmedCases = 1.*X_val.iloc[[i]][\"prev_ConfirmedCases\"].item()\n",
    "                if(pred_Fatalities<X_val.iloc[[i]][\"prev_Fatalities\"].item()):\n",
    "                    pred_Fatalities = X_val.iloc[[i]][\"prev_Fatalities\"].item()\n",
    "                    \n",
    "        else:\n",
    "            X_dummy  = X_val.iloc[[i]].copy(deep=True)\n",
    "            X_dummy[\"prev_ConfirmedCases\"] = pred_ConfirmedCases\n",
    "            X_dummy[\"prev_Fatalities\"] = pred_Fatalities\n",
    "            pred_ConfirmedCases = model_ConfirmedCases.predict(X_dummy)\n",
    "            pred_Fatalities =model_Fatalities.predict(X_dummy)\n",
    "        \n",
    "            if(ENFORCE_CONSTRAINT):\n",
    "                if(pred_ConfirmedCases<X_dummy[\"prev_ConfirmedCases\"].item()):\n",
    "                    pred_ConfirmedCases = 1.* X_dummy[\"prev_ConfirmedCases\"].item()\n",
    "                if(pred_Fatalities<X_dummy[\"prev_Fatalities\"].item()):\n",
    "                    pred_Fatalities = X_dummy[\"prev_Fatalities\"].item()\n",
    "                    \n",
    "        Y_val_predicted[i,0] = pred_ConfirmedCases\n",
    "        Y_val_predicted[i,1] = pred_Fatalities\n",
    "        \n",
    "    # Report validation accuracy\n",
    "    val_rmse = evaluate_rmse(Y_val,Y_val_predicted)\n",
    "    \n",
    "    ##################################################################\n",
    "    # Train w Full Model and Predict for Test\n",
    "    ##################################################################\n",
    "    # Train with full data\n",
    "    model_full_ConfirmedCases = ExplainableBoostingRegressor(random_state=seed)\n",
    "    model_full_ConfirmedCases.fit(X_features,Y[\"ConfirmedCases\"])\n",
    "    model_full_Fatalities = ExplainableBoostingRegressor(random_state=seed)\n",
    "    model_full_Fatalities.fit(X_features,Y[\"Fatalities\"])\n",
    "    \n",
    "    # Predict for test\n",
    "    Y_test_predicted = np.zeros((len(unique_region_list)*num_days_to_predict,2))\n",
    "    count=0\n",
    "    for region in unique_region_list:\n",
    "        mask = X_features[\"Region\"]==region\n",
    "        \n",
    "        prev_ConfirmedCase_ = Y[mask][\"ConfirmedCases\"].iloc[-1]\n",
    "        prev_Fatality_ = Y[mask][\"Fatalities\"].iloc[-1]\n",
    "        \n",
    "        #print(prev_ConfirmedCase_,np.exp(prev_ConfirmedCase_)-1, prev_Fatality_, np.exp(prev_Fatality_)-1)\n",
    "        \n",
    "        X_dummy = X[mask].iloc[[-1]].copy(deep=True)\n",
    "        X_dummy[\"prev_ConfirmedCases\"] = prev_ConfirmedCase_\n",
    "        X_dummy[\"prev_Fatalities\"] = prev_Fatality_\n",
    "        X_dummy[\"Days\"] = X_dummy[\"Days\"]+1\n",
    "        \n",
    "        pred_ConfirmedCases = model_full_ConfirmedCases.predict(X_dummy)\n",
    "        pred_Fatalities = model_full_Fatalities.predict(X_dummy)\n",
    "        \n",
    "        if(ENFORCE_CONSTRAINT):\n",
    "            if(pred_ConfirmedCases<X_dummy[\"prev_ConfirmedCases\"].item()):\n",
    "                pred_ConfirmedCases = X_dummy[\"prev_ConfirmedCases\"].item()\n",
    "            if(pred_Fatalities<X_dummy[\"prev_Fatalities\"].item()):\n",
    "                pred_Fatalities = X_dummy[\"prev_Fatalities\"].item()\n",
    "                \n",
    "        Y_test_predicted[count,0] = pred_ConfirmedCases\n",
    "        Y_test_predicted[count,1] = pred_Fatalities\n",
    "        count = count+1\n",
    "        \n",
    "        for days_ahead in range(2,num_days_to_predict+1):\n",
    "            \n",
    "            X_dummy[\"prev_ConfirmedCases\"] = pred_ConfirmedCases\n",
    "            X_dummy[\"prev_Fatalities\"] = pred_Fatalities\n",
    "            X_dummy[\"Days\"] = X_dummy[\"Days\"]+1\n",
    "            pred_ConfirmedCases = model_full_ConfirmedCases.predict(X_dummy)\n",
    "            pred_Fatalities = model_full_Fatalities.predict(X_dummy)\n",
    "            \n",
    "            if(ENFORCE_CONSTRAINT):\n",
    "                if(pred_ConfirmedCases<X_dummy[\"prev_ConfirmedCases\"].item()):\n",
    "                    pred_ConfirmedCases = X_dummy[\"prev_ConfirmedCases\"].item()\n",
    "                if(pred_Fatalities<X_dummy[\"prev_Fatalities\"].item()):\n",
    "                    pred_Fatalities = X_dummy[\"prev_Fatalities\"].item()\n",
    "                \n",
    "            Y_test_predicted[count,0] = pred_ConfirmedCases\n",
    "            Y_test_predicted[count,1] = pred_Fatalities\n",
    "            \n",
    "            count = count+1\n",
    "      \n",
    "    assert count==len(Y_test_predicted), \"Something wrong\"\n",
    "    \n",
    "\n",
    "    return unique_region_list,Y_val,Y_val_predicted,val_rmse,Y_test_predicted"
   ]
  },
  {
   "cell_type": "code",
   "execution_count": 10,
   "metadata": {
    "scrolled": false
   },
   "outputs": [
    {
     "output_type": "stream",
     "name": "stdout",
     "text": "No of unique region list: 294\n"
    }
   ],
   "source": [
    "num_days_to_predict = 43\n",
    "num_validation_days = 10\n",
    "unique_region_list,Y_val,Y_val_predicted,val_rmse,Y_test_predicted=predict(X,Y,num_validation_days,num_days_to_predict)"
   ]
  },
  {
   "cell_type": "code",
   "execution_count": 11,
   "metadata": {},
   "outputs": [
    {
     "output_type": "stream",
     "name": "stdout",
     "text": "RMSE for ConfirmedCases and Fatalities: [0.86375747 0.80420493]\n"
    }
   ],
   "source": [
    "# Validation error\n",
    "print(\"RMSE for ConfirmedCases and Fatalities: {}\".format(val_rmse))\n",
    "\n",
    "# LOG\n",
    "# 0.931977, 0.82815295\n",
    "# After removing days prior to -1\n",
    "# 0.80376954 0.79612643\n",
    "# After adding median age:\n",
    "# 0.8431897  0.80701996]\n",
    "#-----------------------\n",
    "# After adding median + population\n",
    "# 0.91686018 0.8191398\n",
    "# After adding median + population + population density\n",
    "# 0.91361809 0.82330433"
   ]
  },
  {
   "cell_type": "code",
   "execution_count": 12,
   "metadata": {},
   "outputs": [],
   "source": [
    "# This is the final value ConfirmedCases and Fatalities\n",
    "# Convert back to linear scale\n",
    "Y_test_predicted_final = np.exp(Y_test_predicted)-1\n",
    "Y_val_predicted_final = np.exp(Y_val_predicted)-1"
   ]
  },
  {
   "cell_type": "code",
   "execution_count": 13,
   "metadata": {},
   "outputs": [],
   "source": [
    "pd.DataFrame(Y_test_predicted_final).to_csv(\"data/prediction_result.csv\")"
   ]
  },
  {
   "cell_type": "code",
   "execution_count": 14,
   "metadata": {},
   "outputs": [
    {
     "output_type": "stream",
     "name": "stdout",
     "text": "[[141.87333753   4.14488307]\n [170.56422072   4.41943655]\n [209.70614468   4.4941812 ]\n ...\n [232.25756882   1.51521036]\n [255.05273487   1.51521036]\n [268.73137835   1.51521036]]\n*****\n12642\n"
    }
   ],
   "source": [
    "print(Y_test_predicted_final)\n",
    "print(\"*****\")\n",
    "print(len(Y_test_predicted_final))"
   ]
  },
  {
   "cell_type": "markdown",
   "metadata": {},
   "source": [
    "## Result Visualization"
   ]
  },
  {
   "cell_type": "code",
   "execution_count": 15,
   "metadata": {},
   "outputs": [],
   "source": [
    "import matplotlib.pyplot as plt\n",
    "from matplotlib import gridspec"
   ]
  },
  {
   "cell_type": "code",
   "execution_count": 16,
   "metadata": {},
   "outputs": [],
   "source": [
    "# Choose using region_ix\n",
    "#region_ix = 3\n",
    "#region = unique_region_list[region_ix]\n",
    "\n",
    "# Choose using region\n",
    "region = \"Indonesia_nan\"\n",
    "region_ix = unique_region_list.index(region)\n",
    "\n",
    "USE_LOG_SCALE=False\n",
    "PLOT_LINE = False\n",
    "##############################################\n",
    "\n",
    "mask = X[\"Region\"]==region\n",
    "N = Y[mask].shape[0]\n",
    "x_ = np.arange(N+num_days_to_predict)\n",
    "\n",
    "validation_confirmed_cases = Y_val_predicted_final[region_ix*num_validation_days:(region_ix+1)*num_validation_days,0]\n",
    "validation_fatalities = Y_val_predicted_final[region_ix*num_validation_days:(region_ix+1)*num_validation_days,1]\n",
    "predicted_confirmed_cases = Y_test_predicted_final[region_ix*num_days_to_predict:(region_ix+1)*num_days_to_predict,0]\n",
    "predicted_fatalities = Y_test_predicted_final[region_ix*num_days_to_predict:(region_ix+1)*num_days_to_predict,1]"
   ]
  },
  {
   "cell_type": "code",
   "execution_count": 17,
   "metadata": {},
   "outputs": [
    {
     "output_type": "execute_result",
     "data": {
      "text/plain": "<matplotlib.legend.Legend at 0x7efbccb73a20>"
     },
     "metadata": {},
     "execution_count": 17
    },
    {
     "output_type": "display_data",
     "data": {
      "text/plain": "<Figure size 864x360 with 2 Axes>",
      "image/svg+xml": "<?xml version=\"1.0\" encoding=\"utf-8\" standalone=\"no\"?>\n<!DOCTYPE svg PUBLIC \"-//W3C//DTD SVG 1.1//EN\"\n  \"http://www.w3.org/Graphics/SVG/1.1/DTD/svg11.dtd\">\n<!-- Created with matplotlib (https://matplotlib.org/) -->\n<svg height=\"317.99625pt\" version=\"1.1\" viewBox=\"0 0 722.8125 317.99625\" width=\"722.8125pt\" xmlns=\"http://www.w3.org/2000/svg\" xmlns:xlink=\"http://www.w3.org/1999/xlink\">\n <defs>\n  <style type=\"text/css\">\n*{stroke-linecap:butt;stroke-linejoin:round;}\n  </style>\n </defs>\n <g id=\"figure_1\">\n  <g id=\"patch_1\">\n   <path d=\"M 0 317.99625 \nL 722.8125 317.99625 \nL 722.8125 0 \nL 0 0 \nz\n\" style=\"fill:none;\"/>\n  </g>\n  <g id=\"axes_1\">\n   <g id=\"patch_2\">\n    <path d=\"M 46.0125 294.118125 \nL 343.6125 294.118125 \nL 343.6125 22.318125 \nL 46.0125 22.318125 \nz\n\" style=\"fill:#ffffff;\"/>\n   </g>\n   <g id=\"PathCollection_1\">\n    <defs>\n     <path d=\"M 0 1.414214 \nC 0.375054 1.414214 0.734797 1.265203 1 1 \nC 1.265203 0.734797 1.414214 0.375054 1.414214 0 \nC 1.414214 -0.375054 1.265203 -0.734797 1 -1 \nC 0.734797 -1.265203 0.375054 -1.414214 0 -1.414214 \nC -0.375054 -1.414214 -0.734797 -1.265203 -1 -1 \nC -1.265203 -0.734797 -1.414214 -0.375054 -1.414214 0 \nC -1.414214 0.375054 -1.265203 0.734797 -1 1 \nC -0.734797 1.265203 -0.375054 1.414214 0 1.414214 \nz\n\" id=\"mb1a8e4bc32\" style=\"stroke:#1f77b4;\"/>\n    </defs>\n    <g clip-path=\"url(#pfe4831d1f6)\">\n     <use style=\"fill:#1f77b4;stroke:#1f77b4;\" x=\"59.539773\" xlink:href=\"#mb1a8e4bc32\" y=\"281.76358\"/>\n     <use style=\"fill:#1f77b4;stroke:#1f77b4;\" x=\"63.350272\" xlink:href=\"#mb1a8e4bc32\" y=\"281.76358\"/>\n     <use style=\"fill:#1f77b4;stroke:#1f77b4;\" x=\"67.160771\" xlink:href=\"#mb1a8e4bc32\" y=\"281.757215\"/>\n     <use style=\"fill:#1f77b4;stroke:#1f77b4;\" x=\"70.971271\" xlink:href=\"#mb1a8e4bc32\" y=\"281.757215\"/>\n     <use style=\"fill:#1f77b4;stroke:#1f77b4;\" x=\"74.78177\" xlink:href=\"#mb1a8e4bc32\" y=\"281.757215\"/>\n     <use style=\"fill:#1f77b4;stroke:#1f77b4;\" x=\"78.59227\" xlink:href=\"#mb1a8e4bc32\" y=\"281.757215\"/>\n     <use style=\"fill:#1f77b4;stroke:#1f77b4;\" x=\"82.402769\" xlink:href=\"#mb1a8e4bc32\" y=\"281.750851\"/>\n     <use style=\"fill:#1f77b4;stroke:#1f77b4;\" x=\"86.213268\" xlink:href=\"#mb1a8e4bc32\" y=\"281.750851\"/>\n     <use style=\"fill:#1f77b4;stroke:#1f77b4;\" x=\"90.023768\" xlink:href=\"#mb1a8e4bc32\" y=\"281.744487\"/>\n     <use style=\"fill:#1f77b4;stroke:#1f77b4;\" x=\"93.834267\" xlink:href=\"#mb1a8e4bc32\" y=\"281.703119\"/>\n     <use style=\"fill:#1f77b4;stroke:#1f77b4;\" x=\"97.644766\" xlink:href=\"#mb1a8e4bc32\" y=\"281.677662\"/>\n     <use style=\"fill:#1f77b4;stroke:#1f77b4;\" x=\"101.455266\" xlink:href=\"#mb1a8e4bc32\" y=\"281.655387\"/>\n     <use style=\"fill:#1f77b4;stroke:#1f77b4;\" x=\"105.265765\" xlink:href=\"#mb1a8e4bc32\" y=\"281.655387\"/>\n     <use style=\"fill:#1f77b4;stroke:#1f77b4;\" x=\"109.076264\" xlink:href=\"#mb1a8e4bc32\" y=\"281.544013\"/>\n     <use style=\"fill:#1f77b4;stroke:#1f77b4;\" x=\"112.886764\" xlink:href=\"#mb1a8e4bc32\" y=\"281.458095\"/>\n     <use style=\"fill:#1f77b4;stroke:#1f77b4;\" x=\"116.697263\" xlink:href=\"#mb1a8e4bc32\" y=\"281.391271\"/>\n     <use style=\"fill:#1f77b4;stroke:#1f77b4;\" x=\"120.507762\" xlink:href=\"#mb1a8e4bc32\" y=\"281.337174\"/>\n     <use style=\"fill:#1f77b4;stroke:#1f77b4;\" x=\"124.318262\" xlink:href=\"#mb1a8e4bc32\" y=\"281.216254\"/>\n     <use style=\"fill:#1f77b4;stroke:#1f77b4;\" x=\"128.128761\" xlink:href=\"#mb1a8e4bc32\" y=\"281.041236\"/>\n     <use style=\"fill:#1f77b4;stroke:#1f77b4;\" x=\"131.939261\" xlink:href=\"#mb1a8e4bc32\" y=\"280.773938\"/>\n     <use style=\"fill:#1f77b4;stroke:#1f77b4;\" x=\"135.74976\" xlink:href=\"#mb1a8e4bc32\" y=\"280.589374\"/>\n     <use style=\"fill:#1f77b4;stroke:#1f77b4;\" x=\"139.560259\" xlink:href=\"#mb1a8e4bc32\" y=\"280.331622\"/>\n     <use style=\"fill:#1f77b4;stroke:#1f77b4;\" x=\"143.370759\" xlink:href=\"#mb1a8e4bc32\" y=\"280.127966\"/>\n     <use style=\"fill:#1f77b4;stroke:#1f77b4;\" x=\"147.181258\" xlink:href=\"#mb1a8e4bc32\" y=\"279.921127\"/>\n     <use style=\"fill:#1f77b4;stroke:#1f77b4;\" x=\"150.991757\" xlink:href=\"#mb1a8e4bc32\" y=\"279.58064\"/>\n     <use style=\"fill:#1f77b4;stroke:#1f77b4;\" x=\"154.802257\" xlink:href=\"#mb1a8e4bc32\" y=\"279.249698\"/>\n     <use style=\"fill:#1f77b4;stroke:#1f77b4;\" x=\"158.612756\" xlink:href=\"#mb1a8e4bc32\" y=\"278.921939\"/>\n     <use style=\"fill:#1f77b4;stroke:#1f77b4;\" x=\"162.423255\" xlink:href=\"#mb1a8e4bc32\" y=\"278.435074\"/>\n     <use style=\"fill:#1f77b4;stroke:#1f77b4;\" x=\"166.233755\" xlink:href=\"#mb1a8e4bc32\" y=\"278.088222\"/>\n    </g>\n   </g>\n   <g id=\"PathCollection_2\">\n    <defs>\n     <path d=\"M 0 1.414214 \nC 0.375054 1.414214 0.734797 1.265203 1 1 \nC 1.265203 0.734797 1.414214 0.375054 1.414214 0 \nC 1.414214 -0.375054 1.265203 -0.734797 1 -1 \nC 0.734797 -1.265203 0.375054 -1.414214 0 -1.414214 \nC -0.375054 -1.414214 -0.734797 -1.265203 -1 -1 \nC -1.265203 -0.734797 -1.414214 -0.375054 -1.414214 0 \nC -1.414214 0.375054 -1.265203 0.734797 -1 1 \nC -0.734797 1.265203 -0.375054 1.414214 0 1.414214 \nz\n\" id=\"me175d1824f\" style=\"stroke:#ff7f0e;\"/>\n    </defs>\n    <g clip-path=\"url(#pfe4831d1f6)\">\n     <use style=\"fill:#ff7f0e;stroke:#ff7f0e;\" x=\"170.044254\" xlink:href=\"#me175d1824f\" y=\"272.332446\"/>\n     <use style=\"fill:#ff7f0e;stroke:#ff7f0e;\" x=\"173.854754\" xlink:href=\"#me175d1824f\" y=\"267.358782\"/>\n     <use style=\"fill:#ff7f0e;stroke:#ff7f0e;\" x=\"177.665253\" xlink:href=\"#me175d1824f\" y=\"267.159293\"/>\n     <use style=\"fill:#ff7f0e;stroke:#ff7f0e;\" x=\"181.475752\" xlink:href=\"#me175d1824f\" y=\"257.349947\"/>\n     <use style=\"fill:#ff7f0e;stroke:#ff7f0e;\" x=\"185.286252\" xlink:href=\"#me175d1824f\" y=\"256.69932\"/>\n     <use style=\"fill:#ff7f0e;stroke:#ff7f0e;\" x=\"189.096751\" xlink:href=\"#me175d1824f\" y=\"254.872177\"/>\n     <use style=\"fill:#ff7f0e;stroke:#ff7f0e;\" x=\"192.90725\" xlink:href=\"#me175d1824f\" y=\"251.014097\"/>\n     <use style=\"fill:#ff7f0e;stroke:#ff7f0e;\" x=\"196.71775\" xlink:href=\"#me175d1824f\" y=\"240.428924\"/>\n     <use style=\"fill:#ff7f0e;stroke:#ff7f0e;\" x=\"200.528249\" xlink:href=\"#me175d1824f\" y=\"235.578012\"/>\n     <use style=\"fill:#ff7f0e;stroke:#ff7f0e;\" x=\"204.338748\" xlink:href=\"#me175d1824f\" y=\"229.71019\"/>\n     <use style=\"fill:#ff7f0e;stroke:#ff7f0e;\" x=\"208.149248\" xlink:href=\"#me175d1824f\" y=\"222.491436\"/>\n     <use style=\"fill:#ff7f0e;stroke:#ff7f0e;\" x=\"211.959747\" xlink:href=\"#me175d1824f\" y=\"199.425326\"/>\n     <use style=\"fill:#ff7f0e;stroke:#ff7f0e;\" x=\"215.770246\" xlink:href=\"#me175d1824f\" y=\"196.718612\"/>\n     <use style=\"fill:#ff7f0e;stroke:#ff7f0e;\" x=\"219.580746\" xlink:href=\"#me175d1824f\" y=\"192.460579\"/>\n     <use style=\"fill:#ff7f0e;stroke:#ff7f0e;\" x=\"223.391245\" xlink:href=\"#me175d1824f\" y=\"192.460579\"/>\n     <use style=\"fill:#ff7f0e;stroke:#ff7f0e;\" x=\"227.201745\" xlink:href=\"#me175d1824f\" y=\"184.896465\"/>\n     <use style=\"fill:#ff7f0e;stroke:#ff7f0e;\" x=\"231.012244\" xlink:href=\"#me175d1824f\" y=\"180.665873\"/>\n     <use style=\"fill:#ff7f0e;stroke:#ff7f0e;\" x=\"234.822743\" xlink:href=\"#me175d1824f\" y=\"133.839576\"/>\n     <use style=\"fill:#ff7f0e;stroke:#ff7f0e;\" x=\"238.633243\" xlink:href=\"#me175d1824f\" y=\"59.485085\"/>\n     <use style=\"fill:#ff7f0e;stroke:#ff7f0e;\" x=\"242.443742\" xlink:href=\"#me175d1824f\" y=\"53.641541\"/>\n     <use style=\"fill:#ff7f0e;stroke:#ff7f0e;\" x=\"246.254241\" xlink:href=\"#me175d1824f\" y=\"49.872419\"/>\n     <use style=\"fill:#ff7f0e;stroke:#ff7f0e;\" x=\"250.064741\" xlink:href=\"#me175d1824f\" y=\"47.067395\"/>\n     <use style=\"fill:#ff7f0e;stroke:#ff7f0e;\" x=\"253.87524\" xlink:href=\"#me175d1824f\" y=\"45.092395\"/>\n     <use style=\"fill:#ff7f0e;stroke:#ff7f0e;\" x=\"257.685739\" xlink:href=\"#me175d1824f\" y=\"34.67267\"/>\n     <use style=\"fill:#ff7f0e;stroke:#ff7f0e;\" x=\"261.496239\" xlink:href=\"#me175d1824f\" y=\"34.67267\"/>\n     <use style=\"fill:#ff7f0e;stroke:#ff7f0e;\" x=\"265.306738\" xlink:href=\"#me175d1824f\" y=\"34.67267\"/>\n     <use style=\"fill:#ff7f0e;stroke:#ff7f0e;\" x=\"269.117238\" xlink:href=\"#me175d1824f\" y=\"34.67267\"/>\n     <use style=\"fill:#ff7f0e;stroke:#ff7f0e;\" x=\"272.927737\" xlink:href=\"#me175d1824f\" y=\"34.67267\"/>\n     <use style=\"fill:#ff7f0e;stroke:#ff7f0e;\" x=\"276.738236\" xlink:href=\"#me175d1824f\" y=\"34.67267\"/>\n     <use style=\"fill:#ff7f0e;stroke:#ff7f0e;\" x=\"280.548736\" xlink:href=\"#me175d1824f\" y=\"34.67267\"/>\n     <use style=\"fill:#ff7f0e;stroke:#ff7f0e;\" x=\"284.359235\" xlink:href=\"#me175d1824f\" y=\"34.67267\"/>\n     <use style=\"fill:#ff7f0e;stroke:#ff7f0e;\" x=\"288.169734\" xlink:href=\"#me175d1824f\" y=\"34.67267\"/>\n     <use style=\"fill:#ff7f0e;stroke:#ff7f0e;\" x=\"291.980234\" xlink:href=\"#me175d1824f\" y=\"34.67267\"/>\n     <use style=\"fill:#ff7f0e;stroke:#ff7f0e;\" x=\"295.790733\" xlink:href=\"#me175d1824f\" y=\"34.67267\"/>\n     <use style=\"fill:#ff7f0e;stroke:#ff7f0e;\" x=\"299.601232\" xlink:href=\"#me175d1824f\" y=\"34.67267\"/>\n     <use style=\"fill:#ff7f0e;stroke:#ff7f0e;\" x=\"303.411732\" xlink:href=\"#me175d1824f\" y=\"34.67267\"/>\n     <use style=\"fill:#ff7f0e;stroke:#ff7f0e;\" x=\"307.222231\" xlink:href=\"#me175d1824f\" y=\"34.67267\"/>\n     <use style=\"fill:#ff7f0e;stroke:#ff7f0e;\" x=\"311.03273\" xlink:href=\"#me175d1824f\" y=\"34.67267\"/>\n     <use style=\"fill:#ff7f0e;stroke:#ff7f0e;\" x=\"314.84323\" xlink:href=\"#me175d1824f\" y=\"34.67267\"/>\n     <use style=\"fill:#ff7f0e;stroke:#ff7f0e;\" x=\"318.653729\" xlink:href=\"#me175d1824f\" y=\"34.67267\"/>\n     <use style=\"fill:#ff7f0e;stroke:#ff7f0e;\" x=\"322.464229\" xlink:href=\"#me175d1824f\" y=\"34.67267\"/>\n     <use style=\"fill:#ff7f0e;stroke:#ff7f0e;\" x=\"326.274728\" xlink:href=\"#me175d1824f\" y=\"34.67267\"/>\n     <use style=\"fill:#ff7f0e;stroke:#ff7f0e;\" x=\"330.085227\" xlink:href=\"#me175d1824f\" y=\"34.67267\"/>\n    </g>\n   </g>\n   <g id=\"PathCollection_3\">\n    <defs>\n     <path d=\"M 0 1.414214 \nC 0.375054 1.414214 0.734797 1.265203 1 1 \nC 1.265203 0.734797 1.414214 0.375054 1.414214 0 \nC 1.414214 -0.375054 1.265203 -0.734797 1 -1 \nC 0.734797 -1.265203 0.375054 -1.414214 0 -1.414214 \nC -0.375054 -1.414214 -0.734797 -1.265203 -1 -1 \nC -1.265203 -0.734797 -1.414214 -0.375054 -1.414214 0 \nC -1.414214 0.375054 -1.265203 0.734797 -1 1 \nC -0.734797 1.265203 -0.375054 1.414214 0 1.414214 \nz\n\" id=\"mf33f990cd4\" style=\"stroke:#2ca02c;\"/>\n    </defs>\n    <g clip-path=\"url(#pfe4831d1f6)\">\n     <use style=\"fill:#2ca02c;stroke:#2ca02c;\" x=\"131.939261\" xlink:href=\"#mf33f990cd4\" y=\"281.757857\"/>\n     <use style=\"fill:#2ca02c;stroke:#2ca02c;\" x=\"135.74976\" xlink:href=\"#mf33f990cd4\" y=\"281.757857\"/>\n     <use style=\"fill:#2ca02c;stroke:#2ca02c;\" x=\"139.560259\" xlink:href=\"#mf33f990cd4\" y=\"281.757857\"/>\n     <use style=\"fill:#2ca02c;stroke:#2ca02c;\" x=\"143.370759\" xlink:href=\"#mf33f990cd4\" y=\"281.757857\"/>\n     <use style=\"fill:#2ca02c;stroke:#2ca02c;\" x=\"147.181258\" xlink:href=\"#mf33f990cd4\" y=\"281.757857\"/>\n     <use style=\"fill:#2ca02c;stroke:#2ca02c;\" x=\"150.991757\" xlink:href=\"#mf33f990cd4\" y=\"281.757857\"/>\n     <use style=\"fill:#2ca02c;stroke:#2ca02c;\" x=\"154.802257\" xlink:href=\"#mf33f990cd4\" y=\"281.757857\"/>\n     <use style=\"fill:#2ca02c;stroke:#2ca02c;\" x=\"158.612756\" xlink:href=\"#mf33f990cd4\" y=\"281.757857\"/>\n     <use style=\"fill:#2ca02c;stroke:#2ca02c;\" x=\"162.423255\" xlink:href=\"#mf33f990cd4\" y=\"279.045695\"/>\n     <use style=\"fill:#2ca02c;stroke:#2ca02c;\" x=\"166.233755\" xlink:href=\"#mf33f990cd4\" y=\"278.914556\"/>\n    </g>\n   </g>\n   <g id=\"matplotlib.axis_1\">\n    <g id=\"xtick_1\">\n     <g id=\"line2d_1\">\n      <defs>\n       <path d=\"M 0 0 \nL 0 3.5 \n\" id=\"m6db9555465\" style=\"stroke:#000000;stroke-width:0.8;\"/>\n      </defs>\n      <g>\n       <use style=\"stroke:#000000;stroke-width:0.8;\" x=\"59.539773\" xlink:href=\"#m6db9555465\" y=\"294.118125\"/>\n      </g>\n     </g>\n     <g id=\"text_1\">\n      <!-- 0 -->\n      <defs>\n       <path d=\"M 31.78125 66.40625 \nQ 24.171875 66.40625 20.328125 58.90625 \nQ 16.5 51.421875 16.5 36.375 \nQ 16.5 21.390625 20.328125 13.890625 \nQ 24.171875 6.390625 31.78125 6.390625 \nQ 39.453125 6.390625 43.28125 13.890625 \nQ 47.125 21.390625 47.125 36.375 \nQ 47.125 51.421875 43.28125 58.90625 \nQ 39.453125 66.40625 31.78125 66.40625 \nz\nM 31.78125 74.21875 \nQ 44.046875 74.21875 50.515625 64.515625 \nQ 56.984375 54.828125 56.984375 36.375 \nQ 56.984375 17.96875 50.515625 8.265625 \nQ 44.046875 -1.421875 31.78125 -1.421875 \nQ 19.53125 -1.421875 13.0625 8.265625 \nQ 6.59375 17.96875 6.59375 36.375 \nQ 6.59375 54.828125 13.0625 64.515625 \nQ 19.53125 74.21875 31.78125 74.21875 \nz\n\" id=\"DejaVuSans-48\"/>\n      </defs>\n      <g transform=\"translate(56.358523 308.716563)scale(0.1 -0.1)\">\n       <use xlink:href=\"#DejaVuSans-48\"/>\n      </g>\n     </g>\n    </g>\n    <g id=\"xtick_2\">\n     <g id=\"line2d_2\">\n      <g>\n       <use style=\"stroke:#000000;stroke-width:0.8;\" x=\"97.644766\" xlink:href=\"#m6db9555465\" y=\"294.118125\"/>\n      </g>\n     </g>\n     <g id=\"text_2\">\n      <!-- 10 -->\n      <defs>\n       <path d=\"M 12.40625 8.296875 \nL 28.515625 8.296875 \nL 28.515625 63.921875 \nL 10.984375 60.40625 \nL 10.984375 69.390625 \nL 28.421875 72.90625 \nL 38.28125 72.90625 \nL 38.28125 8.296875 \nL 54.390625 8.296875 \nL 54.390625 0 \nL 12.40625 0 \nz\n\" id=\"DejaVuSans-49\"/>\n      </defs>\n      <g transform=\"translate(91.282266 308.716563)scale(0.1 -0.1)\">\n       <use xlink:href=\"#DejaVuSans-49\"/>\n       <use x=\"63.623047\" xlink:href=\"#DejaVuSans-48\"/>\n      </g>\n     </g>\n    </g>\n    <g id=\"xtick_3\">\n     <g id=\"line2d_3\">\n      <g>\n       <use style=\"stroke:#000000;stroke-width:0.8;\" x=\"135.74976\" xlink:href=\"#m6db9555465\" y=\"294.118125\"/>\n      </g>\n     </g>\n     <g id=\"text_3\">\n      <!-- 20 -->\n      <defs>\n       <path d=\"M 19.1875 8.296875 \nL 53.609375 8.296875 \nL 53.609375 0 \nL 7.328125 0 \nL 7.328125 8.296875 \nQ 12.9375 14.109375 22.625 23.890625 \nQ 32.328125 33.6875 34.8125 36.53125 \nQ 39.546875 41.84375 41.421875 45.53125 \nQ 43.3125 49.21875 43.3125 52.78125 \nQ 43.3125 58.59375 39.234375 62.25 \nQ 35.15625 65.921875 28.609375 65.921875 \nQ 23.96875 65.921875 18.8125 64.3125 \nQ 13.671875 62.703125 7.8125 59.421875 \nL 7.8125 69.390625 \nQ 13.765625 71.78125 18.9375 73 \nQ 24.125 74.21875 28.421875 74.21875 \nQ 39.75 74.21875 46.484375 68.546875 \nQ 53.21875 62.890625 53.21875 53.421875 \nQ 53.21875 48.921875 51.53125 44.890625 \nQ 49.859375 40.875 45.40625 35.40625 \nQ 44.1875 33.984375 37.640625 27.21875 \nQ 31.109375 20.453125 19.1875 8.296875 \nz\n\" id=\"DejaVuSans-50\"/>\n      </defs>\n      <g transform=\"translate(129.38726 308.716563)scale(0.1 -0.1)\">\n       <use xlink:href=\"#DejaVuSans-50\"/>\n       <use x=\"63.623047\" xlink:href=\"#DejaVuSans-48\"/>\n      </g>\n     </g>\n    </g>\n    <g id=\"xtick_4\">\n     <g id=\"line2d_4\">\n      <g>\n       <use style=\"stroke:#000000;stroke-width:0.8;\" x=\"173.854754\" xlink:href=\"#m6db9555465\" y=\"294.118125\"/>\n      </g>\n     </g>\n     <g id=\"text_4\">\n      <!-- 30 -->\n      <defs>\n       <path d=\"M 40.578125 39.3125 \nQ 47.65625 37.796875 51.625 33 \nQ 55.609375 28.21875 55.609375 21.1875 \nQ 55.609375 10.40625 48.1875 4.484375 \nQ 40.765625 -1.421875 27.09375 -1.421875 \nQ 22.515625 -1.421875 17.65625 -0.515625 \nQ 12.796875 0.390625 7.625 2.203125 \nL 7.625 11.71875 \nQ 11.71875 9.328125 16.59375 8.109375 \nQ 21.484375 6.890625 26.8125 6.890625 \nQ 36.078125 6.890625 40.9375 10.546875 \nQ 45.796875 14.203125 45.796875 21.1875 \nQ 45.796875 27.640625 41.28125 31.265625 \nQ 36.765625 34.90625 28.71875 34.90625 \nL 20.21875 34.90625 \nL 20.21875 43.015625 \nL 29.109375 43.015625 \nQ 36.375 43.015625 40.234375 45.921875 \nQ 44.09375 48.828125 44.09375 54.296875 \nQ 44.09375 59.90625 40.109375 62.90625 \nQ 36.140625 65.921875 28.71875 65.921875 \nQ 24.65625 65.921875 20.015625 65.03125 \nQ 15.375 64.15625 9.8125 62.3125 \nL 9.8125 71.09375 \nQ 15.4375 72.65625 20.34375 73.4375 \nQ 25.25 74.21875 29.59375 74.21875 \nQ 40.828125 74.21875 47.359375 69.109375 \nQ 53.90625 64.015625 53.90625 55.328125 \nQ 53.90625 49.265625 50.4375 45.09375 \nQ 46.96875 40.921875 40.578125 39.3125 \nz\n\" id=\"DejaVuSans-51\"/>\n      </defs>\n      <g transform=\"translate(167.492254 308.716563)scale(0.1 -0.1)\">\n       <use xlink:href=\"#DejaVuSans-51\"/>\n       <use x=\"63.623047\" xlink:href=\"#DejaVuSans-48\"/>\n      </g>\n     </g>\n    </g>\n    <g id=\"xtick_5\">\n     <g id=\"line2d_5\">\n      <g>\n       <use style=\"stroke:#000000;stroke-width:0.8;\" x=\"211.959747\" xlink:href=\"#m6db9555465\" y=\"294.118125\"/>\n      </g>\n     </g>\n     <g id=\"text_5\">\n      <!-- 40 -->\n      <defs>\n       <path d=\"M 37.796875 64.3125 \nL 12.890625 25.390625 \nL 37.796875 25.390625 \nz\nM 35.203125 72.90625 \nL 47.609375 72.90625 \nL 47.609375 25.390625 \nL 58.015625 25.390625 \nL 58.015625 17.1875 \nL 47.609375 17.1875 \nL 47.609375 0 \nL 37.796875 0 \nL 37.796875 17.1875 \nL 4.890625 17.1875 \nL 4.890625 26.703125 \nz\n\" id=\"DejaVuSans-52\"/>\n      </defs>\n      <g transform=\"translate(205.597247 308.716563)scale(0.1 -0.1)\">\n       <use xlink:href=\"#DejaVuSans-52\"/>\n       <use x=\"63.623047\" xlink:href=\"#DejaVuSans-48\"/>\n      </g>\n     </g>\n    </g>\n    <g id=\"xtick_6\">\n     <g id=\"line2d_6\">\n      <g>\n       <use style=\"stroke:#000000;stroke-width:0.8;\" x=\"250.064741\" xlink:href=\"#m6db9555465\" y=\"294.118125\"/>\n      </g>\n     </g>\n     <g id=\"text_6\">\n      <!-- 50 -->\n      <defs>\n       <path d=\"M 10.796875 72.90625 \nL 49.515625 72.90625 \nL 49.515625 64.59375 \nL 19.828125 64.59375 \nL 19.828125 46.734375 \nQ 21.96875 47.46875 24.109375 47.828125 \nQ 26.265625 48.1875 28.421875 48.1875 \nQ 40.625 48.1875 47.75 41.5 \nQ 54.890625 34.8125 54.890625 23.390625 \nQ 54.890625 11.625 47.5625 5.09375 \nQ 40.234375 -1.421875 26.90625 -1.421875 \nQ 22.3125 -1.421875 17.546875 -0.640625 \nQ 12.796875 0.140625 7.71875 1.703125 \nL 7.71875 11.625 \nQ 12.109375 9.234375 16.796875 8.0625 \nQ 21.484375 6.890625 26.703125 6.890625 \nQ 35.15625 6.890625 40.078125 11.328125 \nQ 45.015625 15.765625 45.015625 23.390625 \nQ 45.015625 31 40.078125 35.4375 \nQ 35.15625 39.890625 26.703125 39.890625 \nQ 22.75 39.890625 18.8125 39.015625 \nQ 14.890625 38.140625 10.796875 36.28125 \nz\n\" id=\"DejaVuSans-53\"/>\n      </defs>\n      <g transform=\"translate(243.702241 308.716563)scale(0.1 -0.1)\">\n       <use xlink:href=\"#DejaVuSans-53\"/>\n       <use x=\"63.623047\" xlink:href=\"#DejaVuSans-48\"/>\n      </g>\n     </g>\n    </g>\n    <g id=\"xtick_7\">\n     <g id=\"line2d_7\">\n      <g>\n       <use style=\"stroke:#000000;stroke-width:0.8;\" x=\"288.169734\" xlink:href=\"#m6db9555465\" y=\"294.118125\"/>\n      </g>\n     </g>\n     <g id=\"text_7\">\n      <!-- 60 -->\n      <defs>\n       <path d=\"M 33.015625 40.375 \nQ 26.375 40.375 22.484375 35.828125 \nQ 18.609375 31.296875 18.609375 23.390625 \nQ 18.609375 15.53125 22.484375 10.953125 \nQ 26.375 6.390625 33.015625 6.390625 \nQ 39.65625 6.390625 43.53125 10.953125 \nQ 47.40625 15.53125 47.40625 23.390625 \nQ 47.40625 31.296875 43.53125 35.828125 \nQ 39.65625 40.375 33.015625 40.375 \nz\nM 52.59375 71.296875 \nL 52.59375 62.3125 \nQ 48.875 64.0625 45.09375 64.984375 \nQ 41.3125 65.921875 37.59375 65.921875 \nQ 27.828125 65.921875 22.671875 59.328125 \nQ 17.53125 52.734375 16.796875 39.40625 \nQ 19.671875 43.65625 24.015625 45.921875 \nQ 28.375 48.1875 33.59375 48.1875 \nQ 44.578125 48.1875 50.953125 41.515625 \nQ 57.328125 34.859375 57.328125 23.390625 \nQ 57.328125 12.15625 50.6875 5.359375 \nQ 44.046875 -1.421875 33.015625 -1.421875 \nQ 20.359375 -1.421875 13.671875 8.265625 \nQ 6.984375 17.96875 6.984375 36.375 \nQ 6.984375 53.65625 15.1875 63.9375 \nQ 23.390625 74.21875 37.203125 74.21875 \nQ 40.921875 74.21875 44.703125 73.484375 \nQ 48.484375 72.75 52.59375 71.296875 \nz\n\" id=\"DejaVuSans-54\"/>\n      </defs>\n      <g transform=\"translate(281.807234 308.716563)scale(0.1 -0.1)\">\n       <use xlink:href=\"#DejaVuSans-54\"/>\n       <use x=\"63.623047\" xlink:href=\"#DejaVuSans-48\"/>\n      </g>\n     </g>\n    </g>\n    <g id=\"xtick_8\">\n     <g id=\"line2d_8\">\n      <g>\n       <use style=\"stroke:#000000;stroke-width:0.8;\" x=\"326.274728\" xlink:href=\"#m6db9555465\" y=\"294.118125\"/>\n      </g>\n     </g>\n     <g id=\"text_8\">\n      <!-- 70 -->\n      <defs>\n       <path d=\"M 8.203125 72.90625 \nL 55.078125 72.90625 \nL 55.078125 68.703125 \nL 28.609375 0 \nL 18.3125 0 \nL 43.21875 64.59375 \nL 8.203125 64.59375 \nz\n\" id=\"DejaVuSans-55\"/>\n      </defs>\n      <g transform=\"translate(319.912228 308.716563)scale(0.1 -0.1)\">\n       <use xlink:href=\"#DejaVuSans-55\"/>\n       <use x=\"63.623047\" xlink:href=\"#DejaVuSans-48\"/>\n      </g>\n     </g>\n    </g>\n   </g>\n   <g id=\"matplotlib.axis_2\">\n    <g id=\"ytick_1\">\n     <g id=\"line2d_9\">\n      <defs>\n       <path d=\"M 0 0 \nL -3.5 0 \n\" id=\"m76b432b206\" style=\"stroke:#000000;stroke-width:0.8;\"/>\n      </defs>\n      <g>\n       <use style=\"stroke:#000000;stroke-width:0.8;\" x=\"46.0125\" xlink:href=\"#m76b432b206\" y=\"281.76358\"/>\n      </g>\n     </g>\n     <g id=\"text_9\">\n      <!-- 0 -->\n      <g transform=\"translate(32.65 285.562798)scale(0.1 -0.1)\">\n       <use xlink:href=\"#DejaVuSans-48\"/>\n      </g>\n     </g>\n    </g>\n    <g id=\"ytick_2\">\n     <g id=\"line2d_10\">\n      <g>\n       <use style=\"stroke:#000000;stroke-width:0.8;\" x=\"46.0125\" xlink:href=\"#m76b432b206\" y=\"249.942298\"/>\n      </g>\n     </g>\n     <g id=\"text_10\">\n      <!-- 10000 -->\n      <g transform=\"translate(7.2 253.741517)scale(0.1 -0.1)\">\n       <use xlink:href=\"#DejaVuSans-49\"/>\n       <use x=\"63.623047\" xlink:href=\"#DejaVuSans-48\"/>\n       <use x=\"127.246094\" xlink:href=\"#DejaVuSans-48\"/>\n       <use x=\"190.869141\" xlink:href=\"#DejaVuSans-48\"/>\n       <use x=\"254.492188\" xlink:href=\"#DejaVuSans-48\"/>\n      </g>\n     </g>\n    </g>\n    <g id=\"ytick_3\">\n     <g id=\"line2d_11\">\n      <g>\n       <use style=\"stroke:#000000;stroke-width:0.8;\" x=\"46.0125\" xlink:href=\"#m76b432b206\" y=\"218.121017\"/>\n      </g>\n     </g>\n     <g id=\"text_11\">\n      <!-- 20000 -->\n      <g transform=\"translate(7.2 221.920236)scale(0.1 -0.1)\">\n       <use xlink:href=\"#DejaVuSans-50\"/>\n       <use x=\"63.623047\" xlink:href=\"#DejaVuSans-48\"/>\n       <use x=\"127.246094\" xlink:href=\"#DejaVuSans-48\"/>\n       <use x=\"190.869141\" xlink:href=\"#DejaVuSans-48\"/>\n       <use x=\"254.492188\" xlink:href=\"#DejaVuSans-48\"/>\n      </g>\n     </g>\n    </g>\n    <g id=\"ytick_4\">\n     <g id=\"line2d_12\">\n      <g>\n       <use style=\"stroke:#000000;stroke-width:0.8;\" x=\"46.0125\" xlink:href=\"#m76b432b206\" y=\"186.299736\"/>\n      </g>\n     </g>\n     <g id=\"text_12\">\n      <!-- 30000 -->\n      <g transform=\"translate(7.2 190.098955)scale(0.1 -0.1)\">\n       <use xlink:href=\"#DejaVuSans-51\"/>\n       <use x=\"63.623047\" xlink:href=\"#DejaVuSans-48\"/>\n       <use x=\"127.246094\" xlink:href=\"#DejaVuSans-48\"/>\n       <use x=\"190.869141\" xlink:href=\"#DejaVuSans-48\"/>\n       <use x=\"254.492188\" xlink:href=\"#DejaVuSans-48\"/>\n      </g>\n     </g>\n    </g>\n    <g id=\"ytick_5\">\n     <g id=\"line2d_13\">\n      <g>\n       <use style=\"stroke:#000000;stroke-width:0.8;\" x=\"46.0125\" xlink:href=\"#m76b432b206\" y=\"154.478455\"/>\n      </g>\n     </g>\n     <g id=\"text_13\">\n      <!-- 40000 -->\n      <g transform=\"translate(7.2 158.277674)scale(0.1 -0.1)\">\n       <use xlink:href=\"#DejaVuSans-52\"/>\n       <use x=\"63.623047\" xlink:href=\"#DejaVuSans-48\"/>\n       <use x=\"127.246094\" xlink:href=\"#DejaVuSans-48\"/>\n       <use x=\"190.869141\" xlink:href=\"#DejaVuSans-48\"/>\n       <use x=\"254.492188\" xlink:href=\"#DejaVuSans-48\"/>\n      </g>\n     </g>\n    </g>\n    <g id=\"ytick_6\">\n     <g id=\"line2d_14\">\n      <g>\n       <use style=\"stroke:#000000;stroke-width:0.8;\" x=\"46.0125\" xlink:href=\"#m76b432b206\" y=\"122.657174\"/>\n      </g>\n     </g>\n     <g id=\"text_14\">\n      <!-- 50000 -->\n      <g transform=\"translate(7.2 126.456393)scale(0.1 -0.1)\">\n       <use xlink:href=\"#DejaVuSans-53\"/>\n       <use x=\"63.623047\" xlink:href=\"#DejaVuSans-48\"/>\n       <use x=\"127.246094\" xlink:href=\"#DejaVuSans-48\"/>\n       <use x=\"190.869141\" xlink:href=\"#DejaVuSans-48\"/>\n       <use x=\"254.492188\" xlink:href=\"#DejaVuSans-48\"/>\n      </g>\n     </g>\n    </g>\n    <g id=\"ytick_7\">\n     <g id=\"line2d_15\">\n      <g>\n       <use style=\"stroke:#000000;stroke-width:0.8;\" x=\"46.0125\" xlink:href=\"#m76b432b206\" y=\"90.835893\"/>\n      </g>\n     </g>\n     <g id=\"text_15\">\n      <!-- 60000 -->\n      <g transform=\"translate(7.2 94.635112)scale(0.1 -0.1)\">\n       <use xlink:href=\"#DejaVuSans-54\"/>\n       <use x=\"63.623047\" xlink:href=\"#DejaVuSans-48\"/>\n       <use x=\"127.246094\" xlink:href=\"#DejaVuSans-48\"/>\n       <use x=\"190.869141\" xlink:href=\"#DejaVuSans-48\"/>\n       <use x=\"254.492188\" xlink:href=\"#DejaVuSans-48\"/>\n      </g>\n     </g>\n    </g>\n    <g id=\"ytick_8\">\n     <g id=\"line2d_16\">\n      <g>\n       <use style=\"stroke:#000000;stroke-width:0.8;\" x=\"46.0125\" xlink:href=\"#m76b432b206\" y=\"59.014612\"/>\n      </g>\n     </g>\n     <g id=\"text_16\">\n      <!-- 70000 -->\n      <g transform=\"translate(7.2 62.813831)scale(0.1 -0.1)\">\n       <use xlink:href=\"#DejaVuSans-55\"/>\n       <use x=\"63.623047\" xlink:href=\"#DejaVuSans-48\"/>\n       <use x=\"127.246094\" xlink:href=\"#DejaVuSans-48\"/>\n       <use x=\"190.869141\" xlink:href=\"#DejaVuSans-48\"/>\n       <use x=\"254.492188\" xlink:href=\"#DejaVuSans-48\"/>\n      </g>\n     </g>\n    </g>\n    <g id=\"ytick_9\">\n     <g id=\"line2d_17\">\n      <g>\n       <use style=\"stroke:#000000;stroke-width:0.8;\" x=\"46.0125\" xlink:href=\"#m76b432b206\" y=\"27.193331\"/>\n      </g>\n     </g>\n     <g id=\"text_17\">\n      <!-- 80000 -->\n      <defs>\n       <path d=\"M 31.78125 34.625 \nQ 24.75 34.625 20.71875 30.859375 \nQ 16.703125 27.09375 16.703125 20.515625 \nQ 16.703125 13.921875 20.71875 10.15625 \nQ 24.75 6.390625 31.78125 6.390625 \nQ 38.8125 6.390625 42.859375 10.171875 \nQ 46.921875 13.96875 46.921875 20.515625 \nQ 46.921875 27.09375 42.890625 30.859375 \nQ 38.875 34.625 31.78125 34.625 \nz\nM 21.921875 38.8125 \nQ 15.578125 40.375 12.03125 44.71875 \nQ 8.5 49.078125 8.5 55.328125 \nQ 8.5 64.0625 14.71875 69.140625 \nQ 20.953125 74.21875 31.78125 74.21875 \nQ 42.671875 74.21875 48.875 69.140625 \nQ 55.078125 64.0625 55.078125 55.328125 \nQ 55.078125 49.078125 51.53125 44.71875 \nQ 48 40.375 41.703125 38.8125 \nQ 48.828125 37.15625 52.796875 32.3125 \nQ 56.78125 27.484375 56.78125 20.515625 \nQ 56.78125 9.90625 50.3125 4.234375 \nQ 43.84375 -1.421875 31.78125 -1.421875 \nQ 19.734375 -1.421875 13.25 4.234375 \nQ 6.78125 9.90625 6.78125 20.515625 \nQ 6.78125 27.484375 10.78125 32.3125 \nQ 14.796875 37.15625 21.921875 38.8125 \nz\nM 18.3125 54.390625 \nQ 18.3125 48.734375 21.84375 45.5625 \nQ 25.390625 42.390625 31.78125 42.390625 \nQ 38.140625 42.390625 41.71875 45.5625 \nQ 45.3125 48.734375 45.3125 54.390625 \nQ 45.3125 60.0625 41.71875 63.234375 \nQ 38.140625 66.40625 31.78125 66.40625 \nQ 25.390625 66.40625 21.84375 63.234375 \nQ 18.3125 60.0625 18.3125 54.390625 \nz\n\" id=\"DejaVuSans-56\"/>\n      </defs>\n      <g transform=\"translate(7.2 30.99255)scale(0.1 -0.1)\">\n       <use xlink:href=\"#DejaVuSans-56\"/>\n       <use x=\"63.623047\" xlink:href=\"#DejaVuSans-48\"/>\n       <use x=\"127.246094\" xlink:href=\"#DejaVuSans-48\"/>\n       <use x=\"190.869141\" xlink:href=\"#DejaVuSans-48\"/>\n       <use x=\"254.492188\" xlink:href=\"#DejaVuSans-48\"/>\n      </g>\n     </g>\n    </g>\n   </g>\n   <g id=\"patch_3\">\n    <path d=\"M 46.0125 294.118125 \nL 46.0125 22.318125 \n\" style=\"fill:none;stroke:#000000;stroke-linecap:square;stroke-linejoin:miter;stroke-width:0.8;\"/>\n   </g>\n   <g id=\"patch_4\">\n    <path d=\"M 343.6125 294.118125 \nL 343.6125 22.318125 \n\" style=\"fill:none;stroke:#000000;stroke-linecap:square;stroke-linejoin:miter;stroke-width:0.8;\"/>\n   </g>\n   <g id=\"patch_5\">\n    <path d=\"M 46.0125 294.118125 \nL 343.6125 294.118125 \n\" style=\"fill:none;stroke:#000000;stroke-linecap:square;stroke-linejoin:miter;stroke-width:0.8;\"/>\n   </g>\n   <g id=\"patch_6\">\n    <path d=\"M 46.0125 22.318125 \nL 343.6125 22.318125 \n\" style=\"fill:none;stroke:#000000;stroke-linecap:square;stroke-linejoin:miter;stroke-width:0.8;\"/>\n   </g>\n   <g id=\"text_18\">\n    <!-- Indonesia_nanConfirmed Cases -->\n    <defs>\n     <path d=\"M 9.8125 72.90625 \nL 19.671875 72.90625 \nL 19.671875 0 \nL 9.8125 0 \nz\n\" id=\"DejaVuSans-73\"/>\n     <path d=\"M 54.890625 33.015625 \nL 54.890625 0 \nL 45.90625 0 \nL 45.90625 32.71875 \nQ 45.90625 40.484375 42.875 44.328125 \nQ 39.84375 48.1875 33.796875 48.1875 \nQ 26.515625 48.1875 22.3125 43.546875 \nQ 18.109375 38.921875 18.109375 30.90625 \nL 18.109375 0 \nL 9.078125 0 \nL 9.078125 54.6875 \nL 18.109375 54.6875 \nL 18.109375 46.1875 \nQ 21.34375 51.125 25.703125 53.5625 \nQ 30.078125 56 35.796875 56 \nQ 45.21875 56 50.046875 50.171875 \nQ 54.890625 44.34375 54.890625 33.015625 \nz\n\" id=\"DejaVuSans-110\"/>\n     <path d=\"M 45.40625 46.390625 \nL 45.40625 75.984375 \nL 54.390625 75.984375 \nL 54.390625 0 \nL 45.40625 0 \nL 45.40625 8.203125 \nQ 42.578125 3.328125 38.25 0.953125 \nQ 33.9375 -1.421875 27.875 -1.421875 \nQ 17.96875 -1.421875 11.734375 6.484375 \nQ 5.515625 14.40625 5.515625 27.296875 \nQ 5.515625 40.1875 11.734375 48.09375 \nQ 17.96875 56 27.875 56 \nQ 33.9375 56 38.25 53.625 \nQ 42.578125 51.265625 45.40625 46.390625 \nz\nM 14.796875 27.296875 \nQ 14.796875 17.390625 18.875 11.75 \nQ 22.953125 6.109375 30.078125 6.109375 \nQ 37.203125 6.109375 41.296875 11.75 \nQ 45.40625 17.390625 45.40625 27.296875 \nQ 45.40625 37.203125 41.296875 42.84375 \nQ 37.203125 48.484375 30.078125 48.484375 \nQ 22.953125 48.484375 18.875 42.84375 \nQ 14.796875 37.203125 14.796875 27.296875 \nz\n\" id=\"DejaVuSans-100\"/>\n     <path d=\"M 30.609375 48.390625 \nQ 23.390625 48.390625 19.1875 42.75 \nQ 14.984375 37.109375 14.984375 27.296875 \nQ 14.984375 17.484375 19.15625 11.84375 \nQ 23.34375 6.203125 30.609375 6.203125 \nQ 37.796875 6.203125 41.984375 11.859375 \nQ 46.1875 17.53125 46.1875 27.296875 \nQ 46.1875 37.015625 41.984375 42.703125 \nQ 37.796875 48.390625 30.609375 48.390625 \nz\nM 30.609375 56 \nQ 42.328125 56 49.015625 48.375 \nQ 55.71875 40.765625 55.71875 27.296875 \nQ 55.71875 13.875 49.015625 6.21875 \nQ 42.328125 -1.421875 30.609375 -1.421875 \nQ 18.84375 -1.421875 12.171875 6.21875 \nQ 5.515625 13.875 5.515625 27.296875 \nQ 5.515625 40.765625 12.171875 48.375 \nQ 18.84375 56 30.609375 56 \nz\n\" id=\"DejaVuSans-111\"/>\n     <path d=\"M 56.203125 29.59375 \nL 56.203125 25.203125 \nL 14.890625 25.203125 \nQ 15.484375 15.921875 20.484375 11.0625 \nQ 25.484375 6.203125 34.421875 6.203125 \nQ 39.59375 6.203125 44.453125 7.46875 \nQ 49.3125 8.734375 54.109375 11.28125 \nL 54.109375 2.78125 \nQ 49.265625 0.734375 44.1875 -0.34375 \nQ 39.109375 -1.421875 33.890625 -1.421875 \nQ 20.796875 -1.421875 13.15625 6.1875 \nQ 5.515625 13.8125 5.515625 26.8125 \nQ 5.515625 40.234375 12.765625 48.109375 \nQ 20.015625 56 32.328125 56 \nQ 43.359375 56 49.78125 48.890625 \nQ 56.203125 41.796875 56.203125 29.59375 \nz\nM 47.21875 32.234375 \nQ 47.125 39.59375 43.09375 43.984375 \nQ 39.0625 48.390625 32.421875 48.390625 \nQ 24.90625 48.390625 20.390625 44.140625 \nQ 15.875 39.890625 15.1875 32.171875 \nz\n\" id=\"DejaVuSans-101\"/>\n     <path d=\"M 44.28125 53.078125 \nL 44.28125 44.578125 \nQ 40.484375 46.53125 36.375 47.5 \nQ 32.28125 48.484375 27.875 48.484375 \nQ 21.1875 48.484375 17.84375 46.4375 \nQ 14.5 44.390625 14.5 40.28125 \nQ 14.5 37.15625 16.890625 35.375 \nQ 19.28125 33.59375 26.515625 31.984375 \nL 29.59375 31.296875 \nQ 39.15625 29.25 43.1875 25.515625 \nQ 47.21875 21.78125 47.21875 15.09375 \nQ 47.21875 7.46875 41.1875 3.015625 \nQ 35.15625 -1.421875 24.609375 -1.421875 \nQ 20.21875 -1.421875 15.453125 -0.5625 \nQ 10.6875 0.296875 5.421875 2 \nL 5.421875 11.28125 \nQ 10.40625 8.6875 15.234375 7.390625 \nQ 20.0625 6.109375 24.8125 6.109375 \nQ 31.15625 6.109375 34.5625 8.28125 \nQ 37.984375 10.453125 37.984375 14.40625 \nQ 37.984375 18.0625 35.515625 20.015625 \nQ 33.0625 21.96875 24.703125 23.78125 \nL 21.578125 24.515625 \nQ 13.234375 26.265625 9.515625 29.90625 \nQ 5.8125 33.546875 5.8125 39.890625 \nQ 5.8125 47.609375 11.28125 51.796875 \nQ 16.75 56 26.8125 56 \nQ 31.78125 56 36.171875 55.265625 \nQ 40.578125 54.546875 44.28125 53.078125 \nz\n\" id=\"DejaVuSans-115\"/>\n     <path d=\"M 9.421875 54.6875 \nL 18.40625 54.6875 \nL 18.40625 0 \nL 9.421875 0 \nz\nM 9.421875 75.984375 \nL 18.40625 75.984375 \nL 18.40625 64.59375 \nL 9.421875 64.59375 \nz\n\" id=\"DejaVuSans-105\"/>\n     <path d=\"M 34.28125 27.484375 \nQ 23.390625 27.484375 19.1875 25 \nQ 14.984375 22.515625 14.984375 16.5 \nQ 14.984375 11.71875 18.140625 8.90625 \nQ 21.296875 6.109375 26.703125 6.109375 \nQ 34.1875 6.109375 38.703125 11.40625 \nQ 43.21875 16.703125 43.21875 25.484375 \nL 43.21875 27.484375 \nz\nM 52.203125 31.203125 \nL 52.203125 0 \nL 43.21875 0 \nL 43.21875 8.296875 \nQ 40.140625 3.328125 35.546875 0.953125 \nQ 30.953125 -1.421875 24.3125 -1.421875 \nQ 15.921875 -1.421875 10.953125 3.296875 \nQ 6 8.015625 6 15.921875 \nQ 6 25.140625 12.171875 29.828125 \nQ 18.359375 34.515625 30.609375 34.515625 \nL 43.21875 34.515625 \nL 43.21875 35.40625 \nQ 43.21875 41.609375 39.140625 45 \nQ 35.0625 48.390625 27.6875 48.390625 \nQ 23 48.390625 18.546875 47.265625 \nQ 14.109375 46.140625 10.015625 43.890625 \nL 10.015625 52.203125 \nQ 14.9375 54.109375 19.578125 55.046875 \nQ 24.21875 56 28.609375 56 \nQ 40.484375 56 46.34375 49.84375 \nQ 52.203125 43.703125 52.203125 31.203125 \nz\n\" id=\"DejaVuSans-97\"/>\n     <path d=\"M 50.984375 -16.609375 \nL 50.984375 -23.578125 \nL -0.984375 -23.578125 \nL -0.984375 -16.609375 \nz\n\" id=\"DejaVuSans-95\"/>\n     <path d=\"M 64.40625 67.28125 \nL 64.40625 56.890625 \nQ 59.421875 61.53125 53.78125 63.8125 \nQ 48.140625 66.109375 41.796875 66.109375 \nQ 29.296875 66.109375 22.65625 58.46875 \nQ 16.015625 50.828125 16.015625 36.375 \nQ 16.015625 21.96875 22.65625 14.328125 \nQ 29.296875 6.6875 41.796875 6.6875 \nQ 48.140625 6.6875 53.78125 8.984375 \nQ 59.421875 11.28125 64.40625 15.921875 \nL 64.40625 5.609375 \nQ 59.234375 2.09375 53.4375 0.328125 \nQ 47.65625 -1.421875 41.21875 -1.421875 \nQ 24.65625 -1.421875 15.125 8.703125 \nQ 5.609375 18.84375 5.609375 36.375 \nQ 5.609375 53.953125 15.125 64.078125 \nQ 24.65625 74.21875 41.21875 74.21875 \nQ 47.75 74.21875 53.53125 72.484375 \nQ 59.328125 70.75 64.40625 67.28125 \nz\n\" id=\"DejaVuSans-67\"/>\n     <path d=\"M 37.109375 75.984375 \nL 37.109375 68.5 \nL 28.515625 68.5 \nQ 23.6875 68.5 21.796875 66.546875 \nQ 19.921875 64.59375 19.921875 59.515625 \nL 19.921875 54.6875 \nL 34.71875 54.6875 \nL 34.71875 47.703125 \nL 19.921875 47.703125 \nL 19.921875 0 \nL 10.890625 0 \nL 10.890625 47.703125 \nL 2.296875 47.703125 \nL 2.296875 54.6875 \nL 10.890625 54.6875 \nL 10.890625 58.5 \nQ 10.890625 67.625 15.140625 71.796875 \nQ 19.390625 75.984375 28.609375 75.984375 \nz\n\" id=\"DejaVuSans-102\"/>\n     <path d=\"M 41.109375 46.296875 \nQ 39.59375 47.171875 37.8125 47.578125 \nQ 36.03125 48 33.890625 48 \nQ 26.265625 48 22.1875 43.046875 \nQ 18.109375 38.09375 18.109375 28.8125 \nL 18.109375 0 \nL 9.078125 0 \nL 9.078125 54.6875 \nL 18.109375 54.6875 \nL 18.109375 46.1875 \nQ 20.953125 51.171875 25.484375 53.578125 \nQ 30.03125 56 36.53125 56 \nQ 37.453125 56 38.578125 55.875 \nQ 39.703125 55.765625 41.0625 55.515625 \nz\n\" id=\"DejaVuSans-114\"/>\n     <path d=\"M 52 44.1875 \nQ 55.375 50.25 60.0625 53.125 \nQ 64.75 56 71.09375 56 \nQ 79.640625 56 84.28125 50.015625 \nQ 88.921875 44.046875 88.921875 33.015625 \nL 88.921875 0 \nL 79.890625 0 \nL 79.890625 32.71875 \nQ 79.890625 40.578125 77.09375 44.375 \nQ 74.3125 48.1875 68.609375 48.1875 \nQ 61.625 48.1875 57.5625 43.546875 \nQ 53.515625 38.921875 53.515625 30.90625 \nL 53.515625 0 \nL 44.484375 0 \nL 44.484375 32.71875 \nQ 44.484375 40.625 41.703125 44.40625 \nQ 38.921875 48.1875 33.109375 48.1875 \nQ 26.21875 48.1875 22.15625 43.53125 \nQ 18.109375 38.875 18.109375 30.90625 \nL 18.109375 0 \nL 9.078125 0 \nL 9.078125 54.6875 \nL 18.109375 54.6875 \nL 18.109375 46.1875 \nQ 21.1875 51.21875 25.484375 53.609375 \nQ 29.78125 56 35.6875 56 \nQ 41.65625 56 45.828125 52.96875 \nQ 50 49.953125 52 44.1875 \nz\n\" id=\"DejaVuSans-109\"/>\n     <path id=\"DejaVuSans-32\"/>\n    </defs>\n    <g transform=\"translate(100.648125 16.318125)scale(0.12 -0.12)\">\n     <use xlink:href=\"#DejaVuSans-73\"/>\n     <use x=\"29.492188\" xlink:href=\"#DejaVuSans-110\"/>\n     <use x=\"92.871094\" xlink:href=\"#DejaVuSans-100\"/>\n     <use x=\"156.347656\" xlink:href=\"#DejaVuSans-111\"/>\n     <use x=\"217.529297\" xlink:href=\"#DejaVuSans-110\"/>\n     <use x=\"280.908203\" xlink:href=\"#DejaVuSans-101\"/>\n     <use x=\"342.431641\" xlink:href=\"#DejaVuSans-115\"/>\n     <use x=\"394.53125\" xlink:href=\"#DejaVuSans-105\"/>\n     <use x=\"422.314453\" xlink:href=\"#DejaVuSans-97\"/>\n     <use x=\"483.59375\" xlink:href=\"#DejaVuSans-95\"/>\n     <use x=\"533.59375\" xlink:href=\"#DejaVuSans-110\"/>\n     <use x=\"596.972656\" xlink:href=\"#DejaVuSans-97\"/>\n     <use x=\"658.251953\" xlink:href=\"#DejaVuSans-110\"/>\n     <use x=\"721.630859\" xlink:href=\"#DejaVuSans-67\"/>\n     <use x=\"791.455078\" xlink:href=\"#DejaVuSans-111\"/>\n     <use x=\"852.636719\" xlink:href=\"#DejaVuSans-110\"/>\n     <use x=\"916.015625\" xlink:href=\"#DejaVuSans-102\"/>\n     <use x=\"951.220703\" xlink:href=\"#DejaVuSans-105\"/>\n     <use x=\"979.003906\" xlink:href=\"#DejaVuSans-114\"/>\n     <use x=\"1018.367188\" xlink:href=\"#DejaVuSans-109\"/>\n     <use x=\"1115.779297\" xlink:href=\"#DejaVuSans-101\"/>\n     <use x=\"1177.302734\" xlink:href=\"#DejaVuSans-100\"/>\n     <use x=\"1240.779297\" xlink:href=\"#DejaVuSans-32\"/>\n     <use x=\"1272.566406\" xlink:href=\"#DejaVuSans-67\"/>\n     <use x=\"1342.390625\" xlink:href=\"#DejaVuSans-97\"/>\n     <use x=\"1403.669922\" xlink:href=\"#DejaVuSans-115\"/>\n     <use x=\"1455.769531\" xlink:href=\"#DejaVuSans-101\"/>\n     <use x=\"1517.292969\" xlink:href=\"#DejaVuSans-115\"/>\n    </g>\n   </g>\n   <g id=\"legend_1\">\n    <g id=\"patch_7\">\n     <path d=\"M 53.0125 74.3525 \nL 134.39375 74.3525 \nQ 136.39375 74.3525 136.39375 72.3525 \nL 136.39375 29.318125 \nQ 136.39375 27.318125 134.39375 27.318125 \nL 53.0125 27.318125 \nQ 51.0125 27.318125 51.0125 29.318125 \nL 51.0125 72.3525 \nQ 51.0125 74.3525 53.0125 74.3525 \nz\n\" style=\"fill:#ffffff;opacity:0.8;stroke:#cccccc;stroke-linejoin:miter;\"/>\n    </g>\n    <g id=\"PathCollection_4\">\n     <g>\n      <use style=\"fill:#1f77b4;stroke:#1f77b4;\" x=\"65.0125\" xlink:href=\"#mb1a8e4bc32\" y=\"36.291562\"/>\n     </g>\n    </g>\n    <g id=\"text_19\">\n     <!-- Real Data -->\n     <defs>\n      <path d=\"M 44.390625 34.1875 \nQ 47.5625 33.109375 50.5625 29.59375 \nQ 53.5625 26.078125 56.59375 19.921875 \nL 66.609375 0 \nL 56 0 \nL 46.6875 18.703125 \nQ 43.0625 26.03125 39.671875 28.421875 \nQ 36.28125 30.8125 30.421875 30.8125 \nL 19.671875 30.8125 \nL 19.671875 0 \nL 9.8125 0 \nL 9.8125 72.90625 \nL 32.078125 72.90625 \nQ 44.578125 72.90625 50.734375 67.671875 \nQ 56.890625 62.453125 56.890625 51.90625 \nQ 56.890625 45.015625 53.6875 40.46875 \nQ 50.484375 35.9375 44.390625 34.1875 \nz\nM 19.671875 64.796875 \nL 19.671875 38.921875 \nL 32.078125 38.921875 \nQ 39.203125 38.921875 42.84375 42.21875 \nQ 46.484375 45.515625 46.484375 51.90625 \nQ 46.484375 58.296875 42.84375 61.546875 \nQ 39.203125 64.796875 32.078125 64.796875 \nz\n\" id=\"DejaVuSans-82\"/>\n      <path d=\"M 9.421875 75.984375 \nL 18.40625 75.984375 \nL 18.40625 0 \nL 9.421875 0 \nz\n\" id=\"DejaVuSans-108\"/>\n      <path d=\"M 19.671875 64.796875 \nL 19.671875 8.109375 \nL 31.59375 8.109375 \nQ 46.6875 8.109375 53.6875 14.9375 \nQ 60.6875 21.78125 60.6875 36.53125 \nQ 60.6875 51.171875 53.6875 57.984375 \nQ 46.6875 64.796875 31.59375 64.796875 \nz\nM 9.8125 72.90625 \nL 30.078125 72.90625 \nQ 51.265625 72.90625 61.171875 64.09375 \nQ 71.09375 55.28125 71.09375 36.53125 \nQ 71.09375 17.671875 61.125 8.828125 \nQ 51.171875 0 30.078125 0 \nL 9.8125 0 \nz\n\" id=\"DejaVuSans-68\"/>\n      <path d=\"M 18.3125 70.21875 \nL 18.3125 54.6875 \nL 36.8125 54.6875 \nL 36.8125 47.703125 \nL 18.3125 47.703125 \nL 18.3125 18.015625 \nQ 18.3125 11.328125 20.140625 9.421875 \nQ 21.96875 7.515625 27.59375 7.515625 \nL 36.8125 7.515625 \nL 36.8125 0 \nL 27.59375 0 \nQ 17.1875 0 13.234375 3.875 \nQ 9.28125 7.765625 9.28125 18.015625 \nL 9.28125 47.703125 \nL 2.6875 47.703125 \nL 2.6875 54.6875 \nL 9.28125 54.6875 \nL 9.28125 70.21875 \nz\n\" id=\"DejaVuSans-116\"/>\n     </defs>\n     <g transform=\"translate(83.0125 38.916562)scale(0.1 -0.1)\">\n      <use xlink:href=\"#DejaVuSans-82\"/>\n      <use x=\"64.982422\" xlink:href=\"#DejaVuSans-101\"/>\n      <use x=\"126.505859\" xlink:href=\"#DejaVuSans-97\"/>\n      <use x=\"187.785156\" xlink:href=\"#DejaVuSans-108\"/>\n      <use x=\"215.568359\" xlink:href=\"#DejaVuSans-32\"/>\n      <use x=\"247.355469\" xlink:href=\"#DejaVuSans-68\"/>\n      <use x=\"324.357422\" xlink:href=\"#DejaVuSans-97\"/>\n      <use x=\"385.636719\" xlink:href=\"#DejaVuSans-116\"/>\n      <use x=\"424.845703\" xlink:href=\"#DejaVuSans-97\"/>\n     </g>\n    </g>\n    <g id=\"PathCollection_5\">\n     <g>\n      <use style=\"fill:#ff7f0e;stroke:#ff7f0e;\" x=\"65.0125\" xlink:href=\"#me175d1824f\" y=\"50.969688\"/>\n     </g>\n    </g>\n    <g id=\"text_20\">\n     <!-- Predicted -->\n     <defs>\n      <path d=\"M 19.671875 64.796875 \nL 19.671875 37.40625 \nL 32.078125 37.40625 \nQ 38.96875 37.40625 42.71875 40.96875 \nQ 46.484375 44.53125 46.484375 51.125 \nQ 46.484375 57.671875 42.71875 61.234375 \nQ 38.96875 64.796875 32.078125 64.796875 \nz\nM 9.8125 72.90625 \nL 32.078125 72.90625 \nQ 44.34375 72.90625 50.609375 67.359375 \nQ 56.890625 61.8125 56.890625 51.125 \nQ 56.890625 40.328125 50.609375 34.8125 \nQ 44.34375 29.296875 32.078125 29.296875 \nL 19.671875 29.296875 \nL 19.671875 0 \nL 9.8125 0 \nz\n\" id=\"DejaVuSans-80\"/>\n      <path d=\"M 48.78125 52.59375 \nL 48.78125 44.1875 \nQ 44.96875 46.296875 41.140625 47.34375 \nQ 37.3125 48.390625 33.40625 48.390625 \nQ 24.65625 48.390625 19.8125 42.84375 \nQ 14.984375 37.3125 14.984375 27.296875 \nQ 14.984375 17.28125 19.8125 11.734375 \nQ 24.65625 6.203125 33.40625 6.203125 \nQ 37.3125 6.203125 41.140625 7.25 \nQ 44.96875 8.296875 48.78125 10.40625 \nL 48.78125 2.09375 \nQ 45.015625 0.34375 40.984375 -0.53125 \nQ 36.96875 -1.421875 32.421875 -1.421875 \nQ 20.0625 -1.421875 12.78125 6.34375 \nQ 5.515625 14.109375 5.515625 27.296875 \nQ 5.515625 40.671875 12.859375 48.328125 \nQ 20.21875 56 33.015625 56 \nQ 37.15625 56 41.109375 55.140625 \nQ 45.0625 54.296875 48.78125 52.59375 \nz\n\" id=\"DejaVuSans-99\"/>\n     </defs>\n     <g transform=\"translate(83.0125 53.594688)scale(0.1 -0.1)\">\n      <use xlink:href=\"#DejaVuSans-80\"/>\n      <use x=\"58.552734\" xlink:href=\"#DejaVuSans-114\"/>\n      <use x=\"97.416016\" xlink:href=\"#DejaVuSans-101\"/>\n      <use x=\"158.939453\" xlink:href=\"#DejaVuSans-100\"/>\n      <use x=\"222.416016\" xlink:href=\"#DejaVuSans-105\"/>\n      <use x=\"250.199219\" xlink:href=\"#DejaVuSans-99\"/>\n      <use x=\"305.179688\" xlink:href=\"#DejaVuSans-116\"/>\n      <use x=\"344.388672\" xlink:href=\"#DejaVuSans-101\"/>\n      <use x=\"405.912109\" xlink:href=\"#DejaVuSans-100\"/>\n     </g>\n    </g>\n    <g id=\"PathCollection_6\">\n     <g>\n      <use style=\"fill:#2ca02c;stroke:#2ca02c;\" x=\"65.0125\" xlink:href=\"#mf33f990cd4\" y=\"65.647812\"/>\n     </g>\n    </g>\n    <g id=\"text_21\">\n     <!-- Validation -->\n     <defs>\n      <path d=\"M 28.609375 0 \nL 0.78125 72.90625 \nL 11.078125 72.90625 \nL 34.1875 11.53125 \nL 57.328125 72.90625 \nL 67.578125 72.90625 \nL 39.796875 0 \nz\n\" id=\"DejaVuSans-86\"/>\n     </defs>\n     <g transform=\"translate(83.0125 68.272812)scale(0.1 -0.1)\">\n      <use xlink:href=\"#DejaVuSans-86\"/>\n      <use x=\"60.658203\" xlink:href=\"#DejaVuSans-97\"/>\n      <use x=\"121.9375\" xlink:href=\"#DejaVuSans-108\"/>\n      <use x=\"149.720703\" xlink:href=\"#DejaVuSans-105\"/>\n      <use x=\"177.503906\" xlink:href=\"#DejaVuSans-100\"/>\n      <use x=\"240.980469\" xlink:href=\"#DejaVuSans-97\"/>\n      <use x=\"302.259766\" xlink:href=\"#DejaVuSans-116\"/>\n      <use x=\"341.46875\" xlink:href=\"#DejaVuSans-105\"/>\n      <use x=\"369.251953\" xlink:href=\"#DejaVuSans-111\"/>\n      <use x=\"430.433594\" xlink:href=\"#DejaVuSans-110\"/>\n     </g>\n    </g>\n   </g>\n  </g>\n  <g id=\"axes_2\">\n   <g id=\"patch_8\">\n    <path d=\"M 418.0125 294.118125 \nL 715.6125 294.118125 \nL 715.6125 22.318125 \nL 418.0125 22.318125 \nz\n\" style=\"fill:#ffffff;\"/>\n   </g>\n   <g id=\"PathCollection_7\">\n    <g clip-path=\"url(#p4cbc209ca3)\">\n     <use style=\"fill:#1f77b4;stroke:#1f77b4;\" x=\"431.539773\" xlink:href=\"#mb1a8e4bc32\" y=\"281.76358\"/>\n     <use style=\"fill:#1f77b4;stroke:#1f77b4;\" x=\"435.350272\" xlink:href=\"#mb1a8e4bc32\" y=\"281.76358\"/>\n     <use style=\"fill:#1f77b4;stroke:#1f77b4;\" x=\"439.160771\" xlink:href=\"#mb1a8e4bc32\" y=\"281.76358\"/>\n     <use style=\"fill:#1f77b4;stroke:#1f77b4;\" x=\"442.971271\" xlink:href=\"#mb1a8e4bc32\" y=\"281.76358\"/>\n     <use style=\"fill:#1f77b4;stroke:#1f77b4;\" x=\"446.78177\" xlink:href=\"#mb1a8e4bc32\" y=\"281.76358\"/>\n     <use style=\"fill:#1f77b4;stroke:#1f77b4;\" x=\"450.59227\" xlink:href=\"#mb1a8e4bc32\" y=\"281.76358\"/>\n     <use style=\"fill:#1f77b4;stroke:#1f77b4;\" x=\"454.402769\" xlink:href=\"#mb1a8e4bc32\" y=\"281.76358\"/>\n     <use style=\"fill:#1f77b4;stroke:#1f77b4;\" x=\"458.213268\" xlink:href=\"#mb1a8e4bc32\" y=\"281.76358\"/>\n     <use style=\"fill:#1f77b4;stroke:#1f77b4;\" x=\"462.023768\" xlink:href=\"#mb1a8e4bc32\" y=\"281.76358\"/>\n     <use style=\"fill:#1f77b4;stroke:#1f77b4;\" x=\"465.834267\" xlink:href=\"#mb1a8e4bc32\" y=\"281.76358\"/>\n     <use style=\"fill:#1f77b4;stroke:#1f77b4;\" x=\"469.644766\" xlink:href=\"#mb1a8e4bc32\" y=\"281.76358\"/>\n     <use style=\"fill:#1f77b4;stroke:#1f77b4;\" x=\"473.455266\" xlink:href=\"#mb1a8e4bc32\" y=\"281.721051\"/>\n     <use style=\"fill:#1f77b4;stroke:#1f77b4;\" x=\"477.265765\" xlink:href=\"#mb1a8e4bc32\" y=\"281.721051\"/>\n     <use style=\"fill:#1f77b4;stroke:#1f77b4;\" x=\"481.076264\" xlink:href=\"#mb1a8e4bc32\" y=\"281.593464\"/>\n     <use style=\"fill:#1f77b4;stroke:#1f77b4;\" x=\"484.886764\" xlink:href=\"#mb1a8e4bc32\" y=\"281.550935\"/>\n     <use style=\"fill:#1f77b4;stroke:#1f77b4;\" x=\"488.697263\" xlink:href=\"#mb1a8e4bc32\" y=\"281.550935\"/>\n     <use style=\"fill:#1f77b4;stroke:#1f77b4;\" x=\"492.507762\" xlink:href=\"#mb1a8e4bc32\" y=\"281.550935\"/>\n     <use style=\"fill:#1f77b4;stroke:#1f77b4;\" x=\"496.318262\" xlink:href=\"#mb1a8e4bc32\" y=\"281.550935\"/>\n     <use style=\"fill:#1f77b4;stroke:#1f77b4;\" x=\"500.128761\" xlink:href=\"#mb1a8e4bc32\" y=\"280.955531\"/>\n     <use style=\"fill:#1f77b4;stroke:#1f77b4;\" x=\"503.939261\" xlink:href=\"#mb1a8e4bc32\" y=\"280.700357\"/>\n     <use style=\"fill:#1f77b4;stroke:#1f77b4;\" x=\"507.74976\" xlink:href=\"#mb1a8e4bc32\" y=\"280.402655\"/>\n     <use style=\"fill:#1f77b4;stroke:#1f77b4;\" x=\"511.560259\" xlink:href=\"#mb1a8e4bc32\" y=\"280.147482\"/>\n     <use style=\"fill:#1f77b4;stroke:#1f77b4;\" x=\"515.370759\" xlink:href=\"#mb1a8e4bc32\" y=\"279.722193\"/>\n     <use style=\"fill:#1f77b4;stroke:#1f77b4;\" x=\"519.181258\" xlink:href=\"#mb1a8e4bc32\" y=\"279.679664\"/>\n     <use style=\"fill:#1f77b4;stroke:#1f77b4;\" x=\"522.991757\" xlink:href=\"#mb1a8e4bc32\" y=\"279.42449\"/>\n     <use style=\"fill:#1f77b4;stroke:#1f77b4;\" x=\"526.802257\" xlink:href=\"#mb1a8e4bc32\" y=\"279.296904\"/>\n     <use style=\"fill:#1f77b4;stroke:#1f77b4;\" x=\"530.612756\" xlink:href=\"#mb1a8e4bc32\" y=\"278.446326\"/>\n     <use style=\"fill:#1f77b4;stroke:#1f77b4;\" x=\"534.423255\" xlink:href=\"#mb1a8e4bc32\" y=\"278.063566\"/>\n     <use style=\"fill:#1f77b4;stroke:#1f77b4;\" x=\"538.233755\" xlink:href=\"#mb1a8e4bc32\" y=\"277.425632\"/>\n    </g>\n   </g>\n   <g id=\"PathCollection_8\">\n    <g clip-path=\"url(#p4cbc209ca3)\">\n     <use style=\"fill:#ff7f0e;stroke:#ff7f0e;\" x=\"542.044254\" xlink:href=\"#me175d1824f\" y=\"277.425632\"/>\n     <use style=\"fill:#ff7f0e;stroke:#ff7f0e;\" x=\"545.854754\" xlink:href=\"#me175d1824f\" y=\"277.425632\"/>\n     <use style=\"fill:#ff7f0e;stroke:#ff7f0e;\" x=\"549.665253\" xlink:href=\"#me175d1824f\" y=\"276.154172\"/>\n     <use style=\"fill:#ff7f0e;stroke:#ff7f0e;\" x=\"553.475752\" xlink:href=\"#me175d1824f\" y=\"275.493551\"/>\n     <use style=\"fill:#ff7f0e;stroke:#ff7f0e;\" x=\"557.286252\" xlink:href=\"#me175d1824f\" y=\"273.559543\"/>\n     <use style=\"fill:#ff7f0e;stroke:#ff7f0e;\" x=\"561.096751\" xlink:href=\"#me175d1824f\" y=\"271.184796\"/>\n     <use style=\"fill:#ff7f0e;stroke:#ff7f0e;\" x=\"564.90725\" xlink:href=\"#me175d1824f\" y=\"268.170771\"/>\n     <use style=\"fill:#ff7f0e;stroke:#ff7f0e;\" x=\"568.71775\" xlink:href=\"#me175d1824f\" y=\"263.102426\"/>\n     <use style=\"fill:#ff7f0e;stroke:#ff7f0e;\" x=\"572.528249\" xlink:href=\"#me175d1824f\" y=\"257.249047\"/>\n     <use style=\"fill:#ff7f0e;stroke:#ff7f0e;\" x=\"576.338748\" xlink:href=\"#me175d1824f\" y=\"249.057427\"/>\n     <use style=\"fill:#ff7f0e;stroke:#ff7f0e;\" x=\"580.149248\" xlink:href=\"#me175d1824f\" y=\"227.558428\"/>\n     <use style=\"fill:#ff7f0e;stroke:#ff7f0e;\" x=\"583.959747\" xlink:href=\"#me175d1824f\" y=\"220.622451\"/>\n     <use style=\"fill:#ff7f0e;stroke:#ff7f0e;\" x=\"587.770246\" xlink:href=\"#me175d1824f\" y=\"211.824546\"/>\n     <use style=\"fill:#ff7f0e;stroke:#ff7f0e;\" x=\"591.580746\" xlink:href=\"#me175d1824f\" y=\"210.425744\"/>\n     <use style=\"fill:#ff7f0e;stroke:#ff7f0e;\" x=\"595.391245\" xlink:href=\"#me175d1824f\" y=\"209.527716\"/>\n     <use style=\"fill:#ff7f0e;stroke:#ff7f0e;\" x=\"599.201745\" xlink:href=\"#me175d1824f\" y=\"207.597923\"/>\n     <use style=\"fill:#ff7f0e;stroke:#ff7f0e;\" x=\"603.012244\" xlink:href=\"#me175d1824f\" y=\"156.059957\"/>\n     <use style=\"fill:#ff7f0e;stroke:#ff7f0e;\" x=\"606.822743\" xlink:href=\"#me175d1824f\" y=\"137.216556\"/>\n     <use style=\"fill:#ff7f0e;stroke:#ff7f0e;\" x=\"610.633243\" xlink:href=\"#me175d1824f\" y=\"118.109676\"/>\n     <use style=\"fill:#ff7f0e;stroke:#ff7f0e;\" x=\"614.443742\" xlink:href=\"#me175d1824f\" y=\"94.42384\"/>\n     <use style=\"fill:#ff7f0e;stroke:#ff7f0e;\" x=\"618.254241\" xlink:href=\"#me175d1824f\" y=\"69.090759\"/>\n     <use style=\"fill:#ff7f0e;stroke:#ff7f0e;\" x=\"622.064741\" xlink:href=\"#me175d1824f\" y=\"62.679324\"/>\n     <use style=\"fill:#ff7f0e;stroke:#ff7f0e;\" x=\"625.87524\" xlink:href=\"#me175d1824f\" y=\"38.313334\"/>\n     <use style=\"fill:#ff7f0e;stroke:#ff7f0e;\" x=\"629.685739\" xlink:href=\"#me175d1824f\" y=\"36.605497\"/>\n     <use style=\"fill:#ff7f0e;stroke:#ff7f0e;\" x=\"633.496239\" xlink:href=\"#me175d1824f\" y=\"34.971226\"/>\n     <use style=\"fill:#ff7f0e;stroke:#ff7f0e;\" x=\"637.306738\" xlink:href=\"#me175d1824f\" y=\"34.67267\"/>\n     <use style=\"fill:#ff7f0e;stroke:#ff7f0e;\" x=\"641.117238\" xlink:href=\"#me175d1824f\" y=\"34.67267\"/>\n     <use style=\"fill:#ff7f0e;stroke:#ff7f0e;\" x=\"644.927737\" xlink:href=\"#me175d1824f\" y=\"34.67267\"/>\n     <use style=\"fill:#ff7f0e;stroke:#ff7f0e;\" x=\"648.738236\" xlink:href=\"#me175d1824f\" y=\"34.67267\"/>\n     <use style=\"fill:#ff7f0e;stroke:#ff7f0e;\" x=\"652.548736\" xlink:href=\"#me175d1824f\" y=\"34.67267\"/>\n     <use style=\"fill:#ff7f0e;stroke:#ff7f0e;\" x=\"656.359235\" xlink:href=\"#me175d1824f\" y=\"34.67267\"/>\n     <use style=\"fill:#ff7f0e;stroke:#ff7f0e;\" x=\"660.169734\" xlink:href=\"#me175d1824f\" y=\"34.67267\"/>\n     <use style=\"fill:#ff7f0e;stroke:#ff7f0e;\" x=\"663.980234\" xlink:href=\"#me175d1824f\" y=\"34.67267\"/>\n     <use style=\"fill:#ff7f0e;stroke:#ff7f0e;\" x=\"667.790733\" xlink:href=\"#me175d1824f\" y=\"34.67267\"/>\n     <use style=\"fill:#ff7f0e;stroke:#ff7f0e;\" x=\"671.601232\" xlink:href=\"#me175d1824f\" y=\"34.67267\"/>\n     <use style=\"fill:#ff7f0e;stroke:#ff7f0e;\" x=\"675.411732\" xlink:href=\"#me175d1824f\" y=\"34.67267\"/>\n     <use style=\"fill:#ff7f0e;stroke:#ff7f0e;\" x=\"679.222231\" xlink:href=\"#me175d1824f\" y=\"34.67267\"/>\n     <use style=\"fill:#ff7f0e;stroke:#ff7f0e;\" x=\"683.03273\" xlink:href=\"#me175d1824f\" y=\"34.67267\"/>\n     <use style=\"fill:#ff7f0e;stroke:#ff7f0e;\" x=\"686.84323\" xlink:href=\"#me175d1824f\" y=\"34.67267\"/>\n     <use style=\"fill:#ff7f0e;stroke:#ff7f0e;\" x=\"690.653729\" xlink:href=\"#me175d1824f\" y=\"34.67267\"/>\n     <use style=\"fill:#ff7f0e;stroke:#ff7f0e;\" x=\"694.464229\" xlink:href=\"#me175d1824f\" y=\"34.67267\"/>\n     <use style=\"fill:#ff7f0e;stroke:#ff7f0e;\" x=\"698.274728\" xlink:href=\"#me175d1824f\" y=\"34.67267\"/>\n     <use style=\"fill:#ff7f0e;stroke:#ff7f0e;\" x=\"702.085227\" xlink:href=\"#me175d1824f\" y=\"34.67267\"/>\n    </g>\n   </g>\n   <g id=\"PathCollection_9\">\n    <g clip-path=\"url(#p4cbc209ca3)\">\n     <use style=\"fill:#2ca02c;stroke:#2ca02c;\" x=\"503.939261\" xlink:href=\"#mf33f990cd4\" y=\"281.762392\"/>\n     <use style=\"fill:#2ca02c;stroke:#2ca02c;\" x=\"507.74976\" xlink:href=\"#mf33f990cd4\" y=\"281.762392\"/>\n     <use style=\"fill:#2ca02c;stroke:#2ca02c;\" x=\"511.560259\" xlink:href=\"#mf33f990cd4\" y=\"281.762392\"/>\n     <use style=\"fill:#2ca02c;stroke:#2ca02c;\" x=\"515.370759\" xlink:href=\"#mf33f990cd4\" y=\"281.762392\"/>\n     <use style=\"fill:#2ca02c;stroke:#2ca02c;\" x=\"519.181258\" xlink:href=\"#mf33f990cd4\" y=\"281.762392\"/>\n     <use style=\"fill:#2ca02c;stroke:#2ca02c;\" x=\"522.991757\" xlink:href=\"#mf33f990cd4\" y=\"281.762392\"/>\n     <use style=\"fill:#2ca02c;stroke:#2ca02c;\" x=\"526.802257\" xlink:href=\"#mf33f990cd4\" y=\"281.762392\"/>\n     <use style=\"fill:#2ca02c;stroke:#2ca02c;\" x=\"530.612756\" xlink:href=\"#mf33f990cd4\" y=\"281.762392\"/>\n     <use style=\"fill:#2ca02c;stroke:#2ca02c;\" x=\"534.423255\" xlink:href=\"#mf33f990cd4\" y=\"281.627958\"/>\n     <use style=\"fill:#2ca02c;stroke:#2ca02c;\" x=\"538.233755\" xlink:href=\"#mf33f990cd4\" y=\"281.577129\"/>\n    </g>\n   </g>\n   <g id=\"matplotlib.axis_3\">\n    <g id=\"xtick_9\">\n     <g id=\"line2d_18\">\n      <g>\n       <use style=\"stroke:#000000;stroke-width:0.8;\" x=\"431.539773\" xlink:href=\"#m6db9555465\" y=\"294.118125\"/>\n      </g>\n     </g>\n     <g id=\"text_22\">\n      <!-- 0 -->\n      <g transform=\"translate(428.358523 308.716563)scale(0.1 -0.1)\">\n       <use xlink:href=\"#DejaVuSans-48\"/>\n      </g>\n     </g>\n    </g>\n    <g id=\"xtick_10\">\n     <g id=\"line2d_19\">\n      <g>\n       <use style=\"stroke:#000000;stroke-width:0.8;\" x=\"469.644766\" xlink:href=\"#m6db9555465\" y=\"294.118125\"/>\n      </g>\n     </g>\n     <g id=\"text_23\">\n      <!-- 10 -->\n      <g transform=\"translate(463.282266 308.716563)scale(0.1 -0.1)\">\n       <use xlink:href=\"#DejaVuSans-49\"/>\n       <use x=\"63.623047\" xlink:href=\"#DejaVuSans-48\"/>\n      </g>\n     </g>\n    </g>\n    <g id=\"xtick_11\">\n     <g id=\"line2d_20\">\n      <g>\n       <use style=\"stroke:#000000;stroke-width:0.8;\" x=\"507.74976\" xlink:href=\"#m6db9555465\" y=\"294.118125\"/>\n      </g>\n     </g>\n     <g id=\"text_24\">\n      <!-- 20 -->\n      <g transform=\"translate(501.38726 308.716563)scale(0.1 -0.1)\">\n       <use xlink:href=\"#DejaVuSans-50\"/>\n       <use x=\"63.623047\" xlink:href=\"#DejaVuSans-48\"/>\n      </g>\n     </g>\n    </g>\n    <g id=\"xtick_12\">\n     <g id=\"line2d_21\">\n      <g>\n       <use style=\"stroke:#000000;stroke-width:0.8;\" x=\"545.854754\" xlink:href=\"#m6db9555465\" y=\"294.118125\"/>\n      </g>\n     </g>\n     <g id=\"text_25\">\n      <!-- 30 -->\n      <g transform=\"translate(539.492254 308.716563)scale(0.1 -0.1)\">\n       <use xlink:href=\"#DejaVuSans-51\"/>\n       <use x=\"63.623047\" xlink:href=\"#DejaVuSans-48\"/>\n      </g>\n     </g>\n    </g>\n    <g id=\"xtick_13\">\n     <g id=\"line2d_22\">\n      <g>\n       <use style=\"stroke:#000000;stroke-width:0.8;\" x=\"583.959747\" xlink:href=\"#m6db9555465\" y=\"294.118125\"/>\n      </g>\n     </g>\n     <g id=\"text_26\">\n      <!-- 40 -->\n      <g transform=\"translate(577.597247 308.716563)scale(0.1 -0.1)\">\n       <use xlink:href=\"#DejaVuSans-52\"/>\n       <use x=\"63.623047\" xlink:href=\"#DejaVuSans-48\"/>\n      </g>\n     </g>\n    </g>\n    <g id=\"xtick_14\">\n     <g id=\"line2d_23\">\n      <g>\n       <use style=\"stroke:#000000;stroke-width:0.8;\" x=\"622.064741\" xlink:href=\"#m6db9555465\" y=\"294.118125\"/>\n      </g>\n     </g>\n     <g id=\"text_27\">\n      <!-- 50 -->\n      <g transform=\"translate(615.702241 308.716563)scale(0.1 -0.1)\">\n       <use xlink:href=\"#DejaVuSans-53\"/>\n       <use x=\"63.623047\" xlink:href=\"#DejaVuSans-48\"/>\n      </g>\n     </g>\n    </g>\n    <g id=\"xtick_15\">\n     <g id=\"line2d_24\">\n      <g>\n       <use style=\"stroke:#000000;stroke-width:0.8;\" x=\"660.169734\" xlink:href=\"#m6db9555465\" y=\"294.118125\"/>\n      </g>\n     </g>\n     <g id=\"text_28\">\n      <!-- 60 -->\n      <g transform=\"translate(653.807234 308.716563)scale(0.1 -0.1)\">\n       <use xlink:href=\"#DejaVuSans-54\"/>\n       <use x=\"63.623047\" xlink:href=\"#DejaVuSans-48\"/>\n      </g>\n     </g>\n    </g>\n    <g id=\"xtick_16\">\n     <g id=\"line2d_25\">\n      <g>\n       <use style=\"stroke:#000000;stroke-width:0.8;\" x=\"698.274728\" xlink:href=\"#m6db9555465\" y=\"294.118125\"/>\n      </g>\n     </g>\n     <g id=\"text_29\">\n      <!-- 70 -->\n      <g transform=\"translate(691.912228 308.716563)scale(0.1 -0.1)\">\n       <use xlink:href=\"#DejaVuSans-55\"/>\n       <use x=\"63.623047\" xlink:href=\"#DejaVuSans-48\"/>\n      </g>\n     </g>\n    </g>\n   </g>\n   <g id=\"matplotlib.axis_4\">\n    <g id=\"ytick_10\">\n     <g id=\"line2d_26\">\n      <g>\n       <use style=\"stroke:#000000;stroke-width:0.8;\" x=\"418.0125\" xlink:href=\"#m76b432b206\" y=\"281.76358\"/>\n      </g>\n     </g>\n     <g id=\"text_30\">\n      <!-- 0 -->\n      <g transform=\"translate(404.65 285.562798)scale(0.1 -0.1)\">\n       <use xlink:href=\"#DejaVuSans-48\"/>\n      </g>\n     </g>\n    </g>\n    <g id=\"ytick_11\">\n     <g id=\"line2d_27\">\n      <g>\n       <use style=\"stroke:#000000;stroke-width:0.8;\" x=\"418.0125\" xlink:href=\"#m76b432b206\" y=\"239.234687\"/>\n      </g>\n     </g>\n     <g id=\"text_31\">\n      <!-- 1000 -->\n      <g transform=\"translate(385.5625 243.033905)scale(0.1 -0.1)\">\n       <use xlink:href=\"#DejaVuSans-49\"/>\n       <use x=\"63.623047\" xlink:href=\"#DejaVuSans-48\"/>\n       <use x=\"127.246094\" xlink:href=\"#DejaVuSans-48\"/>\n       <use x=\"190.869141\" xlink:href=\"#DejaVuSans-48\"/>\n      </g>\n     </g>\n    </g>\n    <g id=\"ytick_12\">\n     <g id=\"line2d_28\">\n      <g>\n       <use style=\"stroke:#000000;stroke-width:0.8;\" x=\"418.0125\" xlink:href=\"#m76b432b206\" y=\"196.705794\"/>\n      </g>\n     </g>\n     <g id=\"text_32\">\n      <!-- 2000 -->\n      <g transform=\"translate(385.5625 200.505012)scale(0.1 -0.1)\">\n       <use xlink:href=\"#DejaVuSans-50\"/>\n       <use x=\"63.623047\" xlink:href=\"#DejaVuSans-48\"/>\n       <use x=\"127.246094\" xlink:href=\"#DejaVuSans-48\"/>\n       <use x=\"190.869141\" xlink:href=\"#DejaVuSans-48\"/>\n      </g>\n     </g>\n    </g>\n    <g id=\"ytick_13\">\n     <g id=\"line2d_29\">\n      <g>\n       <use style=\"stroke:#000000;stroke-width:0.8;\" x=\"418.0125\" xlink:href=\"#m76b432b206\" y=\"154.176901\"/>\n      </g>\n     </g>\n     <g id=\"text_33\">\n      <!-- 3000 -->\n      <g transform=\"translate(385.5625 157.976119)scale(0.1 -0.1)\">\n       <use xlink:href=\"#DejaVuSans-51\"/>\n       <use x=\"63.623047\" xlink:href=\"#DejaVuSans-48\"/>\n       <use x=\"127.246094\" xlink:href=\"#DejaVuSans-48\"/>\n       <use x=\"190.869141\" xlink:href=\"#DejaVuSans-48\"/>\n      </g>\n     </g>\n    </g>\n    <g id=\"ytick_14\">\n     <g id=\"line2d_30\">\n      <g>\n       <use style=\"stroke:#000000;stroke-width:0.8;\" x=\"418.0125\" xlink:href=\"#m76b432b206\" y=\"111.648007\"/>\n      </g>\n     </g>\n     <g id=\"text_34\">\n      <!-- 4000 -->\n      <g transform=\"translate(385.5625 115.447226)scale(0.1 -0.1)\">\n       <use xlink:href=\"#DejaVuSans-52\"/>\n       <use x=\"63.623047\" xlink:href=\"#DejaVuSans-48\"/>\n       <use x=\"127.246094\" xlink:href=\"#DejaVuSans-48\"/>\n       <use x=\"190.869141\" xlink:href=\"#DejaVuSans-48\"/>\n      </g>\n     </g>\n    </g>\n    <g id=\"ytick_15\">\n     <g id=\"line2d_31\">\n      <g>\n       <use style=\"stroke:#000000;stroke-width:0.8;\" x=\"418.0125\" xlink:href=\"#m76b432b206\" y=\"69.119114\"/>\n      </g>\n     </g>\n     <g id=\"text_35\">\n      <!-- 5000 -->\n      <g transform=\"translate(385.5625 72.918333)scale(0.1 -0.1)\">\n       <use xlink:href=\"#DejaVuSans-53\"/>\n       <use x=\"63.623047\" xlink:href=\"#DejaVuSans-48\"/>\n       <use x=\"127.246094\" xlink:href=\"#DejaVuSans-48\"/>\n       <use x=\"190.869141\" xlink:href=\"#DejaVuSans-48\"/>\n      </g>\n     </g>\n    </g>\n    <g id=\"ytick_16\">\n     <g id=\"line2d_32\">\n      <g>\n       <use style=\"stroke:#000000;stroke-width:0.8;\" x=\"418.0125\" xlink:href=\"#m76b432b206\" y=\"26.590221\"/>\n      </g>\n     </g>\n     <g id=\"text_36\">\n      <!-- 6000 -->\n      <g transform=\"translate(385.5625 30.38944)scale(0.1 -0.1)\">\n       <use xlink:href=\"#DejaVuSans-54\"/>\n       <use x=\"63.623047\" xlink:href=\"#DejaVuSans-48\"/>\n       <use x=\"127.246094\" xlink:href=\"#DejaVuSans-48\"/>\n       <use x=\"190.869141\" xlink:href=\"#DejaVuSans-48\"/>\n      </g>\n     </g>\n    </g>\n   </g>\n   <g id=\"patch_9\">\n    <path d=\"M 418.0125 294.118125 \nL 418.0125 22.318125 \n\" style=\"fill:none;stroke:#000000;stroke-linecap:square;stroke-linejoin:miter;stroke-width:0.8;\"/>\n   </g>\n   <g id=\"patch_10\">\n    <path d=\"M 715.6125 294.118125 \nL 715.6125 22.318125 \n\" style=\"fill:none;stroke:#000000;stroke-linecap:square;stroke-linejoin:miter;stroke-width:0.8;\"/>\n   </g>\n   <g id=\"patch_11\">\n    <path d=\"M 418.0125 294.118125 \nL 715.6125 294.118125 \n\" style=\"fill:none;stroke:#000000;stroke-linecap:square;stroke-linejoin:miter;stroke-width:0.8;\"/>\n   </g>\n   <g id=\"patch_12\">\n    <path d=\"M 418.0125 22.318125 \nL 715.6125 22.318125 \n\" style=\"fill:none;stroke:#000000;stroke-linecap:square;stroke-linejoin:miter;stroke-width:0.8;\"/>\n   </g>\n   <g id=\"text_37\">\n    <!-- Indonesia_nanFatalities -->\n    <defs>\n     <path d=\"M 9.8125 72.90625 \nL 51.703125 72.90625 \nL 51.703125 64.59375 \nL 19.671875 64.59375 \nL 19.671875 43.109375 \nL 48.578125 43.109375 \nL 48.578125 34.8125 \nL 19.671875 34.8125 \nL 19.671875 0 \nL 9.8125 0 \nz\n\" id=\"DejaVuSans-70\"/>\n    </defs>\n    <g transform=\"translate(496.734375 16.318125)scale(0.12 -0.12)\">\n     <use xlink:href=\"#DejaVuSans-73\"/>\n     <use x=\"29.492188\" xlink:href=\"#DejaVuSans-110\"/>\n     <use x=\"92.871094\" xlink:href=\"#DejaVuSans-100\"/>\n     <use x=\"156.347656\" xlink:href=\"#DejaVuSans-111\"/>\n     <use x=\"217.529297\" xlink:href=\"#DejaVuSans-110\"/>\n     <use x=\"280.908203\" xlink:href=\"#DejaVuSans-101\"/>\n     <use x=\"342.431641\" xlink:href=\"#DejaVuSans-115\"/>\n     <use x=\"394.53125\" xlink:href=\"#DejaVuSans-105\"/>\n     <use x=\"422.314453\" xlink:href=\"#DejaVuSans-97\"/>\n     <use x=\"483.59375\" xlink:href=\"#DejaVuSans-95\"/>\n     <use x=\"533.59375\" xlink:href=\"#DejaVuSans-110\"/>\n     <use x=\"596.972656\" xlink:href=\"#DejaVuSans-97\"/>\n     <use x=\"658.251953\" xlink:href=\"#DejaVuSans-110\"/>\n     <use x=\"721.630859\" xlink:href=\"#DejaVuSans-70\"/>\n     <use x=\"770.025391\" xlink:href=\"#DejaVuSans-97\"/>\n     <use x=\"831.304688\" xlink:href=\"#DejaVuSans-116\"/>\n     <use x=\"870.513672\" xlink:href=\"#DejaVuSans-97\"/>\n     <use x=\"931.792969\" xlink:href=\"#DejaVuSans-108\"/>\n     <use x=\"959.576172\" xlink:href=\"#DejaVuSans-105\"/>\n     <use x=\"987.359375\" xlink:href=\"#DejaVuSans-116\"/>\n     <use x=\"1026.568359\" xlink:href=\"#DejaVuSans-105\"/>\n     <use x=\"1054.351562\" xlink:href=\"#DejaVuSans-101\"/>\n     <use x=\"1115.875\" xlink:href=\"#DejaVuSans-115\"/>\n    </g>\n   </g>\n   <g id=\"legend_2\">\n    <g id=\"patch_13\">\n     <path d=\"M 425.0125 74.3525 \nL 506.39375 74.3525 \nQ 508.39375 74.3525 508.39375 72.3525 \nL 508.39375 29.318125 \nQ 508.39375 27.318125 506.39375 27.318125 \nL 425.0125 27.318125 \nQ 423.0125 27.318125 423.0125 29.318125 \nL 423.0125 72.3525 \nQ 423.0125 74.3525 425.0125 74.3525 \nz\n\" style=\"fill:#ffffff;opacity:0.8;stroke:#cccccc;stroke-linejoin:miter;\"/>\n    </g>\n    <g id=\"PathCollection_10\">\n     <g>\n      <use style=\"fill:#1f77b4;stroke:#1f77b4;\" x=\"437.0125\" xlink:href=\"#mb1a8e4bc32\" y=\"36.291562\"/>\n     </g>\n    </g>\n    <g id=\"text_38\">\n     <!-- Real Data -->\n     <g transform=\"translate(455.0125 38.916562)scale(0.1 -0.1)\">\n      <use xlink:href=\"#DejaVuSans-82\"/>\n      <use x=\"64.982422\" xlink:href=\"#DejaVuSans-101\"/>\n      <use x=\"126.505859\" xlink:href=\"#DejaVuSans-97\"/>\n      <use x=\"187.785156\" xlink:href=\"#DejaVuSans-108\"/>\n      <use x=\"215.568359\" xlink:href=\"#DejaVuSans-32\"/>\n      <use x=\"247.355469\" xlink:href=\"#DejaVuSans-68\"/>\n      <use x=\"324.357422\" xlink:href=\"#DejaVuSans-97\"/>\n      <use x=\"385.636719\" xlink:href=\"#DejaVuSans-116\"/>\n      <use x=\"424.845703\" xlink:href=\"#DejaVuSans-97\"/>\n     </g>\n    </g>\n    <g id=\"PathCollection_11\">\n     <g>\n      <use style=\"fill:#ff7f0e;stroke:#ff7f0e;\" x=\"437.0125\" xlink:href=\"#me175d1824f\" y=\"50.969688\"/>\n     </g>\n    </g>\n    <g id=\"text_39\">\n     <!-- Predicted -->\n     <g transform=\"translate(455.0125 53.594688)scale(0.1 -0.1)\">\n      <use xlink:href=\"#DejaVuSans-80\"/>\n      <use x=\"58.552734\" xlink:href=\"#DejaVuSans-114\"/>\n      <use x=\"97.416016\" xlink:href=\"#DejaVuSans-101\"/>\n      <use x=\"158.939453\" xlink:href=\"#DejaVuSans-100\"/>\n      <use x=\"222.416016\" xlink:href=\"#DejaVuSans-105\"/>\n      <use x=\"250.199219\" xlink:href=\"#DejaVuSans-99\"/>\n      <use x=\"305.179688\" xlink:href=\"#DejaVuSans-116\"/>\n      <use x=\"344.388672\" xlink:href=\"#DejaVuSans-101\"/>\n      <use x=\"405.912109\" xlink:href=\"#DejaVuSans-100\"/>\n     </g>\n    </g>\n    <g id=\"PathCollection_12\">\n     <g>\n      <use style=\"fill:#2ca02c;stroke:#2ca02c;\" x=\"437.0125\" xlink:href=\"#mf33f990cd4\" y=\"65.647812\"/>\n     </g>\n    </g>\n    <g id=\"text_40\">\n     <!-- Validation -->\n     <g transform=\"translate(455.0125 68.272812)scale(0.1 -0.1)\">\n      <use xlink:href=\"#DejaVuSans-86\"/>\n      <use x=\"60.658203\" xlink:href=\"#DejaVuSans-97\"/>\n      <use x=\"121.9375\" xlink:href=\"#DejaVuSans-108\"/>\n      <use x=\"149.720703\" xlink:href=\"#DejaVuSans-105\"/>\n      <use x=\"177.503906\" xlink:href=\"#DejaVuSans-100\"/>\n      <use x=\"240.980469\" xlink:href=\"#DejaVuSans-97\"/>\n      <use x=\"302.259766\" xlink:href=\"#DejaVuSans-116\"/>\n      <use x=\"341.46875\" xlink:href=\"#DejaVuSans-105\"/>\n      <use x=\"369.251953\" xlink:href=\"#DejaVuSans-111\"/>\n      <use x=\"430.433594\" xlink:href=\"#DejaVuSans-110\"/>\n     </g>\n    </g>\n   </g>\n  </g>\n </g>\n <defs>\n  <clipPath id=\"pfe4831d1f6\">\n   <rect height=\"271.8\" width=\"297.6\" x=\"46.0125\" y=\"22.318125\"/>\n  </clipPath>\n  <clipPath id=\"p4cbc209ca3\">\n   <rect height=\"271.8\" width=\"297.6\" x=\"418.0125\" y=\"22.318125\"/>\n  </clipPath>\n </defs>\n</svg>\n",
      "image/png": "[encoded data removed]"
     },
     "metadata": {
      "needs_background": "light"
     }
    }
   ],
   "source": [
    "sz = 8\n",
    "gs  = gridspec.GridSpec(1, 2, width_ratios=[1, 1],wspace=0.25)\n",
    "fig = plt.figure(figsize=(12,5))\n",
    "ax1 = fig.add_subplot(gs[0,0])\n",
    "ax2 = fig.add_subplot(gs[0,1])\n",
    "if(USE_LOG_SCALE):\n",
    "    ax1.set_yscale('log')\n",
    "    ax2.set_yscale('log')\n",
    "ax1.scatter(x_[:N],np.exp(Y[mask][\"ConfirmedCases\"])-1, label=\"Real Data\",s=sz)\n",
    "ax1.scatter(x_[N:],predicted_confirmed_cases, label=\"Predicted\",s=sz)\n",
    "ax1.scatter(x_[N-num_validation_days:N],validation_confirmed_cases,label=\"Validation\",s=sz)\n",
    "if(PLOT_LINE):\n",
    "    ax1.plot(x_[:N],np.exp(Y[mask][\"ConfirmedCases\"])-1, label=\"Real Data\")\n",
    "    ax1.plot(x_[N:],predicted_confirmed_cases, label=\"Predicted\")\n",
    "    ax1.plot(x_[N-num_validation_days:N],validation_confirmed_cases,label=\"Validation\")\n",
    "ax1.set_title(region+\"Confirmed Cases\")\n",
    "ax1.legend()\n",
    "\n",
    "ax2.scatter(x_[:N],np.exp(Y[mask][\"Fatalities\"])-1, label=\"Real Data\",s=sz)\n",
    "ax2.scatter(x_[N:],predicted_fatalities, label=\"Predicted\",s=sz)\n",
    "ax2.scatter(x_[N-num_validation_days:N],validation_fatalities,label=\"Validation\",s=sz)\n",
    "if(PLOT_LINE):\n",
    "    ax2.plot(x_[:N],np.exp(Y[mask][\"Fatalities\"])-1, label=\"Real Data\")\n",
    "    ax2.plot(x_[N:],predicted_fatalities, label=\"Predicted\")\n",
    "    ax2.plot(x_[N-num_validation_days:N],validation_fatalities,label=\"Validation\")\n",
    "\n",
    "ax2.set_title(region+\"Fatalities\")\n",
    "ax2.legend()\n",
    ""
   ]
  },
  {
   "cell_type": "code",
   "execution_count": 18,
   "metadata": {},
   "outputs": [
    {
     "output_type": "stream",
     "name": "stdout",
     "text": "[ 2963.78181618  4526.78126306  4589.47164315  7672.10880035\n  7876.57143669  8450.760652    9663.18181876 12989.62645945\n 14514.05046806 16358.04343845 18626.57363689 25875.21661291\n 26725.81513795 28063.92376923 28063.92376923 30440.98521689\n 31770.47018173 46485.87317864 69852.15151072 71688.51517004\n 72872.98073503 73754.47392509 74375.12768852 77649.57944455\n 77649.57944455 77649.57944455 77649.57944455 77649.57944455\n 77649.57944455 77649.57944455 77649.57944455 77649.57944455\n 77649.57944455 77649.57944455 77649.57944455 77649.57944455\n 77649.57944455 77649.57944455 77649.57944455 77649.57944455\n 77649.57944455 77649.57944455 77649.57944455]\n"
    }
   ],
   "source": [
    "print(predicted_confirmed_cases)"
   ]
  },
  {
   "cell_type": "markdown",
   "metadata": {},
   "source": [
    "## DUMP PLAYGROUND"
   ]
  },
  {
   "cell_type": "code",
   "execution_count": null,
   "metadata": {},
   "outputs": [],
   "source": [
    "def get_unique_region_list(filename):\n",
    "    df = pd.read_csv(filename)\n",
    "\n",
    "    # Create category called Region: country_province\n",
    "    region_list = [\"{}_{}\".format(df[\"Country_Region\"][i], df[\"Province_State\"][i]) for i in range(df.shape[0])]\n",
    "    df[\"Region\"]=region_list\n",
    "\n",
    "    # Get first day of corona virus for each region\n",
    "    unique_region_list = list(set(region_list))\n",
    "    unique_region_list.sort()\n",
    "    \n",
    "    num_list = [np.sum(np.array(region_list)==region) for region in unique_region_list]\n",
    "    return np.array(unique_region_list),np.array(num_list)"
   ]
  },
  {
   "cell_type": "code",
   "execution_count": null,
   "metadata": {},
   "outputs": [],
   "source": [
    "unique_region_list, unique_num_list = get_unique_region_list(\"data/train.csv\")"
   ]
  },
  {
   "cell_type": "code",
   "execution_count": null,
   "metadata": {},
   "outputs": [],
   "source": [
    "unique_region_list"
   ]
  },
  {
   "cell_type": "code",
   "execution_count": null,
   "metadata": {},
   "outputs": [],
   "source": []
  }
 ],
 "metadata": {
  "kernelspec": {
   "display_name": "Python 3",
   "language": "python",
   "name": "python3"
  },
  "language_info": {
   "codemirror_mode": {
    "name": "ipython",
    "version": 3
   },
   "file_extension": ".py",
   "mimetype": "text/x-python",
   "name": "python",
   "nbconvert_exporter": "python",
   "pygments_lexer": "ipython3",
   "version": "3.6.9-final"
  }
 },
 "nbformat": 4,
 "nbformat_minor": 2
}